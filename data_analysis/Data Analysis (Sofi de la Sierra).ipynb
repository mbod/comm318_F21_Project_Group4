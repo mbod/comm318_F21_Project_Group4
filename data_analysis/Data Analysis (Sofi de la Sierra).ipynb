{
 "cells": [
  {
   "cell_type": "markdown",
   "id": "8426f736",
   "metadata": {},
   "source": [
    "### DATA ANALYSIS PART 1\n",
    "\n",
    "In this notebook, I am going to observe a portion of teh data questions asked in the PEW Charitable Trust survey. I will first examine the regular data, then clean it, and then I will do further exploration with this data."
   ]
  },
  {
   "cell_type": "markdown",
   "id": "52853a15",
   "metadata": {},
   "source": [
    "Pew Charitable Trust survey page: https://www.pewresearch.org/internet/dataset/september-2014-march-2015-teens/"
   ]
  },
  {
   "cell_type": "markdown",
   "id": "4e93277d",
   "metadata": {},
   "source": [
    "### Setup"
   ]
  },
  {
   "cell_type": "code",
   "execution_count": 1,
   "id": "293205bc",
   "metadata": {},
   "outputs": [],
   "source": [
    "import pandas as pd\n",
    "from IPython.display import HTML, Markdown, display\n",
    "import matplotlib.pyplot as plt\n",
    "import seaborn as sns\n",
    "import numpy as np"
   ]
  },
  {
   "cell_type": "markdown",
   "id": "a82398f4",
   "metadata": {},
   "source": [
    "### Load the raw data"
   ]
  },
  {
   "cell_type": "code",
   "execution_count": 2,
   "id": "6c8ea357",
   "metadata": {},
   "outputs": [],
   "source": [
    "dating_df = pd.read_csv('../data/Teen_Dating_Survey.csv')"
   ]
  },
  {
   "cell_type": "markdown",
   "id": "a1b55e81",
   "metadata": {},
   "source": [
    "## DATA FRAME EXAMINATION"
   ]
  },
  {
   "cell_type": "code",
   "execution_count": 3,
   "id": "b8aa6e0f",
   "metadata": {},
   "outputs": [
    {
     "data": {
      "text/html": [
       "<div>\n",
       "<style scoped>\n",
       "    .dataframe tbody tr th:only-of-type {\n",
       "        vertical-align: middle;\n",
       "    }\n",
       "\n",
       "    .dataframe tbody tr th {\n",
       "        vertical-align: top;\n",
       "    }\n",
       "\n",
       "    .dataframe thead th {\n",
       "        text-align: right;\n",
       "    }\n",
       "</style>\n",
       "<table border=\"1\" class=\"dataframe\">\n",
       "  <thead>\n",
       "    <tr style=\"text-align: right;\">\n",
       "      <th></th>\n",
       "      <th>CaseID</th>\n",
       "      <th>par_weight</th>\n",
       "      <th>teen_weight</th>\n",
       "      <th>xspanish</th>\n",
       "      <th>xprimelan</th>\n",
       "      <th>QS1</th>\n",
       "      <th>QS2</th>\n",
       "      <th>P1_A</th>\n",
       "      <th>P1_B</th>\n",
       "      <th>P1_C</th>\n",
       "      <th>...</th>\n",
       "      <th>ppreg9</th>\n",
       "      <th>PPRENT</th>\n",
       "      <th>PPSTATEN</th>\n",
       "      <th>PPT01</th>\n",
       "      <th>PPT25</th>\n",
       "      <th>PPT612</th>\n",
       "      <th>PPT1317</th>\n",
       "      <th>PPT18OV</th>\n",
       "      <th>PPWORK</th>\n",
       "      <th>PPNET</th>\n",
       "    </tr>\n",
       "  </thead>\n",
       "  <tbody>\n",
       "    <tr>\n",
       "      <th>0</th>\n",
       "      <td>5</td>\n",
       "      <td>1.1259</td>\n",
       "      <td>1.0038</td>\n",
       "      <td>2</td>\n",
       "      <td>3</td>\n",
       "      <td>1</td>\n",
       "      <td>1</td>\n",
       "      <td>1</td>\n",
       "      <td>-1</td>\n",
       "      <td>1</td>\n",
       "      <td>...</td>\n",
       "      <td>9.0</td>\n",
       "      <td>2.0</td>\n",
       "      <td>93.0</td>\n",
       "      <td>0.0</td>\n",
       "      <td>0.0</td>\n",
       "      <td>1.0</td>\n",
       "      <td>1.0</td>\n",
       "      <td>2.0</td>\n",
       "      <td>7.0</td>\n",
       "      <td>1.0</td>\n",
       "    </tr>\n",
       "    <tr>\n",
       "      <th>1</th>\n",
       "      <td>9</td>\n",
       "      <td>0.4285</td>\n",
       "      <td>0.2442</td>\n",
       "      <td>2</td>\n",
       "      <td>3</td>\n",
       "      <td>1</td>\n",
       "      <td>1</td>\n",
       "      <td>1</td>\n",
       "      <td>1</td>\n",
       "      <td>1</td>\n",
       "      <td>...</td>\n",
       "      <td>7.0</td>\n",
       "      <td>1.0</td>\n",
       "      <td>74.0</td>\n",
       "      <td>0.0</td>\n",
       "      <td>0.0</td>\n",
       "      <td>0.0</td>\n",
       "      <td>0.0</td>\n",
       "      <td>1.0</td>\n",
       "      <td>5.0</td>\n",
       "      <td>1.0</td>\n",
       "    </tr>\n",
       "    <tr>\n",
       "      <th>2</th>\n",
       "      <td>10</td>\n",
       "      <td>1.2875</td>\n",
       "      <td>1.3604</td>\n",
       "      <td>2</td>\n",
       "      <td>3</td>\n",
       "      <td>1</td>\n",
       "      <td>1</td>\n",
       "      <td>1</td>\n",
       "      <td>2</td>\n",
       "      <td>1</td>\n",
       "      <td>...</td>\n",
       "      <td>NaN</td>\n",
       "      <td>NaN</td>\n",
       "      <td>NaN</td>\n",
       "      <td>NaN</td>\n",
       "      <td>NaN</td>\n",
       "      <td>NaN</td>\n",
       "      <td>NaN</td>\n",
       "      <td>NaN</td>\n",
       "      <td>NaN</td>\n",
       "      <td>NaN</td>\n",
       "    </tr>\n",
       "    <tr>\n",
       "      <th>3</th>\n",
       "      <td>Pinterest</td>\n",
       "      <td></td>\n",
       "      <td></td>\n",
       "      <td></td>\n",
       "      <td></td>\n",
       "      <td>2</td>\n",
       "      <td>1</td>\n",
       "      <td></td>\n",
       "      <td>3</td>\n",
       "      <td></td>\n",
       "      <td>...</td>\n",
       "      <td>NaN</td>\n",
       "      <td>NaN</td>\n",
       "      <td>NaN</td>\n",
       "      <td>NaN</td>\n",
       "      <td>NaN</td>\n",
       "      <td>NaN</td>\n",
       "      <td>NaN</td>\n",
       "      <td>NaN</td>\n",
       "      <td>NaN</td>\n",
       "      <td>NaN</td>\n",
       "    </tr>\n",
       "    <tr>\n",
       "      <th>4</th>\n",
       "      <td>11</td>\n",
       "      <td></td>\n",
       "      <td></td>\n",
       "      <td>2</td>\n",
       "      <td>3</td>\n",
       "      <td>1</td>\n",
       "      <td>1</td>\n",
       "      <td>1</td>\n",
       "      <td>2</td>\n",
       "      <td>2</td>\n",
       "      <td>...</td>\n",
       "      <td>9.0</td>\n",
       "      <td>2.0</td>\n",
       "      <td>93.0</td>\n",
       "      <td>0.0</td>\n",
       "      <td>0.0</td>\n",
       "      <td>2.0</td>\n",
       "      <td>1.0</td>\n",
       "      <td>2.0</td>\n",
       "      <td>7.0</td>\n",
       "      <td>1.0</td>\n",
       "    </tr>\n",
       "    <tr>\n",
       "      <th>...</th>\n",
       "      <td>...</td>\n",
       "      <td>...</td>\n",
       "      <td>...</td>\n",
       "      <td>...</td>\n",
       "      <td>...</td>\n",
       "      <td>...</td>\n",
       "      <td>...</td>\n",
       "      <td>...</td>\n",
       "      <td>...</td>\n",
       "      <td>...</td>\n",
       "      <td>...</td>\n",
       "      <td>...</td>\n",
       "      <td>...</td>\n",
       "      <td>...</td>\n",
       "      <td>...</td>\n",
       "      <td>...</td>\n",
       "      <td>...</td>\n",
       "      <td>...</td>\n",
       "      <td>...</td>\n",
       "      <td>...</td>\n",
       "      <td>...</td>\n",
       "    </tr>\n",
       "    <tr>\n",
       "      <th>1637</th>\n",
       "      <td>2165</td>\n",
       "      <td>0.6804</td>\n",
       "      <td>1.637</td>\n",
       "      <td>1</td>\n",
       "      <td>5</td>\n",
       "      <td>1</td>\n",
       "      <td>1</td>\n",
       "      <td>1</td>\n",
       "      <td>1</td>\n",
       "      <td>1</td>\n",
       "      <td>...</td>\n",
       "      <td>5.0</td>\n",
       "      <td>1.0</td>\n",
       "      <td>52.0</td>\n",
       "      <td>0.0</td>\n",
       "      <td>0.0</td>\n",
       "      <td>0.0</td>\n",
       "      <td>1.0</td>\n",
       "      <td>2.0</td>\n",
       "      <td>1.0</td>\n",
       "      <td>1.0</td>\n",
       "    </tr>\n",
       "    <tr>\n",
       "      <th>1638</th>\n",
       "      <td>2167</td>\n",
       "      <td></td>\n",
       "      <td></td>\n",
       "      <td>1</td>\n",
       "      <td>5</td>\n",
       "      <td>0</td>\n",
       "      <td></td>\n",
       "      <td></td>\n",
       "      <td></td>\n",
       "      <td></td>\n",
       "      <td>...</td>\n",
       "      <td>5.0</td>\n",
       "      <td>2.0</td>\n",
       "      <td>59.0</td>\n",
       "      <td>0.0</td>\n",
       "      <td>0.0</td>\n",
       "      <td>0.0</td>\n",
       "      <td>1.0</td>\n",
       "      <td>2.0</td>\n",
       "      <td>6.0</td>\n",
       "      <td>0.0</td>\n",
       "    </tr>\n",
       "    <tr>\n",
       "      <th>1639</th>\n",
       "      <td>2168</td>\n",
       "      <td>1.0233</td>\n",
       "      <td>2.5532</td>\n",
       "      <td>1</td>\n",
       "      <td>5</td>\n",
       "      <td>1</td>\n",
       "      <td>1</td>\n",
       "      <td>1</td>\n",
       "      <td>2</td>\n",
       "      <td>1</td>\n",
       "      <td>...</td>\n",
       "      <td>3.0</td>\n",
       "      <td>2.0</td>\n",
       "      <td>33.0</td>\n",
       "      <td>0.0</td>\n",
       "      <td>0.0</td>\n",
       "      <td>0.0</td>\n",
       "      <td>1.0</td>\n",
       "      <td>3.0</td>\n",
       "      <td>1.0</td>\n",
       "      <td>1.0</td>\n",
       "    </tr>\n",
       "    <tr>\n",
       "      <th>1640</th>\n",
       "      <td>2170</td>\n",
       "      <td>0.5025</td>\n",
       "      <td>0.1379</td>\n",
       "      <td>1</td>\n",
       "      <td>5</td>\n",
       "      <td>1</td>\n",
       "      <td>1</td>\n",
       "      <td>1</td>\n",
       "      <td>-1</td>\n",
       "      <td>1</td>\n",
       "      <td>...</td>\n",
       "      <td>7.0</td>\n",
       "      <td>1.0</td>\n",
       "      <td>72.0</td>\n",
       "      <td>0.0</td>\n",
       "      <td>0.0</td>\n",
       "      <td>0.0</td>\n",
       "      <td>1.0</td>\n",
       "      <td>2.0</td>\n",
       "      <td>1.0</td>\n",
       "      <td>1.0</td>\n",
       "    </tr>\n",
       "    <tr>\n",
       "      <th>1641</th>\n",
       "      <td>2172</td>\n",
       "      <td></td>\n",
       "      <td></td>\n",
       "      <td>1</td>\n",
       "      <td>5</td>\n",
       "      <td>0</td>\n",
       "      <td></td>\n",
       "      <td></td>\n",
       "      <td></td>\n",
       "      <td></td>\n",
       "      <td>...</td>\n",
       "      <td>5.0</td>\n",
       "      <td>1.0</td>\n",
       "      <td>59.0</td>\n",
       "      <td>0.0</td>\n",
       "      <td>0.0</td>\n",
       "      <td>0.0</td>\n",
       "      <td>1.0</td>\n",
       "      <td>3.0</td>\n",
       "      <td>1.0</td>\n",
       "      <td>1.0</td>\n",
       "    </tr>\n",
       "  </tbody>\n",
       "</table>\n",
       "<p>1642 rows × 318 columns</p>\n",
       "</div>"
      ],
      "text/plain": [
       "         CaseID par_weight teen_weight xspanish xprimelan QS1 QS2 P1_A P1_B  \\\n",
       "0             5     1.1259      1.0038        2         3   1   1    1   -1   \n",
       "1             9     0.4285      0.2442        2         3   1   1    1    1   \n",
       "2            10     1.2875      1.3604        2         3   1   1    1    2   \n",
       "3     Pinterest                                             2   1         3   \n",
       "4            11                               2         3   1   1    1    2   \n",
       "...         ...        ...         ...      ...       ...  ..  ..  ...  ...   \n",
       "1637       2165     0.6804       1.637        1         5   1   1    1    1   \n",
       "1638       2167                               1         5   0                 \n",
       "1639       2168     1.0233      2.5532        1         5   1   1    1    2   \n",
       "1640       2170     0.5025      0.1379        1         5   1   1    1   -1   \n",
       "1641       2172                               1         5   0                 \n",
       "\n",
       "     P1_C  ... ppreg9 PPRENT PPSTATEN PPT01 PPT25 PPT612 PPT1317 PPT18OV  \\\n",
       "0       1  ...    9.0    2.0     93.0   0.0   0.0    1.0     1.0     2.0   \n",
       "1       1  ...    7.0    1.0     74.0   0.0   0.0    0.0     0.0     1.0   \n",
       "2       1  ...    NaN    NaN      NaN   NaN   NaN    NaN     NaN     NaN   \n",
       "3          ...    NaN    NaN      NaN   NaN   NaN    NaN     NaN     NaN   \n",
       "4       2  ...    9.0    2.0     93.0   0.0   0.0    2.0     1.0     2.0   \n",
       "...   ...  ...    ...    ...      ...   ...   ...    ...     ...     ...   \n",
       "1637    1  ...    5.0    1.0     52.0   0.0   0.0    0.0     1.0     2.0   \n",
       "1638       ...    5.0    2.0     59.0   0.0   0.0    0.0     1.0     2.0   \n",
       "1639    1  ...    3.0    2.0     33.0   0.0   0.0    0.0     1.0     3.0   \n",
       "1640    1  ...    7.0    1.0     72.0   0.0   0.0    0.0     1.0     2.0   \n",
       "1641       ...    5.0    1.0     59.0   0.0   0.0    0.0     1.0     3.0   \n",
       "\n",
       "     PPWORK PPNET  \n",
       "0       7.0   1.0  \n",
       "1       5.0   1.0  \n",
       "2       NaN   NaN  \n",
       "3       NaN   NaN  \n",
       "4       7.0   1.0  \n",
       "...     ...   ...  \n",
       "1637    1.0   1.0  \n",
       "1638    6.0   0.0  \n",
       "1639    1.0   1.0  \n",
       "1640    1.0   1.0  \n",
       "1641    1.0   1.0  \n",
       "\n",
       "[1642 rows x 318 columns]"
      ]
     },
     "execution_count": 3,
     "metadata": {},
     "output_type": "execute_result"
    }
   ],
   "source": [
    "dating_df"
   ]
  },
  {
   "cell_type": "code",
   "execution_count": 4,
   "id": "e1cd2bfe",
   "metadata": {},
   "outputs": [
    {
     "name": "stdout",
     "output_type": "stream",
     "text": [
      "<class 'pandas.core.frame.DataFrame'>\n",
      "RangeIndex: 1642 entries, 0 to 1641\n",
      "Columns: 318 entries, CaseID to PPNET\n",
      "dtypes: float64(22), object(296)\n",
      "memory usage: 4.0+ MB\n"
     ]
    }
   ],
   "source": [
    "dating_df.info()"
   ]
  },
  {
   "cell_type": "code",
   "execution_count": 5,
   "id": "db8f84a7",
   "metadata": {},
   "outputs": [
    {
     "data": {
      "text/plain": [
       "['CaseID',\n",
       " 'par_weight',\n",
       " 'teen_weight',\n",
       " 'xspanish',\n",
       " 'xprimelan',\n",
       " 'QS1',\n",
       " 'QS2',\n",
       " 'P1_A',\n",
       " 'P1_B',\n",
       " 'P1_C',\n",
       " 'P1_D',\n",
       " 'P1_E',\n",
       " 'P2_A',\n",
       " 'P2_B',\n",
       " 'P2_C',\n",
       " 'P2_D',\n",
       " 'P3',\n",
       " 'P4',\n",
       " 'P5',\n",
       " 'P6',\n",
       " 'P7_A',\n",
       " 'P7_B',\n",
       " 'P7_C',\n",
       " 'P8',\n",
       " 'P9',\n",
       " 'P10',\n",
       " 'P10_1',\n",
       " 'P11',\n",
       " 'P11_5',\n",
       " 'P12_A',\n",
       " 'P12_B',\n",
       " 'P12_C',\n",
       " 'P13_A',\n",
       " 'P13_B',\n",
       " 'P13_C',\n",
       " 'P13_D',\n",
       " 'P13_E',\n",
       " 'P14_F',\n",
       " 'P14_G',\n",
       " 'P14_H',\n",
       " 'P15_A',\n",
       " 'P15_B',\n",
       " 'P15_C',\n",
       " 'P15_D',\n",
       " 'P15_E',\n",
       " 'QS9',\n",
       " 'QS10_1',\n",
       " 'QS10_2',\n",
       " 'QS10_3',\n",
       " 'QS10_4',\n",
       " 'QS10_5',\n",
       " 'QS10_6',\n",
       " 'QS10_7',\n",
       " 'QS10_8',\n",
       " 'QS10_9',\n",
       " 'QS10_10',\n",
       " 'QS10_11',\n",
       " 'QS10_12',\n",
       " 'QS10_13',\n",
       " 'QS10_14',\n",
       " 'QS10_15',\n",
       " 'QS10_Refused',\n",
       " 'QS10_3_Specify',\n",
       " 'QS10_10_Specify',\n",
       " 'QS10_14_Specify',\n",
       " 'QS10_15_Specify',\n",
       " 'KINTMOB',\n",
       " 'K2',\n",
       " 'K3_A',\n",
       " 'K3_B',\n",
       " 'K3_C',\n",
       " 'K3_D',\n",
       " 'K3_E',\n",
       " 'K4',\n",
       " 'K5_A',\n",
       " 'K5_B',\n",
       " 'K5_C',\n",
       " 'K5_D',\n",
       " 'K5_E',\n",
       " 'K5_1_A',\n",
       " 'K5_1_B',\n",
       " 'K5_1_C',\n",
       " 'K6_1',\n",
       " 'K6_2',\n",
       " 'K6_3',\n",
       " 'K6_4',\n",
       " 'K6_5',\n",
       " 'K6_6',\n",
       " 'K6_7',\n",
       " 'K6_8',\n",
       " 'K7',\n",
       " 'K8',\n",
       " 'K8_Refused',\n",
       " 'KFB1A',\n",
       " 'KFB1B',\n",
       " 'KFB1C',\n",
       " 'K9',\n",
       " 'KF10_1',\n",
       " 'KF10_1_Specify',\n",
       " 'KF10_2',\n",
       " 'KF10_2_Specify',\n",
       " 'KF10_3',\n",
       " 'KF10_3_Specify',\n",
       " 'KFMEET',\n",
       " 'KFMEET2_1',\n",
       " 'KFMEET2_2',\n",
       " 'KFMEET2_3',\n",
       " 'KFMEET2_4',\n",
       " 'KFMEET2_5',\n",
       " 'KFMEET2_8',\n",
       " 'KFMEET2_Refused',\n",
       " 'KFMEET2_8_Specify',\n",
       " 'KFMEET3',\n",
       " 'KFR11_A',\n",
       " 'KFR11_B',\n",
       " 'KFR11_C',\n",
       " 'KFR11_D',\n",
       " 'KFR11_E',\n",
       " 'KFR11_F',\n",
       " 'KFR11_G',\n",
       " 'KFR11_H',\n",
       " 'KFR11_I',\n",
       " 'KGAME1',\n",
       " 'KGAME2',\n",
       " 'KGAME3_1',\n",
       " 'KGAME3_2',\n",
       " 'KGAME3_3',\n",
       " 'KGAME4',\n",
       " 'KGAME5_A',\n",
       " 'KGAME5_B',\n",
       " 'KGAME5_C',\n",
       " 'KGAME5_D',\n",
       " 'KF12',\n",
       " 'KF13_A',\n",
       " 'KF13_B',\n",
       " 'KF13_C',\n",
       " 'KF13_D',\n",
       " 'KF13_E',\n",
       " 'KF13_F',\n",
       " 'KF13_G',\n",
       " 'KF13_H',\n",
       " 'KF13_I',\n",
       " 'KF13_Specify',\n",
       " 'KF13_1',\n",
       " 'KF13_1_Specify',\n",
       " 'KF13_2',\n",
       " 'KF13_2_Specify',\n",
       " 'KF13_3',\n",
       " 'KF13_3_Specify',\n",
       " 'KFSNS1_A',\n",
       " 'KFSNS1_B',\n",
       " 'KFSNS1_C',\n",
       " 'KFSNS1_D',\n",
       " 'KFSNS1_E',\n",
       " 'KFSNS2_A',\n",
       " 'KFSNS2_B',\n",
       " 'KFSNS2_C',\n",
       " 'KFSNS2_D',\n",
       " 'KFSNS3_A',\n",
       " 'KFSNS3_B',\n",
       " 'KFSNS3_C',\n",
       " 'KF14',\n",
       " 'KFSNS4_A',\n",
       " 'KFSNS4_B',\n",
       " 'KFSNS4_C',\n",
       " 'KF15',\n",
       " 'KDATE1',\n",
       " 'DT1',\n",
       " 'DT1A',\n",
       " 'KR1',\n",
       " 'REL3',\n",
       " 'REL3_Refused',\n",
       " 'KR2',\n",
       " 'KDATE2_A',\n",
       " 'KDATE2_B',\n",
       " 'KDATE2_C',\n",
       " 'KDATE2_D',\n",
       " 'KDATE2_E',\n",
       " 'KDATE2_F',\n",
       " 'KDATE2_G',\n",
       " 'KDATE2_H',\n",
       " 'KDATE2_I',\n",
       " 'KDATE2_Specify',\n",
       " 'KR3_A',\n",
       " 'KR3_B',\n",
       " 'KR3_C',\n",
       " 'KR4_1',\n",
       " 'KR4_2',\n",
       " 'KR4_3',\n",
       " 'KR4_4',\n",
       " 'KR4_5',\n",
       " 'KR4_6',\n",
       " 'KR4_7',\n",
       " 'KR4_Refused',\n",
       " 'KR4_Specify',\n",
       " 'KR5',\n",
       " 'KR6_A',\n",
       " 'KR6_B',\n",
       " 'KR6_C',\n",
       " 'KR6_D',\n",
       " 'KR6_E',\n",
       " 'KR6_F',\n",
       " 'KR6_G',\n",
       " 'KR6_H',\n",
       " 'KR6_I',\n",
       " 'KR7_A',\n",
       " 'KR7_B',\n",
       " 'KR7_C',\n",
       " 'KR7_D',\n",
       " 'KR7_E',\n",
       " 'KR7_F',\n",
       " 'KR7_G',\n",
       " 'KR7_H',\n",
       " 'KR7_I',\n",
       " 'KR7_J',\n",
       " 'KR8',\n",
       " 'KR9',\n",
       " 'KRSNS1_A',\n",
       " 'KRSNS1_B',\n",
       " 'KRSNS1_C',\n",
       " 'KRSNS1_D',\n",
       " 'KRSNS2_A',\n",
       " 'KRSNS2_B',\n",
       " 'KRSNS2_C',\n",
       " 'KRSNS2_D',\n",
       " 'KRSNS2_E',\n",
       " 'KRSNS3_A',\n",
       " 'KRSNS3_B',\n",
       " 'KRSNS3_C',\n",
       " 'REL8_A',\n",
       " 'REL8_B',\n",
       " 'REL8_C',\n",
       " 'REL8_D',\n",
       " 'REL8_E',\n",
       " 'KR10_1',\n",
       " 'KR10_2',\n",
       " 'KR10_3',\n",
       " 'KR10_4',\n",
       " 'KR10_5',\n",
       " 'KR10_6',\n",
       " 'KR11_A',\n",
       " 'KR11_B',\n",
       " 'KR11_C',\n",
       " 'KR11_D',\n",
       " 'KR11_E',\n",
       " 'KR11_F',\n",
       " 'KR11_G',\n",
       " 'KR11_H',\n",
       " 'KR11_I',\n",
       " 'KR11_J',\n",
       " 'KR11_K',\n",
       " 'KR11_Refused',\n",
       " 'KR11_Specify',\n",
       " 'KR12_1',\n",
       " 'KR12_2',\n",
       " 'KR12_3',\n",
       " 'KR12_4',\n",
       " 'KR12_5',\n",
       " 'KR12_6',\n",
       " 'KR12_7',\n",
       " 'KR12_8',\n",
       " 'KR12_9',\n",
       " 'KR12_10',\n",
       " 'KR12_11',\n",
       " 'KR12_Refused',\n",
       " 'KR12_Specify',\n",
       " 'KR13_A',\n",
       " 'KR13_B',\n",
       " 'KR13_C',\n",
       " 'KR13_D',\n",
       " 'KR13_E',\n",
       " 'KR13_F',\n",
       " 'KRSNS4_A',\n",
       " 'KRSNS4_B',\n",
       " 'KRSNS4_C',\n",
       " 'KRCELL_D',\n",
       " 'KRCELL_E',\n",
       " 'DT2_A',\n",
       " 'DT2_B',\n",
       " 'DT2_C',\n",
       " 'DT2_D',\n",
       " 'DT2_E',\n",
       " 'DT2_F',\n",
       " 'DT2_G',\n",
       " 'DT2_H',\n",
       " 'DT2_I',\n",
       " 'DT4',\n",
       " 'DT4A',\n",
       " 'KRS',\n",
       " 'KSO',\n",
       " 'KSO_Specify',\n",
       " 'KTG',\n",
       " 'KEND',\n",
       " 'Teen_Ethn',\n",
       " 'Child_age',\n",
       " 'Child_gender',\n",
       " 'PPAGE',\n",
       " 'PPEDUC',\n",
       " 'PPEDUCAT',\n",
       " 'PPETHM',\n",
       " 'PPGENDER',\n",
       " 'PPHHHEAD',\n",
       " 'PPHHSIZE',\n",
       " 'PPHOUSE',\n",
       " 'PPINCIMP',\n",
       " 'PPMARIT',\n",
       " 'PPMSACAT',\n",
       " 'PPREG4',\n",
       " 'ppreg9',\n",
       " 'PPRENT',\n",
       " 'PPSTATEN',\n",
       " 'PPT01',\n",
       " 'PPT25',\n",
       " 'PPT612',\n",
       " 'PPT1317',\n",
       " 'PPT18OV',\n",
       " 'PPWORK',\n",
       " 'PPNET']"
      ]
     },
     "execution_count": 5,
     "metadata": {},
     "output_type": "execute_result"
    }
   ],
   "source": [
    "list(dating_df.columns)"
   ]
  },
  {
   "cell_type": "code",
   "execution_count": 6,
   "id": "a8a821ca",
   "metadata": {},
   "outputs": [
    {
     "data": {
      "text/plain": [
       "(1642, 318)"
      ]
     },
     "execution_count": 6,
     "metadata": {},
     "output_type": "execute_result"
    }
   ],
   "source": [
    "dating_df.shape"
   ]
  },
  {
   "cell_type": "code",
   "execution_count": 7,
   "id": "34821557",
   "metadata": {},
   "outputs": [
    {
     "data": {
      "text/html": [
       "<div>\n",
       "<style scoped>\n",
       "    .dataframe tbody tr th:only-of-type {\n",
       "        vertical-align: middle;\n",
       "    }\n",
       "\n",
       "    .dataframe tbody tr th {\n",
       "        vertical-align: top;\n",
       "    }\n",
       "\n",
       "    .dataframe thead th {\n",
       "        text-align: right;\n",
       "    }\n",
       "</style>\n",
       "<table border=\"1\" class=\"dataframe\">\n",
       "  <thead>\n",
       "    <tr style=\"text-align: right;\">\n",
       "      <th></th>\n",
       "      <th>CaseID</th>\n",
       "      <th>par_weight</th>\n",
       "      <th>teen_weight</th>\n",
       "      <th>xspanish</th>\n",
       "      <th>xprimelan</th>\n",
       "      <th>QS1</th>\n",
       "      <th>QS2</th>\n",
       "      <th>P1_A</th>\n",
       "      <th>P1_B</th>\n",
       "      <th>P1_C</th>\n",
       "      <th>...</th>\n",
       "      <th>ppreg9</th>\n",
       "      <th>PPRENT</th>\n",
       "      <th>PPSTATEN</th>\n",
       "      <th>PPT01</th>\n",
       "      <th>PPT25</th>\n",
       "      <th>PPT612</th>\n",
       "      <th>PPT1317</th>\n",
       "      <th>PPT18OV</th>\n",
       "      <th>PPWORK</th>\n",
       "      <th>PPNET</th>\n",
       "    </tr>\n",
       "  </thead>\n",
       "  <tbody>\n",
       "    <tr>\n",
       "      <th>0</th>\n",
       "      <td>5</td>\n",
       "      <td>1.1259</td>\n",
       "      <td>1.0038</td>\n",
       "      <td>2</td>\n",
       "      <td>3</td>\n",
       "      <td>1</td>\n",
       "      <td>1</td>\n",
       "      <td>1</td>\n",
       "      <td>-1</td>\n",
       "      <td>1</td>\n",
       "      <td>...</td>\n",
       "      <td>9.0</td>\n",
       "      <td>2.0</td>\n",
       "      <td>93.0</td>\n",
       "      <td>0.0</td>\n",
       "      <td>0.0</td>\n",
       "      <td>1.0</td>\n",
       "      <td>1.0</td>\n",
       "      <td>2.0</td>\n",
       "      <td>7.0</td>\n",
       "      <td>1.0</td>\n",
       "    </tr>\n",
       "    <tr>\n",
       "      <th>1</th>\n",
       "      <td>9</td>\n",
       "      <td>0.4285</td>\n",
       "      <td>0.2442</td>\n",
       "      <td>2</td>\n",
       "      <td>3</td>\n",
       "      <td>1</td>\n",
       "      <td>1</td>\n",
       "      <td>1</td>\n",
       "      <td>1</td>\n",
       "      <td>1</td>\n",
       "      <td>...</td>\n",
       "      <td>7.0</td>\n",
       "      <td>1.0</td>\n",
       "      <td>74.0</td>\n",
       "      <td>0.0</td>\n",
       "      <td>0.0</td>\n",
       "      <td>0.0</td>\n",
       "      <td>0.0</td>\n",
       "      <td>1.0</td>\n",
       "      <td>5.0</td>\n",
       "      <td>1.0</td>\n",
       "    </tr>\n",
       "    <tr>\n",
       "      <th>2</th>\n",
       "      <td>10</td>\n",
       "      <td>1.2875</td>\n",
       "      <td>1.3604</td>\n",
       "      <td>2</td>\n",
       "      <td>3</td>\n",
       "      <td>1</td>\n",
       "      <td>1</td>\n",
       "      <td>1</td>\n",
       "      <td>2</td>\n",
       "      <td>1</td>\n",
       "      <td>...</td>\n",
       "      <td>NaN</td>\n",
       "      <td>NaN</td>\n",
       "      <td>NaN</td>\n",
       "      <td>NaN</td>\n",
       "      <td>NaN</td>\n",
       "      <td>NaN</td>\n",
       "      <td>NaN</td>\n",
       "      <td>NaN</td>\n",
       "      <td>NaN</td>\n",
       "      <td>NaN</td>\n",
       "    </tr>\n",
       "    <tr>\n",
       "      <th>3</th>\n",
       "      <td>Pinterest</td>\n",
       "      <td></td>\n",
       "      <td></td>\n",
       "      <td></td>\n",
       "      <td></td>\n",
       "      <td>2</td>\n",
       "      <td>1</td>\n",
       "      <td></td>\n",
       "      <td>3</td>\n",
       "      <td></td>\n",
       "      <td>...</td>\n",
       "      <td>NaN</td>\n",
       "      <td>NaN</td>\n",
       "      <td>NaN</td>\n",
       "      <td>NaN</td>\n",
       "      <td>NaN</td>\n",
       "      <td>NaN</td>\n",
       "      <td>NaN</td>\n",
       "      <td>NaN</td>\n",
       "      <td>NaN</td>\n",
       "      <td>NaN</td>\n",
       "    </tr>\n",
       "    <tr>\n",
       "      <th>4</th>\n",
       "      <td>11</td>\n",
       "      <td></td>\n",
       "      <td></td>\n",
       "      <td>2</td>\n",
       "      <td>3</td>\n",
       "      <td>1</td>\n",
       "      <td>1</td>\n",
       "      <td>1</td>\n",
       "      <td>2</td>\n",
       "      <td>2</td>\n",
       "      <td>...</td>\n",
       "      <td>9.0</td>\n",
       "      <td>2.0</td>\n",
       "      <td>93.0</td>\n",
       "      <td>0.0</td>\n",
       "      <td>0.0</td>\n",
       "      <td>2.0</td>\n",
       "      <td>1.0</td>\n",
       "      <td>2.0</td>\n",
       "      <td>7.0</td>\n",
       "      <td>1.0</td>\n",
       "    </tr>\n",
       "  </tbody>\n",
       "</table>\n",
       "<p>5 rows × 318 columns</p>\n",
       "</div>"
      ],
      "text/plain": [
       "      CaseID par_weight teen_weight xspanish xprimelan QS1 QS2 P1_A P1_B P1_C  \\\n",
       "0          5     1.1259      1.0038        2         3   1   1    1   -1    1   \n",
       "1          9     0.4285      0.2442        2         3   1   1    1    1    1   \n",
       "2         10     1.2875      1.3604        2         3   1   1    1    2    1   \n",
       "3  Pinterest                                             2   1         3        \n",
       "4         11                               2         3   1   1    1    2    2   \n",
       "\n",
       "   ... ppreg9 PPRENT PPSTATEN PPT01 PPT25 PPT612 PPT1317 PPT18OV PPWORK PPNET  \n",
       "0  ...    9.0    2.0     93.0   0.0   0.0    1.0     1.0     2.0    7.0   1.0  \n",
       "1  ...    7.0    1.0     74.0   0.0   0.0    0.0     0.0     1.0    5.0   1.0  \n",
       "2  ...    NaN    NaN      NaN   NaN   NaN    NaN     NaN     NaN    NaN   NaN  \n",
       "3  ...    NaN    NaN      NaN   NaN   NaN    NaN     NaN     NaN    NaN   NaN  \n",
       "4  ...    9.0    2.0     93.0   0.0   0.0    2.0     1.0     2.0    7.0   1.0  \n",
       "\n",
       "[5 rows x 318 columns]"
      ]
     },
     "execution_count": 7,
     "metadata": {},
     "output_type": "execute_result"
    }
   ],
   "source": [
    "dating_df.head()"
   ]
  },
  {
   "cell_type": "code",
   "execution_count": 8,
   "id": "5b8a7cb4",
   "metadata": {},
   "outputs": [
    {
     "data": {
      "text/html": [
       "<div>\n",
       "<style scoped>\n",
       "    .dataframe tbody tr th:only-of-type {\n",
       "        vertical-align: middle;\n",
       "    }\n",
       "\n",
       "    .dataframe tbody tr th {\n",
       "        vertical-align: top;\n",
       "    }\n",
       "\n",
       "    .dataframe thead th {\n",
       "        text-align: right;\n",
       "    }\n",
       "</style>\n",
       "<table border=\"1\" class=\"dataframe\">\n",
       "  <thead>\n",
       "    <tr style=\"text-align: right;\">\n",
       "      <th></th>\n",
       "      <th>CaseID</th>\n",
       "      <th>par_weight</th>\n",
       "      <th>teen_weight</th>\n",
       "      <th>xspanish</th>\n",
       "      <th>xprimelan</th>\n",
       "      <th>QS1</th>\n",
       "      <th>QS2</th>\n",
       "      <th>P1_A</th>\n",
       "      <th>P1_B</th>\n",
       "      <th>P1_C</th>\n",
       "      <th>...</th>\n",
       "      <th>ppreg9</th>\n",
       "      <th>PPRENT</th>\n",
       "      <th>PPSTATEN</th>\n",
       "      <th>PPT01</th>\n",
       "      <th>PPT25</th>\n",
       "      <th>PPT612</th>\n",
       "      <th>PPT1317</th>\n",
       "      <th>PPT18OV</th>\n",
       "      <th>PPWORK</th>\n",
       "      <th>PPNET</th>\n",
       "    </tr>\n",
       "  </thead>\n",
       "  <tbody>\n",
       "    <tr>\n",
       "      <th>1637</th>\n",
       "      <td>2165</td>\n",
       "      <td>0.6804</td>\n",
       "      <td>1.637</td>\n",
       "      <td>1</td>\n",
       "      <td>5</td>\n",
       "      <td>1</td>\n",
       "      <td>1</td>\n",
       "      <td>1</td>\n",
       "      <td>1</td>\n",
       "      <td>1</td>\n",
       "      <td>...</td>\n",
       "      <td>5.0</td>\n",
       "      <td>1.0</td>\n",
       "      <td>52.0</td>\n",
       "      <td>0.0</td>\n",
       "      <td>0.0</td>\n",
       "      <td>0.0</td>\n",
       "      <td>1.0</td>\n",
       "      <td>2.0</td>\n",
       "      <td>1.0</td>\n",
       "      <td>1.0</td>\n",
       "    </tr>\n",
       "    <tr>\n",
       "      <th>1638</th>\n",
       "      <td>2167</td>\n",
       "      <td></td>\n",
       "      <td></td>\n",
       "      <td>1</td>\n",
       "      <td>5</td>\n",
       "      <td>0</td>\n",
       "      <td></td>\n",
       "      <td></td>\n",
       "      <td></td>\n",
       "      <td></td>\n",
       "      <td>...</td>\n",
       "      <td>5.0</td>\n",
       "      <td>2.0</td>\n",
       "      <td>59.0</td>\n",
       "      <td>0.0</td>\n",
       "      <td>0.0</td>\n",
       "      <td>0.0</td>\n",
       "      <td>1.0</td>\n",
       "      <td>2.0</td>\n",
       "      <td>6.0</td>\n",
       "      <td>0.0</td>\n",
       "    </tr>\n",
       "    <tr>\n",
       "      <th>1639</th>\n",
       "      <td>2168</td>\n",
       "      <td>1.0233</td>\n",
       "      <td>2.5532</td>\n",
       "      <td>1</td>\n",
       "      <td>5</td>\n",
       "      <td>1</td>\n",
       "      <td>1</td>\n",
       "      <td>1</td>\n",
       "      <td>2</td>\n",
       "      <td>1</td>\n",
       "      <td>...</td>\n",
       "      <td>3.0</td>\n",
       "      <td>2.0</td>\n",
       "      <td>33.0</td>\n",
       "      <td>0.0</td>\n",
       "      <td>0.0</td>\n",
       "      <td>0.0</td>\n",
       "      <td>1.0</td>\n",
       "      <td>3.0</td>\n",
       "      <td>1.0</td>\n",
       "      <td>1.0</td>\n",
       "    </tr>\n",
       "    <tr>\n",
       "      <th>1640</th>\n",
       "      <td>2170</td>\n",
       "      <td>0.5025</td>\n",
       "      <td>0.1379</td>\n",
       "      <td>1</td>\n",
       "      <td>5</td>\n",
       "      <td>1</td>\n",
       "      <td>1</td>\n",
       "      <td>1</td>\n",
       "      <td>-1</td>\n",
       "      <td>1</td>\n",
       "      <td>...</td>\n",
       "      <td>7.0</td>\n",
       "      <td>1.0</td>\n",
       "      <td>72.0</td>\n",
       "      <td>0.0</td>\n",
       "      <td>0.0</td>\n",
       "      <td>0.0</td>\n",
       "      <td>1.0</td>\n",
       "      <td>2.0</td>\n",
       "      <td>1.0</td>\n",
       "      <td>1.0</td>\n",
       "    </tr>\n",
       "    <tr>\n",
       "      <th>1641</th>\n",
       "      <td>2172</td>\n",
       "      <td></td>\n",
       "      <td></td>\n",
       "      <td>1</td>\n",
       "      <td>5</td>\n",
       "      <td>0</td>\n",
       "      <td></td>\n",
       "      <td></td>\n",
       "      <td></td>\n",
       "      <td></td>\n",
       "      <td>...</td>\n",
       "      <td>5.0</td>\n",
       "      <td>1.0</td>\n",
       "      <td>59.0</td>\n",
       "      <td>0.0</td>\n",
       "      <td>0.0</td>\n",
       "      <td>0.0</td>\n",
       "      <td>1.0</td>\n",
       "      <td>3.0</td>\n",
       "      <td>1.0</td>\n",
       "      <td>1.0</td>\n",
       "    </tr>\n",
       "  </tbody>\n",
       "</table>\n",
       "<p>5 rows × 318 columns</p>\n",
       "</div>"
      ],
      "text/plain": [
       "     CaseID par_weight teen_weight xspanish xprimelan QS1 QS2 P1_A P1_B P1_C  \\\n",
       "1637   2165     0.6804       1.637        1         5   1   1    1    1    1   \n",
       "1638   2167                               1         5   0                      \n",
       "1639   2168     1.0233      2.5532        1         5   1   1    1    2    1   \n",
       "1640   2170     0.5025      0.1379        1         5   1   1    1   -1    1   \n",
       "1641   2172                               1         5   0                      \n",
       "\n",
       "      ... ppreg9 PPRENT PPSTATEN PPT01 PPT25 PPT612 PPT1317 PPT18OV PPWORK  \\\n",
       "1637  ...    5.0    1.0     52.0   0.0   0.0    0.0     1.0     2.0    1.0   \n",
       "1638  ...    5.0    2.0     59.0   0.0   0.0    0.0     1.0     2.0    6.0   \n",
       "1639  ...    3.0    2.0     33.0   0.0   0.0    0.0     1.0     3.0    1.0   \n",
       "1640  ...    7.0    1.0     72.0   0.0   0.0    0.0     1.0     2.0    1.0   \n",
       "1641  ...    5.0    1.0     59.0   0.0   0.0    0.0     1.0     3.0    1.0   \n",
       "\n",
       "     PPNET  \n",
       "1637   1.0  \n",
       "1638   0.0  \n",
       "1639   1.0  \n",
       "1640   1.0  \n",
       "1641   1.0  \n",
       "\n",
       "[5 rows x 318 columns]"
      ]
     },
     "execution_count": 8,
     "metadata": {},
     "output_type": "execute_result"
    }
   ],
   "source": [
    "dating_df.tail()"
   ]
  },
  {
   "cell_type": "markdown",
   "id": "39e4b121",
   "metadata": {},
   "source": [
    "It is visible that there are 1642 rows and 318 columns. Each row represents a respondent, which is either a parent or teenager, and their response to the questions asked in the survey. On the other hand, each column represents questions asked in the surey. It should also be noted that the first column represents a Case ID number to label each respondent. It is a bit unclear what columns 2-7 represent."
   ]
  },
  {
   "cell_type": "markdown",
   "id": "47599cc9",
   "metadata": {},
   "source": [
    "## DATA CLEANING/EXPLORATION"
   ]
  },
  {
   "cell_type": "code",
   "execution_count": 9,
   "id": "3c0ba2d1",
   "metadata": {},
   "outputs": [],
   "source": [
    "col_to_use = [\n",
    "    'P5', \n",
    "    'P6', \n",
    "    'KDATE1', \n",
    "    'DT1', \n",
    "    'DT1A', \n",
    "    'KR1', \n",
    "    'KR2',\n",
    "    'KDATE2_A',\n",
    "     'KDATE2_B',\n",
    "     'KDATE2_C',\n",
    "     'KDATE2_D',\n",
    "     'KDATE2_E',\n",
    "     'KDATE2_F',\n",
    "     'KDATE2_G',\n",
    "     'KDATE2_H',\n",
    "     'KDATE2_I',\n",
    "     'KDATE2_Specify',\n",
    "     'KR3_A',\n",
    "     'KR3_B',\n",
    "     'KR3_C',\n",
    "     'KR4_1',\n",
    "     'KR4_2',\n",
    "     'KR4_3',\n",
    "     'KR4_4',\n",
    "     'KR4_5',\n",
    "     'KR4_6',\n",
    "     'KR4_7',\n",
    "     'KR4_Refused',\n",
    "     'KR4_Specify',\n",
    "     'KR5',\n",
    "     'KR6_A',\n",
    "     'KR6_B',\n",
    "     'KR6_C',\n",
    "     'KR6_D',\n",
    "     'KR6_E',\n",
    "     'KR6_F',\n",
    "     'KR6_G',\n",
    "     'KR6_H',\n",
    "     'KR6_I',\n",
    "     'KR7_A',\n",
    "     'KR7_B',\n",
    "     'KR7_C',\n",
    "     'KR7_D',\n",
    "     'KR7_E',\n",
    "     'KR7_F',\n",
    "     'KR7_G',\n",
    "     'KR7_H',\n",
    "     'KR7_I',\n",
    "     'KR7_J',\n",
    "             ]\n",
    "cleandating_df = dating_df[col_to_use]"
   ]
  },
  {
   "cell_type": "markdown",
   "id": "a1eaabf0",
   "metadata": {},
   "source": [
    "I am going to drop the following columns, as they do not add significance to the new dataset, and KR6_H is the same as KR6_G."
   ]
  },
  {
   "cell_type": "code",
   "execution_count": 10,
   "id": "69f19b8a",
   "metadata": {},
   "outputs": [],
   "source": [
    "cols_to_drop = ['KDATE2_Specify','KR4_Refused','KR4_Specify','KR6_H']"
   ]
  },
  {
   "cell_type": "code",
   "execution_count": 11,
   "id": "ddd29db5",
   "metadata": {},
   "outputs": [],
   "source": [
    "cleandating_df = cleandating_df.drop(columns=cols_to_drop)"
   ]
  },
  {
   "cell_type": "markdown",
   "id": "55b7138b",
   "metadata": {},
   "source": [
    "Next, I will rename the column name map to provide clarity as to what each column represents."
   ]
  },
  {
   "cell_type": "code",
   "execution_count": 12,
   "id": "6c6e820c",
   "metadata": {},
   "outputs": [],
   "source": [
    "newcolname_map = {\n",
    "    'P5': 'parent_knowledge_status',\n",
    "    'P6': 'parentcontrol',\n",
    "    'KDATE1': 'sexualexperience',\n",
    "    'DT1': 'serious_relationship' ,\n",
    "    'DT1A': 'notserious_relationship',\n",
    "    'KR1': 'meeting_online_experience',\n",
    "    'KR2': 'online_and_never_met',\n",
    "    'KDATE2_A':'socialmedia_interested_interactedsm',\n",
    "     'KDATE2_B':'socialmedia_interested_friendedsm',\n",
    "     'KDATE2_C':'interested_friendedsm',\n",
    "     'KDATE2_D':'interested_text',\n",
    "     'KDATE2_E':'interested_video',\n",
    "     'KDATE2_F':'interested_music',\n",
    "     'KDATE2_G':'interested_sexypics',\n",
    "     'KDATE2_H':'interested_inperson',\n",
    "     'KDATE2_I':'interested_other',\n",
    "     'KR3_A':'search_information_current',\n",
    "     'KR3_B':'friended_setup',\n",
    "     'KR3_C':'search_information_past',\n",
    "    'KR4_1': 'askout_text',\n",
    "    'KR4_2': 'askout_inperson',\n",
    "     'KR4_3':'askout_phone',\n",
    "     'KR4_4':'askout_dm',\n",
    "     'KR4_5':'askout_friendasked',\n",
    "     'KR4_6':'askout_wait',\n",
    "     'KR4_7':'askout_other',\n",
    "     'KR5':'shared_passwords',\n",
    "     'KR6_A':'time_outsideschoool',\n",
    "     'KR6_B':'time_phone',\n",
    "     'KR6_C':'time_text',\n",
    "     'KR6_D':'time_online',\n",
    "     'KR6_E':'time_videochat',\n",
    "     'KR6_F':'time_email',\n",
    "     'KR6_G':'time_socialmediapost',\n",
    "     'KR6_I':'time_messagingapps',\n",
    "     'KR7_A':'shareonline_location',\n",
    "     'KR7_B':'shareonline_activity',\n",
    "     'KR7_C':'shareonline_thoughts',\n",
    "     'KR7_D':'shareonline_friends',\n",
    "     'KR7_E':'shareonline_school',\n",
    "     'KR7_F':'shareonline_health',\n",
    "     'KR7_G':'shareonline_family',\n",
    "     'KR7_H':'shareonline_politics',\n",
    "     'KR7_I':'shareonline_religion',\n",
    "     'KR7_J':'shareonline_funny',\n",
    "}"
   ]
  },
  {
   "cell_type": "code",
   "execution_count": 13,
   "id": "0da99d37",
   "metadata": {},
   "outputs": [],
   "source": [
    "cleandating_df = cleandating_df.rename(columns=newcolname_map)"
   ]
  },
  {
   "cell_type": "code",
   "execution_count": 14,
   "id": "5f6068b9",
   "metadata": {},
   "outputs": [
    {
     "data": {
      "text/html": [
       "<div>\n",
       "<style scoped>\n",
       "    .dataframe tbody tr th:only-of-type {\n",
       "        vertical-align: middle;\n",
       "    }\n",
       "\n",
       "    .dataframe tbody tr th {\n",
       "        vertical-align: top;\n",
       "    }\n",
       "\n",
       "    .dataframe thead th {\n",
       "        text-align: right;\n",
       "    }\n",
       "</style>\n",
       "<table border=\"1\" class=\"dataframe\">\n",
       "  <thead>\n",
       "    <tr style=\"text-align: right;\">\n",
       "      <th></th>\n",
       "      <th>parent_knowledge_status</th>\n",
       "      <th>parentcontrol</th>\n",
       "      <th>sexualexperience</th>\n",
       "      <th>serious_relationship</th>\n",
       "      <th>notserious_relationship</th>\n",
       "      <th>meeting_online_experience</th>\n",
       "      <th>online_and_never_met</th>\n",
       "      <th>socialmedia_interested_interactedsm</th>\n",
       "      <th>socialmedia_interested_friendedsm</th>\n",
       "      <th>interested_friendedsm</th>\n",
       "      <th>...</th>\n",
       "      <th>shareonline_location</th>\n",
       "      <th>shareonline_activity</th>\n",
       "      <th>shareonline_thoughts</th>\n",
       "      <th>shareonline_friends</th>\n",
       "      <th>shareonline_school</th>\n",
       "      <th>shareonline_health</th>\n",
       "      <th>shareonline_family</th>\n",
       "      <th>shareonline_politics</th>\n",
       "      <th>shareonline_religion</th>\n",
       "      <th>shareonline_funny</th>\n",
       "    </tr>\n",
       "  </thead>\n",
       "  <tbody>\n",
       "    <tr>\n",
       "      <th>0</th>\n",
       "      <td>2</td>\n",
       "      <td></td>\n",
       "      <td>1</td>\n",
       "      <td>2</td>\n",
       "      <td>2</td>\n",
       "      <td>1</td>\n",
       "      <td></td>\n",
       "      <td>1</td>\n",
       "      <td>2</td>\n",
       "      <td>1</td>\n",
       "      <td>...</td>\n",
       "      <td>2</td>\n",
       "      <td>1</td>\n",
       "      <td>1</td>\n",
       "      <td>2</td>\n",
       "      <td>1</td>\n",
       "      <td>2</td>\n",
       "      <td>-1</td>\n",
       "      <td>2</td>\n",
       "      <td>2</td>\n",
       "      <td>1</td>\n",
       "    </tr>\n",
       "    <tr>\n",
       "      <th>1</th>\n",
       "      <td>2</td>\n",
       "      <td></td>\n",
       "      <td>2</td>\n",
       "      <td></td>\n",
       "      <td></td>\n",
       "      <td></td>\n",
       "      <td></td>\n",
       "      <td></td>\n",
       "      <td></td>\n",
       "      <td>1</td>\n",
       "      <td>...</td>\n",
       "      <td></td>\n",
       "      <td></td>\n",
       "      <td></td>\n",
       "      <td></td>\n",
       "      <td></td>\n",
       "      <td></td>\n",
       "      <td></td>\n",
       "      <td></td>\n",
       "      <td></td>\n",
       "      <td></td>\n",
       "    </tr>\n",
       "    <tr>\n",
       "      <th>2</th>\n",
       "      <td>3</td>\n",
       "      <td></td>\n",
       "      <td>NaN</td>\n",
       "      <td>NaN</td>\n",
       "      <td>NaN</td>\n",
       "      <td>NaN</td>\n",
       "      <td>NaN</td>\n",
       "      <td>NaN</td>\n",
       "      <td>NaN</td>\n",
       "      <td>NaN</td>\n",
       "      <td>...</td>\n",
       "      <td>NaN</td>\n",
       "      <td>NaN</td>\n",
       "      <td>NaN</td>\n",
       "      <td>NaN</td>\n",
       "      <td>NaN</td>\n",
       "      <td>NaN</td>\n",
       "      <td>NaN</td>\n",
       "      <td>NaN</td>\n",
       "      <td>NaN</td>\n",
       "      <td>NaN</td>\n",
       "    </tr>\n",
       "    <tr>\n",
       "      <th>3</th>\n",
       "      <td>0</td>\n",
       "      <td>0</td>\n",
       "      <td>0</td>\n",
       "      <td>0</td>\n",
       "      <td>0</td>\n",
       "      <td>0</td>\n",
       "      <td>0</td>\n",
       "      <td>0</td>\n",
       "      <td></td>\n",
       "      <td>1</td>\n",
       "      <td>...</td>\n",
       "      <td>51</td>\n",
       "      <td>9</td>\n",
       "      <td>2</td>\n",
       "      <td>4</td>\n",
       "      <td>2</td>\n",
       "      <td>1</td>\n",
       "      <td>6</td>\n",
       "      <td>1</td>\n",
       "      <td>12</td>\n",
       "      <td>1</td>\n",
       "    </tr>\n",
       "    <tr>\n",
       "      <th>4</th>\n",
       "      <td>2</td>\n",
       "      <td></td>\n",
       "      <td></td>\n",
       "      <td></td>\n",
       "      <td></td>\n",
       "      <td></td>\n",
       "      <td></td>\n",
       "      <td></td>\n",
       "      <td></td>\n",
       "      <td></td>\n",
       "      <td>...</td>\n",
       "      <td></td>\n",
       "      <td></td>\n",
       "      <td></td>\n",
       "      <td></td>\n",
       "      <td></td>\n",
       "      <td></td>\n",
       "      <td></td>\n",
       "      <td></td>\n",
       "      <td></td>\n",
       "      <td></td>\n",
       "    </tr>\n",
       "    <tr>\n",
       "      <th>...</th>\n",
       "      <td>...</td>\n",
       "      <td>...</td>\n",
       "      <td>...</td>\n",
       "      <td>...</td>\n",
       "      <td>...</td>\n",
       "      <td>...</td>\n",
       "      <td>...</td>\n",
       "      <td>...</td>\n",
       "      <td>...</td>\n",
       "      <td>...</td>\n",
       "      <td>...</td>\n",
       "      <td>...</td>\n",
       "      <td>...</td>\n",
       "      <td>...</td>\n",
       "      <td>...</td>\n",
       "      <td>...</td>\n",
       "      <td>...</td>\n",
       "      <td>...</td>\n",
       "      <td>...</td>\n",
       "      <td>...</td>\n",
       "      <td>...</td>\n",
       "    </tr>\n",
       "    <tr>\n",
       "      <th>1637</th>\n",
       "      <td>2</td>\n",
       "      <td></td>\n",
       "      <td>2</td>\n",
       "      <td></td>\n",
       "      <td></td>\n",
       "      <td></td>\n",
       "      <td></td>\n",
       "      <td>1</td>\n",
       "      <td>1</td>\n",
       "      <td>1</td>\n",
       "      <td>...</td>\n",
       "      <td></td>\n",
       "      <td></td>\n",
       "      <td></td>\n",
       "      <td></td>\n",
       "      <td></td>\n",
       "      <td></td>\n",
       "      <td></td>\n",
       "      <td></td>\n",
       "      <td></td>\n",
       "      <td></td>\n",
       "    </tr>\n",
       "    <tr>\n",
       "      <th>1638</th>\n",
       "      <td></td>\n",
       "      <td></td>\n",
       "      <td></td>\n",
       "      <td></td>\n",
       "      <td></td>\n",
       "      <td></td>\n",
       "      <td></td>\n",
       "      <td></td>\n",
       "      <td></td>\n",
       "      <td></td>\n",
       "      <td>...</td>\n",
       "      <td></td>\n",
       "      <td></td>\n",
       "      <td></td>\n",
       "      <td></td>\n",
       "      <td></td>\n",
       "      <td></td>\n",
       "      <td></td>\n",
       "      <td></td>\n",
       "      <td></td>\n",
       "      <td></td>\n",
       "    </tr>\n",
       "    <tr>\n",
       "      <th>1639</th>\n",
       "      <td>1</td>\n",
       "      <td>2</td>\n",
       "      <td>1</td>\n",
       "      <td>1</td>\n",
       "      <td></td>\n",
       "      <td>1</td>\n",
       "      <td></td>\n",
       "      <td>1</td>\n",
       "      <td>1</td>\n",
       "      <td>1</td>\n",
       "      <td>...</td>\n",
       "      <td>1</td>\n",
       "      <td>1</td>\n",
       "      <td>1</td>\n",
       "      <td>2</td>\n",
       "      <td>2</td>\n",
       "      <td>2</td>\n",
       "      <td>2</td>\n",
       "      <td>2</td>\n",
       "      <td>2</td>\n",
       "      <td>1</td>\n",
       "    </tr>\n",
       "    <tr>\n",
       "      <th>1640</th>\n",
       "      <td>2</td>\n",
       "      <td></td>\n",
       "      <td>2</td>\n",
       "      <td></td>\n",
       "      <td></td>\n",
       "      <td></td>\n",
       "      <td></td>\n",
       "      <td>1</td>\n",
       "      <td>1</td>\n",
       "      <td>1</td>\n",
       "      <td>...</td>\n",
       "      <td></td>\n",
       "      <td></td>\n",
       "      <td></td>\n",
       "      <td></td>\n",
       "      <td></td>\n",
       "      <td></td>\n",
       "      <td></td>\n",
       "      <td></td>\n",
       "      <td></td>\n",
       "      <td></td>\n",
       "    </tr>\n",
       "    <tr>\n",
       "      <th>1641</th>\n",
       "      <td></td>\n",
       "      <td></td>\n",
       "      <td></td>\n",
       "      <td></td>\n",
       "      <td></td>\n",
       "      <td></td>\n",
       "      <td></td>\n",
       "      <td></td>\n",
       "      <td></td>\n",
       "      <td></td>\n",
       "      <td>...</td>\n",
       "      <td></td>\n",
       "      <td></td>\n",
       "      <td></td>\n",
       "      <td></td>\n",
       "      <td></td>\n",
       "      <td></td>\n",
       "      <td></td>\n",
       "      <td></td>\n",
       "      <td></td>\n",
       "      <td></td>\n",
       "    </tr>\n",
       "  </tbody>\n",
       "</table>\n",
       "<p>1642 rows × 45 columns</p>\n",
       "</div>"
      ],
      "text/plain": [
       "     parent_knowledge_status parentcontrol sexualexperience  \\\n",
       "0                          2                              1   \n",
       "1                          2                              2   \n",
       "2                          3                            NaN   \n",
       "3                          0             0                0   \n",
       "4                          2                                  \n",
       "...                      ...           ...              ...   \n",
       "1637                       2                              2   \n",
       "1638                                                          \n",
       "1639                       1             2                1   \n",
       "1640                       2                              2   \n",
       "1641                                                          \n",
       "\n",
       "     serious_relationship notserious_relationship meeting_online_experience  \\\n",
       "0                       2                       2                         1   \n",
       "1                                                                             \n",
       "2                     NaN                     NaN                       NaN   \n",
       "3                       0                       0                         0   \n",
       "4                                                                             \n",
       "...                   ...                     ...                       ...   \n",
       "1637                                                                          \n",
       "1638                                                                          \n",
       "1639                    1                                                 1   \n",
       "1640                                                                          \n",
       "1641                                                                          \n",
       "\n",
       "     online_and_never_met socialmedia_interested_interactedsm  \\\n",
       "0                                                           1   \n",
       "1                                                               \n",
       "2                     NaN                                 NaN   \n",
       "3                       0                                   0   \n",
       "4                                                               \n",
       "...                   ...                                 ...   \n",
       "1637                                                        1   \n",
       "1638                                                            \n",
       "1639                                                        1   \n",
       "1640                                                        1   \n",
       "1641                                                            \n",
       "\n",
       "     socialmedia_interested_friendedsm interested_friendedsm  ...  \\\n",
       "0                                    2                     1  ...   \n",
       "1                                                          1  ...   \n",
       "2                                  NaN                   NaN  ...   \n",
       "3                                                          1  ...   \n",
       "4                                                             ...   \n",
       "...                                ...                   ...  ...   \n",
       "1637                                 1                     1  ...   \n",
       "1638                                                          ...   \n",
       "1639                                 1                     1  ...   \n",
       "1640                                 1                     1  ...   \n",
       "1641                                                          ...   \n",
       "\n",
       "     shareonline_location shareonline_activity shareonline_thoughts  \\\n",
       "0                       2                    1                    1   \n",
       "1                                                                     \n",
       "2                     NaN                  NaN                  NaN   \n",
       "3                      51                    9                    2   \n",
       "4                                                                     \n",
       "...                   ...                  ...                  ...   \n",
       "1637                                                                  \n",
       "1638                                                                  \n",
       "1639                    1                    1                    1   \n",
       "1640                                                                  \n",
       "1641                                                                  \n",
       "\n",
       "     shareonline_friends shareonline_school shareonline_health  \\\n",
       "0                      2                  1                  2   \n",
       "1                                                                \n",
       "2                    NaN                NaN                NaN   \n",
       "3                      4                  2                  1   \n",
       "4                                                                \n",
       "...                  ...                ...                ...   \n",
       "1637                                                             \n",
       "1638                                                             \n",
       "1639                   2                  2                  2   \n",
       "1640                                                             \n",
       "1641                                                             \n",
       "\n",
       "     shareonline_family shareonline_politics shareonline_religion  \\\n",
       "0                    -1                    2                    2   \n",
       "1                                                                   \n",
       "2                   NaN                  NaN                  NaN   \n",
       "3                     6                    1                   12   \n",
       "4                                                                   \n",
       "...                 ...                  ...                  ...   \n",
       "1637                                                                \n",
       "1638                                                                \n",
       "1639                  2                    2                    2   \n",
       "1640                                                                \n",
       "1641                                                                \n",
       "\n",
       "     shareonline_funny  \n",
       "0                    1  \n",
       "1                       \n",
       "2                  NaN  \n",
       "3                    1  \n",
       "4                       \n",
       "...                ...  \n",
       "1637                    \n",
       "1638                    \n",
       "1639                 1  \n",
       "1640                    \n",
       "1641                    \n",
       "\n",
       "[1642 rows x 45 columns]"
      ]
     },
     "execution_count": 14,
     "metadata": {},
     "output_type": "execute_result"
    }
   ],
   "source": [
    "cleandating_df"
   ]
  },
  {
   "cell_type": "markdown",
   "id": "35faf6c2",
   "metadata": {},
   "source": [
    "When taking a closer look at the clean data chart above, there are many columns that have missing responses, 0's, and NaN. Therefore, these areas will not be coded as :None when I do the mapping below. Also, there were many cases where the numbers did not align with yes and no. Therefore, I had to create different mappings to indicate what results meant yes or no, or whatever the variables were measuring (ex: every day). Some of the questions asked had people refuse to answer the question, or avoided the question in general. I have saved my clean data below, and will now conduct further examination, such as mapping and loooking at value counts."
   ]
  },
  {
   "cell_type": "code",
   "execution_count": 15,
   "id": "7170332a",
   "metadata": {},
   "outputs": [
    {
     "data": {
      "text/plain": [
       "2      791\n",
       "       554\n",
       "1      210\n",
       "3       82\n",
       "0        3\n",
       "-1       1\n",
       "NaN      1\n",
       "Name: parent_knowledge_status, dtype: int64"
      ]
     },
     "execution_count": 15,
     "metadata": {},
     "output_type": "execute_result"
    }
   ],
   "source": [
    "cleandating_df ['parent_knowledge_status'].value_counts(dropna=False)"
   ]
  },
  {
   "cell_type": "code",
   "execution_count": 16,
   "id": "3be0c53a",
   "metadata": {},
   "outputs": [],
   "source": [
    "mappingpknowledge_yesno = {\n",
    "    '1':'yes', \n",
    "    '2':'no', \n",
    "    '3':'not_sure',\n",
    "    '0':None, '':None, '-1':None}"
   ]
  },
  {
   "cell_type": "code",
   "execution_count": 17,
   "id": "f54cd842",
   "metadata": {},
   "outputs": [],
   "source": [
    "cleandating_df ['pparent_knowledge_status'] = cleandating_df ['parent_knowledge_status'].map(mappingpknowledge_yesno)"
   ]
  },
  {
   "cell_type": "code",
   "execution_count": 18,
   "id": "f69e06ac",
   "metadata": {},
   "outputs": [
    {
     "data": {
      "text/plain": [
       "      1428\n",
       "1      104\n",
       "2      103\n",
       "0        3\n",
       "-1       3\n",
       "Name: parentcontrol, dtype: int64"
      ]
     },
     "execution_count": 18,
     "metadata": {},
     "output_type": "execute_result"
    }
   ],
   "source": [
    "cleandating_df ['parentcontrol'].value_counts(dropna=True)"
   ]
  },
  {
   "cell_type": "code",
   "execution_count": 19,
   "id": "066209bc",
   "metadata": {},
   "outputs": [],
   "source": [
    "mappingpcontrol_yesno = {'1':'do_not_limit', '2':'limit_time','0':None, '':None, '-1':None}"
   ]
  },
  {
   "cell_type": "code",
   "execution_count": 20,
   "id": "78feaeef",
   "metadata": {},
   "outputs": [],
   "source": [
    "cleandating_df ['parentcontrol'] = cleandating_df ['parentcontrol'].map(mappingpcontrol_yesno)"
   ]
  },
  {
   "cell_type": "code",
   "execution_count": 21,
   "id": "90e759cb",
   "metadata": {},
   "outputs": [
    {
     "data": {
      "text/plain": [
       "2      691\n",
       "       579\n",
       "1      359\n",
       "-1       7\n",
       "NaN      4\n",
       "0        2\n",
       "Name: sexualexperience, dtype: int64"
      ]
     },
     "execution_count": 21,
     "metadata": {},
     "output_type": "execute_result"
    }
   ],
   "source": [
    "cleandating_df ['sexualexperience'].value_counts(dropna=False)"
   ]
  },
  {
   "cell_type": "code",
   "execution_count": 22,
   "id": "2c2076fc",
   "metadata": {},
   "outputs": [],
   "source": [
    "mappingexperience_yesno = {'1':'yes','2':'no','0':None,'':None,'-1':None}"
   ]
  },
  {
   "cell_type": "code",
   "execution_count": 23,
   "id": "0c47dcc2",
   "metadata": {},
   "outputs": [],
   "source": [
    "cleandating_df ['sexualexperience'] = cleandating_df ['sexualexperience'].map(mappingexperience_yesno)"
   ]
  },
  {
   "cell_type": "code",
   "execution_count": 24,
   "id": "564db482",
   "metadata": {},
   "outputs": [
    {
     "data": {
      "text/plain": [
       "       1277\n",
       "2       213\n",
       "1       143\n",
       "NaN       4\n",
       "-1        3\n",
       "0         2\n",
       "Name: serious_relationship, dtype: int64"
      ]
     },
     "execution_count": 24,
     "metadata": {},
     "output_type": "execute_result"
    }
   ],
   "source": [
    "cleandating_df ['serious_relationship'].value_counts(dropna=False)"
   ]
  },
  {
   "cell_type": "code",
   "execution_count": 25,
   "id": "856baa52",
   "metadata": {},
   "outputs": [],
   "source": [
    "mappingserious_yesno = {\n",
    "    '1':'yes',\n",
    "    '2':'no',\n",
    "    '0':None,'':None,'-1':None}"
   ]
  },
  {
   "cell_type": "code",
   "execution_count": 26,
   "id": "36925eef",
   "metadata": {},
   "outputs": [],
   "source": [
    "cleandating_df ['serious_relationship'] = cleandating_df ['serious_relationship'].map(mappingserious_yesno)"
   ]
  },
  {
   "cell_type": "code",
   "execution_count": 27,
   "id": "762935b6",
   "metadata": {},
   "outputs": [
    {
     "data": {
      "text/plain": [
       "       1423\n",
       "2       166\n",
       "1        47\n",
       "NaN       4\n",
       "0         2\n",
       "Name: notserious_relationship, dtype: int64"
      ]
     },
     "execution_count": 27,
     "metadata": {},
     "output_type": "execute_result"
    }
   ],
   "source": [
    "cleandating_df ['notserious_relationship'].value_counts(dropna=False)"
   ]
  },
  {
   "cell_type": "code",
   "execution_count": 28,
   "id": "5d60e1dc",
   "metadata": {},
   "outputs": [],
   "source": [
    "mappingnotserious_yesno = {'1':'yes','2':'no','0':None,'':None}"
   ]
  },
  {
   "cell_type": "code",
   "execution_count": 29,
   "id": "ac2a7ba7",
   "metadata": {},
   "outputs": [],
   "source": [
    "cleandating_df ['notserious_relationship'] = cleandating_df ['notserious_relationship'].map(mappingnotserious_yesno)"
   ]
  },
  {
   "cell_type": "code",
   "execution_count": 30,
   "id": "02312006",
   "metadata": {},
   "outputs": [
    {
     "data": {
      "text/plain": [
       "       1277\n",
       "1       270\n",
       "2        44\n",
       "3        41\n",
       "NaN       4\n",
       "4         3\n",
       "0         2\n",
       "-1        1\n",
       "Name: meeting_online_experience, dtype: int64"
      ]
     },
     "execution_count": 30,
     "metadata": {},
     "output_type": "execute_result"
    }
   ],
   "source": [
    "cleandating_df ['meeting_online_experience'].value_counts(dropna=False)"
   ]
  },
  {
   "cell_type": "code",
   "execution_count": 31,
   "id": "2a01d138",
   "metadata": {},
   "outputs": [],
   "source": [
    "mappingmeeting_yesno = {'1':'none','2':'one','3':'2-5','4':'5+', '0': None, '-1': None,'': None}"
   ]
  },
  {
   "cell_type": "code",
   "execution_count": 32,
   "id": "cb0fd190",
   "metadata": {},
   "outputs": [],
   "source": [
    "cleandating_df ['meeting_online_experience'] = cleandating_df ['meeting_online_experience'].map(mappingmeeting_yesno)"
   ]
  },
  {
   "cell_type": "code",
   "execution_count": 33,
   "id": "60cf87f9",
   "metadata": {},
   "outputs": [
    {
     "data": {
      "text/plain": [
       "       1548\n",
       "2        56\n",
       "1        32\n",
       "NaN       4\n",
       "0         2\n",
       "Name: online_and_never_met, dtype: int64"
      ]
     },
     "execution_count": 33,
     "metadata": {},
     "output_type": "execute_result"
    }
   ],
   "source": [
    "cleandating_df ['online_and_never_met'].value_counts(dropna=False)"
   ]
  },
  {
   "cell_type": "code",
   "execution_count": 34,
   "id": "151c9d4b",
   "metadata": {},
   "outputs": [],
   "source": [
    "mappingnevermet_yesno = {'1':'yes','2':'no','0': None,'': None}"
   ]
  },
  {
   "cell_type": "code",
   "execution_count": 35,
   "id": "2af10181",
   "metadata": {},
   "outputs": [],
   "source": [
    "cleandating_df ['online_and_never_met'] = cleandating_df ['online_and_never_met'].map(mappingnevermet_yesno)"
   ]
  },
  {
   "cell_type": "code",
   "execution_count": 36,
   "id": "668a7fd7",
   "metadata": {},
   "outputs": [],
   "source": [
    "mappinginterest_yesno = {\n",
    "    '1':'yes',\n",
    "    '2':'no',\n",
    "    '-1': None,'': None}"
   ]
  },
  {
   "cell_type": "code",
   "execution_count": 37,
   "id": "22c3c2fb",
   "metadata": {},
   "outputs": [],
   "source": [
    "cleandating_df['socialmedia_interested_friendedsm'] = cleandating_df['socialmedia_interested_friendedsm'].map(mappinginterest_yesno)"
   ]
  },
  {
   "cell_type": "code",
   "execution_count": 38,
   "id": "18133bf3",
   "metadata": {
    "scrolled": false
   },
   "outputs": [
    {
     "data": {
      "text/plain": [
       "NaN    856\n",
       "yes    501\n",
       "no     285\n",
       "Name: socialmedia_interested_friendedsm, dtype: int64"
      ]
     },
     "execution_count": 38,
     "metadata": {},
     "output_type": "execute_result"
    }
   ],
   "source": [
    "cleandating_df['socialmedia_interested_friendedsm'].value_counts(dropna=False)"
   ]
  },
  {
   "cell_type": "code",
   "execution_count": 39,
   "id": "4342d855",
   "metadata": {},
   "outputs": [],
   "source": [
    "cleandating_df['interested_friendedsm'] = cleandating_df['interested_friendedsm'].map(mappinginterest_yesno)"
   ]
  },
  {
   "cell_type": "code",
   "execution_count": 40,
   "id": "c11c4cc4",
   "metadata": {},
   "outputs": [
    {
     "data": {
      "text/plain": [
       "NaN    587\n",
       "no     570\n",
       "yes    485\n",
       "Name: interested_friendedsm, dtype: int64"
      ]
     },
     "execution_count": 40,
     "metadata": {},
     "output_type": "execute_result"
    }
   ],
   "source": [
    "cleandating_df['interested_friendedsm'].value_counts(dropna=False)"
   ]
  },
  {
   "cell_type": "code",
   "execution_count": 41,
   "id": "f2d9a7a6",
   "metadata": {},
   "outputs": [],
   "source": [
    "cleandating_df['interested_text'] = cleandating_df['interested_text'].map(mappinginterest_yesno)"
   ]
  },
  {
   "cell_type": "code",
   "execution_count": 42,
   "id": "45bf4646",
   "metadata": {},
   "outputs": [
    {
     "data": {
      "text/plain": [
       "no     728\n",
       "NaN    587\n",
       "yes    327\n",
       "Name: interested_text, dtype: int64"
      ]
     },
     "execution_count": 42,
     "metadata": {},
     "output_type": "execute_result"
    }
   ],
   "source": [
    "cleandating_df['interested_text'].value_counts(dropna=False)"
   ]
  },
  {
   "cell_type": "code",
   "execution_count": 43,
   "id": "e3b0331c",
   "metadata": {},
   "outputs": [
    {
     "data": {
      "text/plain": [
       "2     992\n",
       "      579\n",
       "1      63\n",
       "-1      4\n",
       "Name: interested_video, dtype: int64"
      ]
     },
     "execution_count": 43,
     "metadata": {},
     "output_type": "execute_result"
    }
   ],
   "source": [
    "cleandating_df['interested_video'].value_counts(dropna=True)"
   ]
  },
  {
   "cell_type": "code",
   "execution_count": 44,
   "id": "c1b74c50",
   "metadata": {},
   "outputs": [],
   "source": [
    "cleandating_df['interested_video'] = cleandating_df['interested_video'].map(mappinginterest_yesno)"
   ]
  },
  {
   "cell_type": "code",
   "execution_count": 45,
   "id": "af35505e",
   "metadata": {},
   "outputs": [
    {
     "data": {
      "text/plain": [
       "2      945\n",
       "       579\n",
       "1      110\n",
       "NaN      4\n",
       "-1       4\n",
       "Name: interested_music, dtype: int64"
      ]
     },
     "execution_count": 45,
     "metadata": {},
     "output_type": "execute_result"
    }
   ],
   "source": [
    "cleandating_df['interested_music'].value_counts(dropna=False)"
   ]
  },
  {
   "cell_type": "code",
   "execution_count": 46,
   "id": "23883597",
   "metadata": {},
   "outputs": [],
   "source": [
    "cleandating_df['interested_music'] = cleandating_df['interested_music'].map(mappinginterest_yesno)"
   ]
  },
  {
   "cell_type": "code",
   "execution_count": 47,
   "id": "d85a2865",
   "metadata": {},
   "outputs": [
    {
     "data": {
      "text/plain": [
       "2      966\n",
       "       579\n",
       "1       89\n",
       "NaN      4\n",
       "-1       4\n",
       "Name: interested_sexypics, dtype: int64"
      ]
     },
     "execution_count": 47,
     "metadata": {},
     "output_type": "execute_result"
    }
   ],
   "source": [
    "cleandating_df['interested_sexypics'].value_counts(dropna=False)"
   ]
  },
  {
   "cell_type": "code",
   "execution_count": 48,
   "id": "12b6ccfb",
   "metadata": {},
   "outputs": [],
   "source": [
    "cleandating_df['interested_sexypics'] = cleandating_df['interested_sexypics'].map(mappinginterest_yesno)"
   ]
  },
  {
   "cell_type": "code",
   "execution_count": 49,
   "id": "3761631e",
   "metadata": {},
   "outputs": [
    {
     "data": {
      "text/plain": [
       "      579\n",
       "1     566\n",
       "2     489\n",
       "-1      4\n",
       "Name: interested_inperson, dtype: int64"
      ]
     },
     "execution_count": 49,
     "metadata": {},
     "output_type": "execute_result"
    }
   ],
   "source": [
    "cleandating_df['interested_inperson'].value_counts(dropna=True)"
   ]
  },
  {
   "cell_type": "code",
   "execution_count": 50,
   "id": "2894201e",
   "metadata": {},
   "outputs": [],
   "source": [
    "cleandating_df['interested_inperson'] = cleandating_df['interested_inperson'].map(mappinginterest_yesno)"
   ]
  },
  {
   "cell_type": "code",
   "execution_count": 51,
   "id": "5774935c",
   "metadata": {},
   "outputs": [
    {
     "data": {
      "text/plain": [
       "2      1017\n",
       "        579\n",
       "1        35\n",
       "-1        7\n",
       "NaN       4\n",
       "Name: interested_other, dtype: int64"
      ]
     },
     "execution_count": 51,
     "metadata": {},
     "output_type": "execute_result"
    }
   ],
   "source": [
    "cleandating_df['interested_other'].value_counts(dropna=False)"
   ]
  },
  {
   "cell_type": "code",
   "execution_count": 52,
   "id": "631e04ed",
   "metadata": {},
   "outputs": [],
   "source": [
    "cleandating_df['interested_other'] = cleandating_df['interested_other'].map(mappinginterest_yesno)"
   ]
  },
  {
   "cell_type": "code",
   "execution_count": 53,
   "id": "126ceb1a",
   "metadata": {},
   "outputs": [
    {
     "data": {
      "text/plain": [
       "2      787\n",
       "       579\n",
       "1      266\n",
       "-1       6\n",
       "NaN      4\n",
       "Name: search_information_current, dtype: int64"
      ]
     },
     "execution_count": 53,
     "metadata": {},
     "output_type": "execute_result"
    }
   ],
   "source": [
    "cleandating_df['search_information_current'].value_counts(dropna=False)"
   ]
  },
  {
   "cell_type": "code",
   "execution_count": 54,
   "id": "f56c9d3b",
   "metadata": {},
   "outputs": [],
   "source": [
    "mappingsearch_yesno = {'1':'yes','2':'no','-1': None,'': None}"
   ]
  },
  {
   "cell_type": "code",
   "execution_count": 55,
   "id": "06e77a3c",
   "metadata": {},
   "outputs": [],
   "source": [
    "cleandating_df['search_information_current'] = cleandating_df['search_information_current'].map(mappingsearch_yesno)"
   ]
  },
  {
   "cell_type": "code",
   "execution_count": 56,
   "id": "23941306",
   "metadata": {},
   "outputs": [
    {
     "data": {
      "text/plain": [
       "       849\n",
       "2      596\n",
       "1      191\n",
       "NaN      4\n",
       "-1       2\n",
       "Name: friended_setup, dtype: int64"
      ]
     },
     "execution_count": 56,
     "metadata": {},
     "output_type": "execute_result"
    }
   ],
   "source": [
    "cleandating_df['friended_setup'].value_counts(dropna=False)"
   ]
  },
  {
   "cell_type": "code",
   "execution_count": 57,
   "id": "9fa65d45",
   "metadata": {},
   "outputs": [],
   "source": [
    "cleandating_df['friended_setup'] = cleandating_df['friended_setup'].map(mappingsearch_yesno)"
   ]
  },
  {
   "cell_type": "code",
   "execution_count": 58,
   "id": "729ebf0d",
   "metadata": {},
   "outputs": [
    {
     "data": {
      "text/plain": [
       "       1277\n",
       "2       221\n",
       "1       139\n",
       "NaN       4\n",
       "-1        1\n",
       "Name: search_information_past, dtype: int64"
      ]
     },
     "execution_count": 58,
     "metadata": {},
     "output_type": "execute_result"
    }
   ],
   "source": [
    "cleandating_df['search_information_past'].value_counts(dropna=False)"
   ]
  },
  {
   "cell_type": "code",
   "execution_count": 59,
   "id": "d481b46a",
   "metadata": {},
   "outputs": [],
   "source": [
    "cleandating_df['search_information_past'] = cleandating_df['search_information_past'].map(mappingsearch_yesno)"
   ]
  },
  {
   "cell_type": "code",
   "execution_count": 60,
   "id": "a856a8bd",
   "metadata": {},
   "outputs": [
    {
     "data": {
      "text/plain": [
       "0      825\n",
       "       579\n",
       "1      232\n",
       "NaN      4\n",
       "3        2\n",
       "Name: askout_text, dtype: int64"
      ]
     },
     "execution_count": 60,
     "metadata": {},
     "output_type": "execute_result"
    }
   ],
   "source": [
    "cleandating_df ['askout_text'].value_counts(dropna=False)"
   ]
  },
  {
   "cell_type": "code",
   "execution_count": 61,
   "id": "f1b690ca",
   "metadata": {},
   "outputs": [
    {
     "data": {
      "text/plain": [
       "       579\n",
       "1      549\n",
       "0      508\n",
       "NaN      4\n",
       "3        2\n",
       "Name: askout_inperson, dtype: int64"
      ]
     },
     "execution_count": 61,
     "metadata": {},
     "output_type": "execute_result"
    }
   ],
   "source": [
    "cleandating_df ['askout_inperson'].value_counts(dropna=False)"
   ]
  },
  {
   "cell_type": "code",
   "execution_count": 62,
   "id": "5cb5e18f",
   "metadata": {},
   "outputs": [
    {
     "data": {
      "text/plain": [
       "0      900\n",
       "       579\n",
       "1      157\n",
       "NaN      4\n",
       "3        2\n",
       "Name: askout_phone, dtype: int64"
      ]
     },
     "execution_count": 62,
     "metadata": {},
     "output_type": "execute_result"
    }
   ],
   "source": [
    "cleandating_df ['askout_phone'].value_counts(dropna=False)"
   ]
  },
  {
   "cell_type": "code",
   "execution_count": 63,
   "id": "f74dec1f",
   "metadata": {},
   "outputs": [
    {
     "data": {
      "text/plain": [
       "0      966\n",
       "       579\n",
       "1       92\n",
       "NaN      4\n",
       "3        1\n",
       "Name: askout_dm, dtype: int64"
      ]
     },
     "execution_count": 63,
     "metadata": {},
     "output_type": "execute_result"
    }
   ],
   "source": [
    "cleandating_df ['askout_dm'].value_counts(dropna=False)"
   ]
  },
  {
   "cell_type": "code",
   "execution_count": 64,
   "id": "ee7f9394",
   "metadata": {},
   "outputs": [
    {
     "data": {
      "text/plain": [
       "0      935\n",
       "       579\n",
       "1      122\n",
       "NaN      4\n",
       "3        2\n",
       "Name: askout_friendasked, dtype: int64"
      ]
     },
     "execution_count": 64,
     "metadata": {},
     "output_type": "execute_result"
    }
   ],
   "source": [
    "cleandating_df ['askout_friendasked'].value_counts(dropna=False)"
   ]
  },
  {
   "cell_type": "code",
   "execution_count": 65,
   "id": "c83f2e46",
   "metadata": {},
   "outputs": [
    {
     "data": {
      "text/plain": [
       "0      766\n",
       "       579\n",
       "1      291\n",
       "NaN      4\n",
       "3        2\n",
       "Name: askout_wait, dtype: int64"
      ]
     },
     "execution_count": 65,
     "metadata": {},
     "output_type": "execute_result"
    }
   ],
   "source": [
    "cleandating_df ['askout_wait'].value_counts(dropna=False)"
   ]
  },
  {
   "cell_type": "code",
   "execution_count": 66,
   "id": "15c6367d",
   "metadata": {},
   "outputs": [
    {
     "data": {
      "text/plain": [
       "0      997\n",
       "       579\n",
       "1       61\n",
       "NaN      4\n",
       "3        1\n",
       "Name: askout_other, dtype: int64"
      ]
     },
     "execution_count": 66,
     "metadata": {},
     "output_type": "execute_result"
    }
   ],
   "source": [
    "cleandating_df ['askout_other'].value_counts(dropna=False)"
   ]
  },
  {
   "cell_type": "code",
   "execution_count": 67,
   "id": "a267baf4",
   "metadata": {},
   "outputs": [],
   "source": [
    "mappingaskout_yesno = {'1':'yes', '0':'no', '3': None,'': None}"
   ]
  },
  {
   "cell_type": "code",
   "execution_count": 68,
   "id": "e502efce",
   "metadata": {},
   "outputs": [],
   "source": [
    "cleandating_df ['askout_other'] = cleandating_df ['askout_other'].map(mappingaskout_yesno)"
   ]
  },
  {
   "cell_type": "code",
   "execution_count": 69,
   "id": "1d86965f",
   "metadata": {},
   "outputs": [],
   "source": [
    "cleandating_df ['askout_wait'] = cleandating_df ['askout_wait'].map(mappingaskout_yesno)"
   ]
  },
  {
   "cell_type": "code",
   "execution_count": 70,
   "id": "7c680b0a",
   "metadata": {},
   "outputs": [],
   "source": [
    "cleandating_df ['askout_friendasked'] = cleandating_df ['askout_friendasked'].map(mappingaskout_yesno)"
   ]
  },
  {
   "cell_type": "code",
   "execution_count": 71,
   "id": "c945765e",
   "metadata": {},
   "outputs": [],
   "source": [
    "cleandating_df ['askout_dm'] = cleandating_df ['askout_dm'].map(mappingaskout_yesno)"
   ]
  },
  {
   "cell_type": "code",
   "execution_count": 72,
   "id": "485a5a88",
   "metadata": {},
   "outputs": [],
   "source": [
    "cleandating_df ['askout_phone'] = cleandating_df ['askout_phone'].map(mappingaskout_yesno)"
   ]
  },
  {
   "cell_type": "code",
   "execution_count": 73,
   "id": "402edc3f",
   "metadata": {},
   "outputs": [],
   "source": [
    "cleandating_df ['askout_inperson'] = cleandating_df ['askout_inperson'].map(mappingaskout_yesno)"
   ]
  },
  {
   "cell_type": "code",
   "execution_count": 74,
   "id": "98370c9d",
   "metadata": {},
   "outputs": [],
   "source": [
    "cleandating_df ['askout_text'] = cleandating_df ['askout_text'].map(mappingaskout_yesno)"
   ]
  },
  {
   "cell_type": "code",
   "execution_count": 75,
   "id": "70c1adb6",
   "metadata": {},
   "outputs": [
    {
     "data": {
      "text/plain": [
       "       1279\n",
       "2       285\n",
       "1        73\n",
       "NaN       4\n",
       "-1        1\n",
       "Name: shared_passwords, dtype: int64"
      ]
     },
     "execution_count": 75,
     "metadata": {},
     "output_type": "execute_result"
    }
   ],
   "source": [
    "cleandating_df ['shared_passwords'].value_counts(dropna=False)"
   ]
  },
  {
   "cell_type": "code",
   "execution_count": 76,
   "id": "3cc0b8c0",
   "metadata": {},
   "outputs": [],
   "source": [
    "mappingpasswords_yesno = {'1':'yes', '2':'no', '-1': None,'': None}"
   ]
  },
  {
   "cell_type": "code",
   "execution_count": 77,
   "id": "56f5671e",
   "metadata": {},
   "outputs": [],
   "source": [
    "cleandating_df ['shared_passwords'] = cleandating_df ['shared_passwords'].map(mappingpasswords_yesno)"
   ]
  },
  {
   "cell_type": "code",
   "execution_count": 78,
   "id": "4be15189",
   "metadata": {},
   "outputs": [
    {
     "data": {
      "text/plain": [
       "       1279\n",
       "2       142\n",
       "3        93\n",
       "1        75\n",
       "4        47\n",
       "NaN       4\n",
       "-1        2\n",
       "Name: time_outsideschoool, dtype: int64"
      ]
     },
     "execution_count": 78,
     "metadata": {},
     "output_type": "execute_result"
    }
   ],
   "source": [
    "cleandating_df ['time_outsideschoool'].value_counts(dropna=False)"
   ]
  },
  {
   "cell_type": "code",
   "execution_count": 79,
   "id": "342c0591",
   "metadata": {},
   "outputs": [],
   "source": [
    "mappingtime_yesno = {'1':'everyday', '2':'every_few_days', '3': 'less_often','4': 'never', '-1': None, '': None}"
   ]
  },
  {
   "cell_type": "code",
   "execution_count": 80,
   "id": "d094ff6e",
   "metadata": {},
   "outputs": [],
   "source": [
    "cleandating_df ['time_outsideschoool'] = cleandating_df ['time_outsideschoool'].map(mappingtime_yesno)"
   ]
  },
  {
   "cell_type": "code",
   "execution_count": 81,
   "id": "b8677482",
   "metadata": {},
   "outputs": [
    {
     "data": {
      "text/plain": [
       "       1277\n",
       "1       141\n",
       "2       104\n",
       "3        70\n",
       "4        44\n",
       "NaN       4\n",
       "-1        2\n",
       "Name: time_phone, dtype: int64"
      ]
     },
     "execution_count": 81,
     "metadata": {},
     "output_type": "execute_result"
    }
   ],
   "source": [
    "cleandating_df ['time_phone'].value_counts(dropna=False)"
   ]
  },
  {
   "cell_type": "code",
   "execution_count": 82,
   "id": "52a165ea",
   "metadata": {},
   "outputs": [],
   "source": [
    "cleandating_df ['time_phone'] = cleandating_df ['time_phone'].map(mappingtime_yesno)"
   ]
  },
  {
   "cell_type": "code",
   "execution_count": 83,
   "id": "51182cd8",
   "metadata": {},
   "outputs": [
    {
     "data": {
      "text/plain": [
       "       1276\n",
       "1       265\n",
       "2        45\n",
       "4        26\n",
       "3        24\n",
       "NaN       4\n",
       "-1        2\n",
       "Name: time_text, dtype: int64"
      ]
     },
     "execution_count": 83,
     "metadata": {},
     "output_type": "execute_result"
    }
   ],
   "source": [
    "cleandating_df ['time_text'].value_counts(dropna=False)"
   ]
  },
  {
   "cell_type": "code",
   "execution_count": 84,
   "id": "5c19c3a1",
   "metadata": {},
   "outputs": [],
   "source": [
    "cleandating_df ['time_text'] = cleandating_df ['time_text'].map(mappingtime_yesno)"
   ]
  },
  {
   "cell_type": "code",
   "execution_count": 150,
   "id": "840a704f",
   "metadata": {},
   "outputs": [
    {
     "data": {
      "text/plain": [
       "NaN    1642\n",
       "Name: time_online, dtype: int64"
      ]
     },
     "execution_count": 150,
     "metadata": {},
     "output_type": "execute_result"
    }
   ],
   "source": [
    "cleandating_df ['time_online'].value_counts(dropna=False)"
   ]
  },
  {
   "cell_type": "code",
   "execution_count": 149,
   "id": "d2878298",
   "metadata": {},
   "outputs": [],
   "source": [
    "cleandating_df ['time_online'] = cleandating_df ['time_online'].map(mappingtime_yesno)"
   ]
  },
  {
   "cell_type": "code",
   "execution_count": 134,
   "id": "135abe0b",
   "metadata": {},
   "outputs": [],
   "source": [
    "cleandating_df ['time_videochat'] = cleandating_df ['time_videochat'].map(mappingtime_yesno)"
   ]
  },
  {
   "cell_type": "code",
   "execution_count": 143,
   "id": "214d1d70",
   "metadata": {},
   "outputs": [
    {
     "data": {
      "text/plain": [
       "NaN    1642\n",
       "Name: time_videochat, dtype: int64"
      ]
     },
     "execution_count": 143,
     "metadata": {},
     "output_type": "execute_result"
    }
   ],
   "source": [
    "cleandating_df['time_videochat'].value_counts(dropna=False)"
   ]
  },
  {
   "cell_type": "code",
   "execution_count": 89,
   "id": "a2d42d59",
   "metadata": {},
   "outputs": [
    {
     "data": {
      "text/plain": [
       "       1276\n",
       "4       219\n",
       "3        84\n",
       "2        35\n",
       "1        22\n",
       "NaN       4\n",
       "-1        2\n",
       "Name: time_email, dtype: int64"
      ]
     },
     "execution_count": 89,
     "metadata": {},
     "output_type": "execute_result"
    }
   ],
   "source": [
    "cleandating_df ['time_email'].value_counts(dropna=False)"
   ]
  },
  {
   "cell_type": "code",
   "execution_count": 90,
   "id": "8f845ef4",
   "metadata": {},
   "outputs": [],
   "source": [
    "cleandating_df ['time_email'] = cleandating_df ['time_email'].map(mappingtime_yesno)"
   ]
  },
  {
   "cell_type": "code",
   "execution_count": 91,
   "id": "d9177948",
   "metadata": {},
   "outputs": [
    {
     "data": {
      "text/plain": [
       "      1320\n",
       "3       95\n",
       "2       85\n",
       "1       74\n",
       "4       63\n",
       "-1       1\n",
       "Name: time_socialmediapost, dtype: int64"
      ]
     },
     "execution_count": 91,
     "metadata": {},
     "output_type": "execute_result"
    }
   ],
   "source": [
    "cleandating_df ['time_socialmediapost'].value_counts(dropna=True)"
   ]
  },
  {
   "cell_type": "code",
   "execution_count": 92,
   "id": "0cd67853",
   "metadata": {},
   "outputs": [],
   "source": [
    "cleandating_df ['time_socialmediapost'] = cleandating_df ['time_socialmediapost'].map(mappingtime_yesno)"
   ]
  },
  {
   "cell_type": "code",
   "execution_count": 93,
   "id": "9cace8af",
   "metadata": {},
   "outputs": [
    {
     "data": {
      "text/plain": [
       "      1292\n",
       "4      172\n",
       "1       70\n",
       "3       63\n",
       "2       39\n",
       "-1       2\n",
       "Name: time_messagingapps, dtype: int64"
      ]
     },
     "execution_count": 93,
     "metadata": {},
     "output_type": "execute_result"
    }
   ],
   "source": [
    "cleandating_df ['time_messagingapps'].value_counts(dropna=True)"
   ]
  },
  {
   "cell_type": "code",
   "execution_count": 94,
   "id": "ba97fe55",
   "metadata": {},
   "outputs": [],
   "source": [
    "cleandating_df ['time_messagingapps'] = cleandating_df ['time_messagingapps'].map(mappingtime_yesno)"
   ]
  },
  {
   "cell_type": "code",
   "execution_count": 95,
   "id": "f6ed1321",
   "metadata": {},
   "outputs": [
    {
     "data": {
      "text/plain": [
       "       1276\n",
       "1       270\n",
       "2        87\n",
       "NaN       4\n",
       "-1        2\n",
       "51        1\n",
       "43        1\n",
       "63        1\n",
       "Name: shareonline_location, dtype: int64"
      ]
     },
     "execution_count": 95,
     "metadata": {},
     "output_type": "execute_result"
    }
   ],
   "source": [
    "cleandating_df ['shareonline_location'].value_counts(dropna=False)"
   ]
  },
  {
   "cell_type": "code",
   "execution_count": 96,
   "id": "558a2ee3",
   "metadata": {},
   "outputs": [],
   "source": [
    "mappingshare_yesno = {'1':'yes', '2':'no', '-1': None,'51': None, '63': None, '': None}"
   ]
  },
  {
   "cell_type": "code",
   "execution_count": 97,
   "id": "4ba466d1",
   "metadata": {},
   "outputs": [],
   "source": [
    "cleandating_df ['shareonline_location'] = cleandating_df ['shareonline_location'].map(mappingshare_yesno)"
   ]
  },
  {
   "cell_type": "code",
   "execution_count": 98,
   "id": "2bdcfdbd",
   "metadata": {},
   "outputs": [
    {
     "data": {
      "text/plain": [
       "       1276\n",
       "1       285\n",
       "2        72\n",
       "NaN       4\n",
       "9         2\n",
       "-1        2\n",
       "10        1\n",
       "Name: shareonline_activity, dtype: int64"
      ]
     },
     "execution_count": 98,
     "metadata": {},
     "output_type": "execute_result"
    }
   ],
   "source": [
    "cleandating_df ['shareonline_activity'].value_counts(dropna=False)"
   ]
  },
  {
   "cell_type": "code",
   "execution_count": 99,
   "id": "28db70b9",
   "metadata": {},
   "outputs": [],
   "source": [
    "cleandating_df ['shareonline_activity'] = cleandating_df ['shareonline_activity'].map(mappingshare_yesno)"
   ]
  },
  {
   "cell_type": "code",
   "execution_count": 100,
   "id": "5ba2ba96",
   "metadata": {},
   "outputs": [
    {
     "data": {
      "text/plain": [
       "       1276\n",
       "1       283\n",
       "2        76\n",
       "NaN       4\n",
       "-1        2\n",
       "3         1\n",
       "Name: shareonline_thoughts, dtype: int64"
      ]
     },
     "execution_count": 100,
     "metadata": {},
     "output_type": "execute_result"
    }
   ],
   "source": [
    "cleandating_df ['shareonline_thoughts'].value_counts(dropna=False)"
   ]
  },
  {
   "cell_type": "code",
   "execution_count": 101,
   "id": "46103fb1",
   "metadata": {},
   "outputs": [],
   "source": [
    "cleandating_df ['shareonline_thoughts'] = cleandating_df ['shareonline_thoughts'].map(mappingshare_yesno)"
   ]
  },
  {
   "cell_type": "code",
   "execution_count": 102,
   "id": "c63819be",
   "metadata": {},
   "outputs": [
    {
     "data": {
      "text/plain": [
       "       1276\n",
       "1       262\n",
       "2        97\n",
       "NaN       4\n",
       "-1        2\n",
       "4         1\n",
       "Name: shareonline_friends, dtype: int64"
      ]
     },
     "execution_count": 102,
     "metadata": {},
     "output_type": "execute_result"
    }
   ],
   "source": [
    "cleandating_df ['shareonline_friends'].value_counts(dropna=False)"
   ]
  },
  {
   "cell_type": "code",
   "execution_count": 103,
   "id": "3b977260",
   "metadata": {},
   "outputs": [],
   "source": [
    "cleandating_df ['shareonline_friends'] = cleandating_df ['shareonline_friends'].map(mappingshare_yesno)"
   ]
  },
  {
   "cell_type": "code",
   "execution_count": 104,
   "id": "524fa5a3",
   "metadata": {},
   "outputs": [
    {
     "data": {
      "text/plain": [
       "NaN    1283\n",
       "yes     262\n",
       "no       97\n",
       "Name: shareonline_friends, dtype: int64"
      ]
     },
     "execution_count": 104,
     "metadata": {},
     "output_type": "execute_result"
    }
   ],
   "source": [
    "cleandating_df ['shareonline_friends'].value_counts(dropna=False)"
   ]
  },
  {
   "cell_type": "code",
   "execution_count": 105,
   "id": "6acab042",
   "metadata": {},
   "outputs": [],
   "source": [
    "cleandating_df ['shareonline_friends'] = cleandating_df ['shareonline_friends'].map(mappingshare_yesno)"
   ]
  },
  {
   "cell_type": "code",
   "execution_count": 106,
   "id": "a4d76888",
   "metadata": {},
   "outputs": [
    {
     "data": {
      "text/plain": [
       "NaN    1642\n",
       "Name: shareonline_friends, dtype: int64"
      ]
     },
     "execution_count": 106,
     "metadata": {},
     "output_type": "execute_result"
    }
   ],
   "source": [
    "cleandating_df ['shareonline_friends'].value_counts(dropna=False)"
   ]
  },
  {
   "cell_type": "code",
   "execution_count": 107,
   "id": "a97b0a08",
   "metadata": {},
   "outputs": [
    {
     "data": {
      "text/plain": [
       "       1276\n",
       "1       205\n",
       "2       155\n",
       "NaN       4\n",
       "-1        2\n",
       "Name: shareonline_school, dtype: int64"
      ]
     },
     "execution_count": 107,
     "metadata": {},
     "output_type": "execute_result"
    }
   ],
   "source": [
    "cleandating_df ['shareonline_school'].value_counts(dropna=False)"
   ]
  },
  {
   "cell_type": "code",
   "execution_count": 108,
   "id": "d89ac9b4",
   "metadata": {},
   "outputs": [],
   "source": [
    "cleandating_df ['shareonline_school'] = cleandating_df ['shareonline_school'].map(mappingshare_yesno)"
   ]
  },
  {
   "cell_type": "code",
   "execution_count": 109,
   "id": "aa8489f7",
   "metadata": {},
   "outputs": [
    {
     "data": {
      "text/plain": [
       "       1276\n",
       "2       237\n",
       "1       122\n",
       "NaN       4\n",
       "-1        3\n",
       "Name: shareonline_health, dtype: int64"
      ]
     },
     "execution_count": 109,
     "metadata": {},
     "output_type": "execute_result"
    }
   ],
   "source": [
    "cleandating_df ['shareonline_health'].value_counts(dropna=False)"
   ]
  },
  {
   "cell_type": "code",
   "execution_count": 110,
   "id": "5d6e866d",
   "metadata": {},
   "outputs": [],
   "source": [
    "cleandating_df ['shareonline_health'] = cleandating_df ['shareonline_health'].map(mappingshare_yesno)"
   ]
  },
  {
   "cell_type": "code",
   "execution_count": 111,
   "id": "7473d33f",
   "metadata": {},
   "outputs": [
    {
     "data": {
      "text/plain": [
       "      1276\n",
       "1      188\n",
       "2      168\n",
       "-1       3\n",
       "6        1\n",
       "4        1\n",
       "5        1\n",
       "Name: shareonline_family, dtype: int64"
      ]
     },
     "execution_count": 111,
     "metadata": {},
     "output_type": "execute_result"
    }
   ],
   "source": [
    "cleandating_df ['shareonline_family'].value_counts(dropna=True)"
   ]
  },
  {
   "cell_type": "code",
   "execution_count": 112,
   "id": "af1f9709",
   "metadata": {},
   "outputs": [],
   "source": [
    "cleandating_df ['shareonline_family'] = cleandating_df ['shareonline_family'].map(mappingshare_yesno)"
   ]
  },
  {
   "cell_type": "code",
   "execution_count": 113,
   "id": "3bdd29f1",
   "metadata": {},
   "outputs": [
    {
     "data": {
      "text/plain": [
       "       1276\n",
       "2       313\n",
       "1        45\n",
       "NaN       4\n",
       "-1        3\n",
       "4         1\n",
       "Name: shareonline_politics, dtype: int64"
      ]
     },
     "execution_count": 113,
     "metadata": {},
     "output_type": "execute_result"
    }
   ],
   "source": [
    "cleandating_df ['shareonline_politics'].value_counts(dropna=False)"
   ]
  },
  {
   "cell_type": "code",
   "execution_count": 114,
   "id": "9c15a495",
   "metadata": {},
   "outputs": [],
   "source": [
    "cleandating_df ['shareonline_politics'] = cleandating_df ['shareonline_politics'].map(mappingshare_yesno)"
   ]
  },
  {
   "cell_type": "code",
   "execution_count": 115,
   "id": "42af41ea",
   "metadata": {},
   "outputs": [
    {
     "data": {
      "text/plain": [
       "       1276\n",
       "2       277\n",
       "1        80\n",
       "NaN       4\n",
       "-1        2\n",
       "12        1\n",
       "8         1\n",
       "16        1\n",
       "Name: shareonline_religion, dtype: int64"
      ]
     },
     "execution_count": 115,
     "metadata": {},
     "output_type": "execute_result"
    }
   ],
   "source": [
    "cleandating_df ['shareonline_religion'].value_counts(dropna=False)"
   ]
  },
  {
   "cell_type": "code",
   "execution_count": 116,
   "id": "5a4f2d69",
   "metadata": {},
   "outputs": [],
   "source": [
    "cleandating_df ['shareonline_religion'] = cleandating_df ['shareonline_religion'].map(mappingshare_yesno)"
   ]
  },
  {
   "cell_type": "code",
   "execution_count": 117,
   "id": "84b1acce",
   "metadata": {},
   "outputs": [
    {
     "data": {
      "text/plain": [
       "       1276\n",
       "1       311\n",
       "2        49\n",
       "NaN       4\n",
       "-1        2\n",
       "Name: shareonline_funny, dtype: int64"
      ]
     },
     "execution_count": 117,
     "metadata": {},
     "output_type": "execute_result"
    }
   ],
   "source": [
    "cleandating_df ['shareonline_funny'].value_counts(dropna=False)"
   ]
  },
  {
   "cell_type": "code",
   "execution_count": 118,
   "id": "0a77b47e",
   "metadata": {},
   "outputs": [],
   "source": [
    "cleandating_df ['shareonline_funny'] = cleandating_df ['shareonline_funny'].map(mappingshare_yesno)"
   ]
  },
  {
   "cell_type": "markdown",
   "id": "f9a46629",
   "metadata": {},
   "source": [
    "* After remapping the values then save out your cleaned data"
   ]
  },
  {
   "cell_type": "code",
   "execution_count": 119,
   "id": "f18003bb",
   "metadata": {},
   "outputs": [],
   "source": [
    "cleandating_df.to_csv('../data/Sofi_Clean_Teen_Dating.csv')"
   ]
  },
  {
   "cell_type": "markdown",
   "id": "91542ae7",
   "metadata": {},
   "source": [
    "* Then you can explore some of the patterns"
   ]
  },
  {
   "cell_type": "markdown",
   "id": "352f4ec4",
   "metadata": {},
   "source": [
    "I also plan to look at graphs to further exmaine data. I want to observe how much time you spend talking to someone on the phone, texing, and in person all compare to each other."
   ]
  },
  {
   "cell_type": "code",
   "execution_count": 120,
   "id": "d1aad869",
   "metadata": {},
   "outputs": [
    {
     "data": {
      "image/png": "[encoded data removed]",
      "text/plain": [
       "<Figure size 432x288 with 1 Axes>"
      ]
     },
     "metadata": {
      "needs_background": "light"
     },
     "output_type": "display_data"
    }
   ],
   "source": [
    "cleandating_df['time_phone'].replace(' ', np.nan, inplace=True)\n",
    "demcanan_rf = cleandating_df['time_phone'].isna()\n",
    "cleandating_df[-demcanan_rf]['time_phone'].value_counts().plot(kind='bar')\n",
    "plt.title('How Often [Did/Do] You Spend Time With Your Significant Other Talking On The Phone')\n",
    "plt.xlabel('Frequency');"
   ]
  },
  {
   "cell_type": "code",
   "execution_count": 121,
   "id": "2871bf63",
   "metadata": {},
   "outputs": [
    {
     "data": {
      "image/png": "[encoded data removed]",
      "text/plain": [
       "<Figure size 432x288 with 1 Axes>"
      ]
     },
     "metadata": {
      "needs_background": "light"
     },
     "output_type": "display_data"
    }
   ],
   "source": [
    "cleandating_df['time_text'].replace(' ', np.nan, inplace=True)\n",
    "demcanan_rf = cleandating_df['time_text'].isna()\n",
    "cleandating_df[-demcanan_rf]['time_text'].value_counts().plot(kind='bar')\n",
    "plt.title('How Often [Did/Do] You Spend Time With Your Significant Other Texting On The Phone?')\n",
    "plt.xlabel('Frequency');"
   ]
  },
  {
   "cell_type": "code",
   "execution_count": 122,
   "id": "2e498761",
   "metadata": {},
   "outputs": [
    {
     "data": {
      "image/png": "[encoded data removed]",
      "text/plain": [
       "<Figure size 432x288 with 1 Axes>"
      ]
     },
     "metadata": {
      "needs_background": "light"
     },
     "output_type": "display_data"
    }
   ],
   "source": [
    "cleandating_df['time_outsideschoool'].replace(' ', np.nan, inplace=True)\n",
    "demcanan_rf = cleandating_df['time_outsideschoool'].isna()\n",
    "cleandating_df[-demcanan_rf]['time_outsideschoool'].value_counts().plot(kind='bar')\n",
    "plt.title(' How Often [Did/Do] You Spend Time With Your Significant Other In Person, Outside Of School? ')\n",
    "plt.xlabel('Frequency');"
   ]
  },
  {
   "cell_type": "markdown",
   "id": "0387a6b7",
   "metadata": {},
   "source": [
    "From these charts, it is visible that couples typically text and talk on the phone withe ach other everyday, but see each other in person less outside of school. The data shows that couple spend time in person outside of school just every dew days."
   ]
  },
  {
   "cell_type": "code",
   "execution_count": 155,
   "id": "29ca00c8",
   "metadata": {},
   "outputs": [
    {
     "data": {
      "image/png": "[encoded data removed]",
      "text/plain": [
       "<Figure size 432x288 with 1 Axes>"
      ]
     },
     "metadata": {},
     "output_type": "display_data"
    }
   ],
   "source": [
    "merged_data2['Sex'].replace(' ', np.nan, inplace=True)\n",
    "askout_rf = merged_data2['Sex'].isna()\n",
    "merged_data2[-askout_rf]['Sex'].value_counts().plot(kind='pie')\n",
    "plt.title('If you want to ask someone out on a date, would you ask them in person?')\n",
    "plt.ylabel('')\n",
    "plt.xlabel('');"
   ]
  },
  {
   "cell_type": "markdown",
   "id": "14e80134",
   "metadata": {},
   "source": [
    "# CONCLUSION"
   ]
  },
  {
   "cell_type": "markdown",
   "id": "776f0daa",
   "metadata": {},
   "source": [
    "By examining the data frame, cleaning the dataset, and further exploring the data, I am off to a good start. I look forward to sharing my findings with Judy, Joy, and Mason, and to start part 2 of this assignment. I also am excited to see my groups findings, and how they correlate to what I have found. Since this dataset in particular has a lot of rows and columns, there is a lot of data we can work with to find remarkable insights and draw fascintaing conclusions from."
   ]
  }
 ],
 "metadata": {
  "kernelspec": {
   "display_name": "Python 3 (COMM318)",
   "language": "python",
   "name": "python3"
  },
  "language_info": {
   "codemirror_mode": {
    "name": "ipython",
    "version": 3
   },
   "file_extension": ".py",
   "mimetype": "text/x-python",
   "name": "python",
   "nbconvert_exporter": "python",
   "pygments_lexer": "ipython3",
   "version": "3.8.8"
  }
 },
 "nbformat": 4,
 "nbformat_minor": 5
}
