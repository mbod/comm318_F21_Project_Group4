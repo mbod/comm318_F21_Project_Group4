{
 "cells": [
  {
   "cell_type": "markdown",
   "id": "e8c3ee2b",
   "metadata": {},
   "source": [
    "# 1st part of presentation\n",
    "## The Ideal Partner Dataset\n",
    "### Answers the question: What do people look for in a relationship?\n",
    "\n",
    "*basic demographics of survey respondents\n",
    "\n",
    "*descriptive statistics of responses\n",
    "\n",
    "*build together an average ideal partner (male from female's perspective, female from male's perspective)"
   ]
  },
  {
   "cell_type": "markdown",
   "id": "5d90cdee",
   "metadata": {},
   "source": [
    "# 2nd part of presentation\n",
    "## The Pew Research Dataset\n",
    "### Answers the question: How do people behave when seeking / engaging in a relationship?\n",
    "*social media\n",
    "\n",
    "*cell phone usage"
   ]
  }
 ],
 "metadata": {
  "kernelspec": {
   "display_name": "Python 3 (COMM318)",
   "language": "python",
   "name": "python3"
  },
  "language_info": {
   "codemirror_mode": {
    "name": "ipython",
    "version": 3
   },
   "file_extension": ".py",
   "mimetype": "text/x-python",
   "name": "python",
   "nbconvert_exporter": "python",
   "pygments_lexer": "ipython3",
   "version": "3.8.8"
  }
 },
 "nbformat": 4,
 "nbformat_minor": 5
}
