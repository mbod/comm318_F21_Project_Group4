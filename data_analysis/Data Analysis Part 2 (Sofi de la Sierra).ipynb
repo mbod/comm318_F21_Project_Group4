{
 "cells": [
  {
   "cell_type": "markdown",
   "id": "7525c08d",
   "metadata": {},
   "source": [
    "# DATA ANALYSIS PART 2"
   ]
  },
  {
   "cell_type": "markdown",
   "id": "55758ce3",
   "metadata": {},
   "source": [
    "In this notebook, I am going to use my findings from step 1 to complete an analysis of specific questions. I will be using the question-steps-code-answer-interpretation/observation sequence."
   ]
  },
  {
   "cell_type": "markdown",
   "id": "209ce326",
   "metadata": {},
   "source": [
    "### Setup"
   ]
  },
  {
   "cell_type": "code",
   "execution_count": 5,
   "id": "9b4bb029",
   "metadata": {},
   "outputs": [],
   "source": [
    "import pandas as pd\n",
    "from IPython.display import HTML, Markdown, display\n",
    "import matplotlib.pyplot as plt\n",
    "import seaborn as sns\n",
    "import numpy as np"
   ]
  },
  {
   "cell_type": "markdown",
   "id": "3ddd0fa8",
   "metadata": {},
   "source": [
    "### Load the clean data"
   ]
  },
  {
   "cell_type": "code",
   "execution_count": 32,
   "id": "d0165936",
   "metadata": {},
   "outputs": [],
   "source": [
    "cleandating_df = pd.read_csv('../data/Sofi_Clean_Teen_Dating.csv')"
   ]
  },
  {
   "cell_type": "code",
   "execution_count": 33,
   "id": "1084f5c5",
   "metadata": {},
   "outputs": [
    {
     "data": {
      "text/html": [
       "<div>\n",
       "<style scoped>\n",
       "    .dataframe tbody tr th:only-of-type {\n",
       "        vertical-align: middle;\n",
       "    }\n",
       "\n",
       "    .dataframe tbody tr th {\n",
       "        vertical-align: top;\n",
       "    }\n",
       "\n",
       "    .dataframe thead th {\n",
       "        text-align: right;\n",
       "    }\n",
       "</style>\n",
       "<table border=\"1\" class=\"dataframe\">\n",
       "  <thead>\n",
       "    <tr style=\"text-align: right;\">\n",
       "      <th></th>\n",
       "      <th>Unnamed: 0</th>\n",
       "      <th>parent_knowledge_status</th>\n",
       "      <th>parentcontrol</th>\n",
       "      <th>sexualexperience</th>\n",
       "      <th>serious_relationship</th>\n",
       "      <th>notserious_relationship</th>\n",
       "      <th>meeting_online_experience</th>\n",
       "      <th>online_and_never_met</th>\n",
       "      <th>socialmedia_interested_interactedsm</th>\n",
       "      <th>socialmedia_interested_friendedsm</th>\n",
       "      <th>...</th>\n",
       "      <th>shareonline_location</th>\n",
       "      <th>shareonline_activity</th>\n",
       "      <th>shareonline_thoughts</th>\n",
       "      <th>shareonline_friends</th>\n",
       "      <th>shareonline_school</th>\n",
       "      <th>shareonline_health</th>\n",
       "      <th>shareonline_family</th>\n",
       "      <th>shareonline_politics</th>\n",
       "      <th>shareonline_religion</th>\n",
       "      <th>shareonline_funny</th>\n",
       "    </tr>\n",
       "  </thead>\n",
       "  <tbody>\n",
       "    <tr>\n",
       "      <th>0</th>\n",
       "      <td>0</td>\n",
       "      <td>no</td>\n",
       "      <td>NaN</td>\n",
       "      <td>yes</td>\n",
       "      <td>no</td>\n",
       "      <td>no</td>\n",
       "      <td>none</td>\n",
       "      <td>NaN</td>\n",
       "      <td>1</td>\n",
       "      <td>no</td>\n",
       "      <td>...</td>\n",
       "      <td>no</td>\n",
       "      <td>yes</td>\n",
       "      <td>yes</td>\n",
       "      <td>NaN</td>\n",
       "      <td>yes</td>\n",
       "      <td>no</td>\n",
       "      <td>NaN</td>\n",
       "      <td>no</td>\n",
       "      <td>no</td>\n",
       "      <td>yes</td>\n",
       "    </tr>\n",
       "    <tr>\n",
       "      <th>1</th>\n",
       "      <td>1</td>\n",
       "      <td>no</td>\n",
       "      <td>NaN</td>\n",
       "      <td>no</td>\n",
       "      <td>NaN</td>\n",
       "      <td>NaN</td>\n",
       "      <td>NaN</td>\n",
       "      <td>NaN</td>\n",
       "      <td></td>\n",
       "      <td>NaN</td>\n",
       "      <td>...</td>\n",
       "      <td>NaN</td>\n",
       "      <td>NaN</td>\n",
       "      <td>NaN</td>\n",
       "      <td>NaN</td>\n",
       "      <td>NaN</td>\n",
       "      <td>NaN</td>\n",
       "      <td>NaN</td>\n",
       "      <td>NaN</td>\n",
       "      <td>NaN</td>\n",
       "      <td>NaN</td>\n",
       "    </tr>\n",
       "    <tr>\n",
       "      <th>2</th>\n",
       "      <td>2</td>\n",
       "      <td>not_sure</td>\n",
       "      <td>NaN</td>\n",
       "      <td>NaN</td>\n",
       "      <td>NaN</td>\n",
       "      <td>NaN</td>\n",
       "      <td>NaN</td>\n",
       "      <td>NaN</td>\n",
       "      <td>NaN</td>\n",
       "      <td>NaN</td>\n",
       "      <td>...</td>\n",
       "      <td>NaN</td>\n",
       "      <td>NaN</td>\n",
       "      <td>NaN</td>\n",
       "      <td>NaN</td>\n",
       "      <td>NaN</td>\n",
       "      <td>NaN</td>\n",
       "      <td>NaN</td>\n",
       "      <td>NaN</td>\n",
       "      <td>NaN</td>\n",
       "      <td>NaN</td>\n",
       "    </tr>\n",
       "    <tr>\n",
       "      <th>3</th>\n",
       "      <td>3</td>\n",
       "      <td>NaN</td>\n",
       "      <td>NaN</td>\n",
       "      <td>NaN</td>\n",
       "      <td>NaN</td>\n",
       "      <td>NaN</td>\n",
       "      <td>NaN</td>\n",
       "      <td>NaN</td>\n",
       "      <td>0</td>\n",
       "      <td>NaN</td>\n",
       "      <td>...</td>\n",
       "      <td>NaN</td>\n",
       "      <td>NaN</td>\n",
       "      <td>no</td>\n",
       "      <td>NaN</td>\n",
       "      <td>no</td>\n",
       "      <td>yes</td>\n",
       "      <td>NaN</td>\n",
       "      <td>yes</td>\n",
       "      <td>NaN</td>\n",
       "      <td>yes</td>\n",
       "    </tr>\n",
       "    <tr>\n",
       "      <th>4</th>\n",
       "      <td>4</td>\n",
       "      <td>no</td>\n",
       "      <td>NaN</td>\n",
       "      <td>NaN</td>\n",
       "      <td>NaN</td>\n",
       "      <td>NaN</td>\n",
       "      <td>NaN</td>\n",
       "      <td>NaN</td>\n",
       "      <td></td>\n",
       "      <td>NaN</td>\n",
       "      <td>...</td>\n",
       "      <td>NaN</td>\n",
       "      <td>NaN</td>\n",
       "      <td>NaN</td>\n",
       "      <td>NaN</td>\n",
       "      <td>NaN</td>\n",
       "      <td>NaN</td>\n",
       "      <td>NaN</td>\n",
       "      <td>NaN</td>\n",
       "      <td>NaN</td>\n",
       "      <td>NaN</td>\n",
       "    </tr>\n",
       "    <tr>\n",
       "      <th>...</th>\n",
       "      <td>...</td>\n",
       "      <td>...</td>\n",
       "      <td>...</td>\n",
       "      <td>...</td>\n",
       "      <td>...</td>\n",
       "      <td>...</td>\n",
       "      <td>...</td>\n",
       "      <td>...</td>\n",
       "      <td>...</td>\n",
       "      <td>...</td>\n",
       "      <td>...</td>\n",
       "      <td>...</td>\n",
       "      <td>...</td>\n",
       "      <td>...</td>\n",
       "      <td>...</td>\n",
       "      <td>...</td>\n",
       "      <td>...</td>\n",
       "      <td>...</td>\n",
       "      <td>...</td>\n",
       "      <td>...</td>\n",
       "      <td>...</td>\n",
       "    </tr>\n",
       "    <tr>\n",
       "      <th>1637</th>\n",
       "      <td>1637</td>\n",
       "      <td>no</td>\n",
       "      <td>NaN</td>\n",
       "      <td>no</td>\n",
       "      <td>NaN</td>\n",
       "      <td>NaN</td>\n",
       "      <td>NaN</td>\n",
       "      <td>NaN</td>\n",
       "      <td>1</td>\n",
       "      <td>yes</td>\n",
       "      <td>...</td>\n",
       "      <td>NaN</td>\n",
       "      <td>NaN</td>\n",
       "      <td>NaN</td>\n",
       "      <td>NaN</td>\n",
       "      <td>NaN</td>\n",
       "      <td>NaN</td>\n",
       "      <td>NaN</td>\n",
       "      <td>NaN</td>\n",
       "      <td>NaN</td>\n",
       "      <td>NaN</td>\n",
       "    </tr>\n",
       "    <tr>\n",
       "      <th>1638</th>\n",
       "      <td>1638</td>\n",
       "      <td>NaN</td>\n",
       "      <td>NaN</td>\n",
       "      <td>NaN</td>\n",
       "      <td>NaN</td>\n",
       "      <td>NaN</td>\n",
       "      <td>NaN</td>\n",
       "      <td>NaN</td>\n",
       "      <td></td>\n",
       "      <td>NaN</td>\n",
       "      <td>...</td>\n",
       "      <td>NaN</td>\n",
       "      <td>NaN</td>\n",
       "      <td>NaN</td>\n",
       "      <td>NaN</td>\n",
       "      <td>NaN</td>\n",
       "      <td>NaN</td>\n",
       "      <td>NaN</td>\n",
       "      <td>NaN</td>\n",
       "      <td>NaN</td>\n",
       "      <td>NaN</td>\n",
       "    </tr>\n",
       "    <tr>\n",
       "      <th>1639</th>\n",
       "      <td>1639</td>\n",
       "      <td>yes</td>\n",
       "      <td>limit_time</td>\n",
       "      <td>yes</td>\n",
       "      <td>yes</td>\n",
       "      <td>NaN</td>\n",
       "      <td>none</td>\n",
       "      <td>NaN</td>\n",
       "      <td>1</td>\n",
       "      <td>yes</td>\n",
       "      <td>...</td>\n",
       "      <td>yes</td>\n",
       "      <td>yes</td>\n",
       "      <td>yes</td>\n",
       "      <td>NaN</td>\n",
       "      <td>no</td>\n",
       "      <td>no</td>\n",
       "      <td>no</td>\n",
       "      <td>no</td>\n",
       "      <td>no</td>\n",
       "      <td>yes</td>\n",
       "    </tr>\n",
       "    <tr>\n",
       "      <th>1640</th>\n",
       "      <td>1640</td>\n",
       "      <td>no</td>\n",
       "      <td>NaN</td>\n",
       "      <td>no</td>\n",
       "      <td>NaN</td>\n",
       "      <td>NaN</td>\n",
       "      <td>NaN</td>\n",
       "      <td>NaN</td>\n",
       "      <td>1</td>\n",
       "      <td>yes</td>\n",
       "      <td>...</td>\n",
       "      <td>NaN</td>\n",
       "      <td>NaN</td>\n",
       "      <td>NaN</td>\n",
       "      <td>NaN</td>\n",
       "      <td>NaN</td>\n",
       "      <td>NaN</td>\n",
       "      <td>NaN</td>\n",
       "      <td>NaN</td>\n",
       "      <td>NaN</td>\n",
       "      <td>NaN</td>\n",
       "    </tr>\n",
       "    <tr>\n",
       "      <th>1641</th>\n",
       "      <td>1641</td>\n",
       "      <td>NaN</td>\n",
       "      <td>NaN</td>\n",
       "      <td>NaN</td>\n",
       "      <td>NaN</td>\n",
       "      <td>NaN</td>\n",
       "      <td>NaN</td>\n",
       "      <td>NaN</td>\n",
       "      <td></td>\n",
       "      <td>NaN</td>\n",
       "      <td>...</td>\n",
       "      <td>NaN</td>\n",
       "      <td>NaN</td>\n",
       "      <td>NaN</td>\n",
       "      <td>NaN</td>\n",
       "      <td>NaN</td>\n",
       "      <td>NaN</td>\n",
       "      <td>NaN</td>\n",
       "      <td>NaN</td>\n",
       "      <td>NaN</td>\n",
       "      <td>NaN</td>\n",
       "    </tr>\n",
       "  </tbody>\n",
       "</table>\n",
       "<p>1642 rows × 46 columns</p>\n",
       "</div>"
      ],
      "text/plain": [
       "      Unnamed: 0 parent_knowledge_status parentcontrol sexualexperience  \\\n",
       "0              0                      no           NaN              yes   \n",
       "1              1                      no           NaN               no   \n",
       "2              2                not_sure           NaN              NaN   \n",
       "3              3                     NaN           NaN              NaN   \n",
       "4              4                      no           NaN              NaN   \n",
       "...          ...                     ...           ...              ...   \n",
       "1637        1637                      no           NaN               no   \n",
       "1638        1638                     NaN           NaN              NaN   \n",
       "1639        1639                     yes    limit_time              yes   \n",
       "1640        1640                      no           NaN               no   \n",
       "1641        1641                     NaN           NaN              NaN   \n",
       "\n",
       "     serious_relationship notserious_relationship meeting_online_experience  \\\n",
       "0                      no                      no                      none   \n",
       "1                     NaN                     NaN                       NaN   \n",
       "2                     NaN                     NaN                       NaN   \n",
       "3                     NaN                     NaN                       NaN   \n",
       "4                     NaN                     NaN                       NaN   \n",
       "...                   ...                     ...                       ...   \n",
       "1637                  NaN                     NaN                       NaN   \n",
       "1638                  NaN                     NaN                       NaN   \n",
       "1639                  yes                     NaN                      none   \n",
       "1640                  NaN                     NaN                       NaN   \n",
       "1641                  NaN                     NaN                       NaN   \n",
       "\n",
       "     online_and_never_met socialmedia_interested_interactedsm  \\\n",
       "0                     NaN                                   1   \n",
       "1                     NaN                                       \n",
       "2                     NaN                                 NaN   \n",
       "3                     NaN                                   0   \n",
       "4                     NaN                                       \n",
       "...                   ...                                 ...   \n",
       "1637                  NaN                                   1   \n",
       "1638                  NaN                                       \n",
       "1639                  NaN                                   1   \n",
       "1640                  NaN                                   1   \n",
       "1641                  NaN                                       \n",
       "\n",
       "     socialmedia_interested_friendedsm  ... shareonline_location  \\\n",
       "0                                   no  ...                   no   \n",
       "1                                  NaN  ...                  NaN   \n",
       "2                                  NaN  ...                  NaN   \n",
       "3                                  NaN  ...                  NaN   \n",
       "4                                  NaN  ...                  NaN   \n",
       "...                                ...  ...                  ...   \n",
       "1637                               yes  ...                  NaN   \n",
       "1638                               NaN  ...                  NaN   \n",
       "1639                               yes  ...                  yes   \n",
       "1640                               yes  ...                  NaN   \n",
       "1641                               NaN  ...                  NaN   \n",
       "\n",
       "     shareonline_activity shareonline_thoughts shareonline_friends  \\\n",
       "0                     yes                  yes                 NaN   \n",
       "1                     NaN                  NaN                 NaN   \n",
       "2                     NaN                  NaN                 NaN   \n",
       "3                     NaN                   no                 NaN   \n",
       "4                     NaN                  NaN                 NaN   \n",
       "...                   ...                  ...                 ...   \n",
       "1637                  NaN                  NaN                 NaN   \n",
       "1638                  NaN                  NaN                 NaN   \n",
       "1639                  yes                  yes                 NaN   \n",
       "1640                  NaN                  NaN                 NaN   \n",
       "1641                  NaN                  NaN                 NaN   \n",
       "\n",
       "     shareonline_school shareonline_health shareonline_family  \\\n",
       "0                   yes                 no                NaN   \n",
       "1                   NaN                NaN                NaN   \n",
       "2                   NaN                NaN                NaN   \n",
       "3                    no                yes                NaN   \n",
       "4                   NaN                NaN                NaN   \n",
       "...                 ...                ...                ...   \n",
       "1637                NaN                NaN                NaN   \n",
       "1638                NaN                NaN                NaN   \n",
       "1639                 no                 no                 no   \n",
       "1640                NaN                NaN                NaN   \n",
       "1641                NaN                NaN                NaN   \n",
       "\n",
       "     shareonline_politics shareonline_religion shareonline_funny  \n",
       "0                      no                   no               yes  \n",
       "1                     NaN                  NaN               NaN  \n",
       "2                     NaN                  NaN               NaN  \n",
       "3                     yes                  NaN               yes  \n",
       "4                     NaN                  NaN               NaN  \n",
       "...                   ...                  ...               ...  \n",
       "1637                  NaN                  NaN               NaN  \n",
       "1638                  NaN                  NaN               NaN  \n",
       "1639                   no                   no               yes  \n",
       "1640                  NaN                  NaN               NaN  \n",
       "1641                  NaN                  NaN               NaN  \n",
       "\n",
       "[1642 rows x 46 columns]"
      ]
     },
     "execution_count": 33,
     "metadata": {},
     "output_type": "execute_result"
    }
   ],
   "source": [
    "cleandating_df"
   ]
  },
  {
   "cell_type": "markdown",
   "id": "7eac3c6e",
   "metadata": {},
   "source": [
    "# Questions"
   ]
  },
  {
   "cell_type": "markdown",
   "id": "5967737d",
   "metadata": {},
   "source": [
    "In this analysis, I intend to answer the following three question:\n",
    "1. What is the most common way teens spend time with their significant other?\n",
    "3. Do people look up information about their significant other more before or after they are together?\n",
    "4. What is the most common way to ask your significant other out?"
   ]
  },
  {
   "cell_type": "markdown",
   "id": "60d5e8b9",
   "metadata": {},
   "source": [
    "# QUESTION 1"
   ]
  },
  {
   "cell_type": "markdown",
   "id": "10fbcf1e",
   "metadata": {},
   "source": [
    "## What is the most common way teens spend time with their significant other?"
   ]
  },
  {
   "cell_type": "markdown",
   "id": "37983bfe",
   "metadata": {},
   "source": [
    "# Steps"
   ]
  },
  {
   "cell_type": "markdown",
   "id": "858a4ffc",
   "metadata": {},
   "source": [
    "1. Identify questions/columns that examine the way teens spend time together\n",
    "2. Merge my data with joys data in the case that I need to examine the demographics of my results, and to have a relevant dataset\n",
    "2. Create visuals through bar graphs for the questions\n",
    "3. Draw conclusions, observations, and interpretations"
   ]
  },
  {
   "cell_type": "markdown",
   "id": "40d3ff00",
   "metadata": {},
   "source": [
    "# Code"
   ]
  },
  {
   "cell_type": "markdown",
   "id": "ad443cfc",
   "metadata": {},
   "source": [
    "I merged my clean data with joy's clean data for this question, given that her data includes demographics that may be important to note when examining responses."
   ]
  },
  {
   "cell_type": "code",
   "execution_count": 51,
   "id": "3700e221",
   "metadata": {},
   "outputs": [],
   "source": [
    "joy_df = pd.read_csv('../data/Joy_Clean_Teen_Dating.csv')\n",
    "cleandating_df['ID'] = joy_df['ID']\n",
    "merged_df = pd.merge(joy_df,cleandating_df, on='ID')"
   ]
  },
  {
   "cell_type": "code",
   "execution_count": 52,
   "id": "e1281ece",
   "metadata": {},
   "outputs": [],
   "source": [
    "merged_df['time_phone'] = pd.to_numeric(merged_df['time_phone'],errors='coerce')\n",
    "merged_df['time_outsideschoool'] = pd.to_numeric(merged_df['time_outsideschoool'],errors='coerce')\n",
    "merged_df['time_text'] = pd.to_numeric(merged_df['time_text'],errors='coerce')\n",
    "merged_df['time_online'] = pd.to_numeric(merged_df['time_online'],errors='coerce')\n",
    "merged_df['time_videochat'] = pd.to_numeric(merged_df['time_videochat'],errors='coerce')\n",
    "merged_df['time_email'] = pd.to_numeric(merged_df['time_email'],errors ='coerce')\n",
    "merged_df['time_socialmediapost'] = pd.to_numeric(merged_df['time_socialmediapost'],errors ='coerce')\n",
    "merged_df['time_messagingapps'] = pd.to_numeric(merged_df['time_messagingapps'],errors ='coerce')"
   ]
  },
  {
   "cell_type": "code",
   "execution_count": 57,
   "id": "53aa541e",
   "metadata": {},
   "outputs": [
    {
     "data": {
      "image/png": "[encoded data removed]",
      "text/plain": [
       "<Figure size 432x288 with 1 Axes>"
      ]
     },
     "metadata": {
      "needs_background": "light"
     },
     "output_type": "display_data"
    }
   ],
   "source": [
    "merged_df['time_phone'].replace(' ', np.nan, inplace=True)\n",
    "demcanan_rf = cleandating_df['time_phone'].isna()\n",
    "cleandating_df[-demcanan_rf]['time_phone'].value_counts().plot(kind='bar')\n",
    "plt.title('How Often [Did/Do] You Spend Time With Your Significant Other Talking On The Phone')\n",
    "plt.xlabel('Frequency');"
   ]
  },
  {
   "cell_type": "code",
   "execution_count": 58,
   "id": "17c3adf5",
   "metadata": {},
   "outputs": [
    {
     "data": {
      "image/png": "[encoded data removed]",
      "text/plain": [
       "<Figure size 432x288 with 1 Axes>"
      ]
     },
     "metadata": {
      "needs_background": "light"
     },
     "output_type": "display_data"
    }
   ],
   "source": [
    "merged_df['time_text'].replace(' ', np.nan, inplace=True)\n",
    "demcanan_rf = cleandating_df['time_text'].isna()\n",
    "cleandating_df[-demcanan_rf]['time_text'].value_counts().plot(kind='bar')\n",
    "plt.title('How Often [Did/Do] You Spend Time With Your Significant Other Texting On The Phone?')\n",
    "plt.xlabel('Frequency');"
   ]
  },
  {
   "cell_type": "code",
   "execution_count": 59,
   "id": "cdffc491",
   "metadata": {},
   "outputs": [
    {
     "data": {
      "image/png": "[encoded data removed]",
      "text/plain": [
       "<Figure size 432x288 with 1 Axes>"
      ]
     },
     "metadata": {
      "needs_background": "light"
     },
     "output_type": "display_data"
    }
   ],
   "source": [
    "merged_df['time_outsideschoool'].replace(' ', np.nan, inplace=True)\n",
    "demcanan_rf = cleandating_df['time_outsideschoool'].isna()\n",
    "cleandating_df[-demcanan_rf]['time_outsideschoool'].value_counts().plot(kind='bar')\n",
    "plt.title(' How Often [Did/Do] You Spend Time With Your Significant Other In Person, Outside Of School? ')\n",
    "plt.xlabel('Frequency');"
   ]
  },
  {
   "cell_type": "code",
   "execution_count": 60,
   "id": "7b2c1cc6",
   "metadata": {},
   "outputs": [
    {
     "data": {
      "image/png": "[encoded data removed]",
      "text/plain": [
       "<Figure size 432x288 with 1 Axes>"
      ]
     },
     "metadata": {
      "needs_background": "light"
     },
     "output_type": "display_data"
    }
   ],
   "source": [
    "merged_df['time_online'].replace(' ', np.nan, inplace=True)\n",
    "demcanan_rf = cleandating_df['time_online'].isna()\n",
    "cleandating_df[-demcanan_rf]['time_online'].value_counts().plot(kind='bar')\n",
    "plt.title(' How Often [Did/Do] You Spend Time With Your Significant Other Online? ')\n",
    "plt.xlabel('Frequency');"
   ]
  },
  {
   "cell_type": "code",
   "execution_count": 61,
   "id": "1c5a5b96",
   "metadata": {},
   "outputs": [
    {
     "data": {
      "image/png": "[encoded data removed]",
      "text/plain": [
       "<Figure size 432x288 with 1 Axes>"
      ]
     },
     "metadata": {
      "needs_background": "light"
     },
     "output_type": "display_data"
    }
   ],
   "source": [
    "merged_df['time_videochat'].replace(' ', np.nan, inplace=True)\n",
    "demcanan_rf = cleandating_df['time_videochat'].isna()\n",
    "cleandating_df[-demcanan_rf]['time_videochat'].value_counts().plot(kind='bar')\n",
    "plt.title(' How Often [Did/Do] You Spend Time With Your Significant Other Through Videochat? ')\n",
    "plt.xlabel('Frequency');"
   ]
  },
  {
   "cell_type": "code",
   "execution_count": 62,
   "id": "edfef7d7",
   "metadata": {},
   "outputs": [
    {
     "data": {
      "image/png": "[encoded data removed]",
      "text/plain": [
       "<Figure size 432x288 with 1 Axes>"
      ]
     },
     "metadata": {
      "needs_background": "light"
     },
     "output_type": "display_data"
    }
   ],
   "source": [
    "merged_df['time_email'].replace(' ', np.nan, inplace=True)\n",
    "demcanan_rf = cleandating_df['time_email'].isna()\n",
    "cleandating_df[-demcanan_rf]['time_email'].value_counts().plot(kind='bar')\n",
    "plt.title(' How Often [Did/Do] You Spend Time With Your Significant Other Through Email? ')\n",
    "plt.xlabel('Frequency');"
   ]
  },
  {
   "cell_type": "code",
   "execution_count": 63,
   "id": "259666be",
   "metadata": {},
   "outputs": [
    {
     "data": {
      "image/png": "[encoded data removed]",
      "text/plain": [
       "<Figure size 432x288 with 1 Axes>"
      ]
     },
     "metadata": {
      "needs_background": "light"
     },
     "output_type": "display_data"
    }
   ],
   "source": [
    "merged_df['time_socialmediapost'].replace(' ', np.nan, inplace=True)\n",
    "demcanan_rf = cleandating_df['time_socialmediapost'].isna()\n",
    "cleandating_df[-demcanan_rf]['time_socialmediapost'].value_counts().plot(kind='bar')\n",
    "plt.title(' How Often [Did/Do] You Spend Time With Your Significant Other Through Social Media Posts? ')\n",
    "plt.xlabel('Frequency');"
   ]
  },
  {
   "cell_type": "code",
   "execution_count": 64,
   "id": "38bd65ae",
   "metadata": {},
   "outputs": [
    {
     "data": {
      "image/png": "[encoded data removed]",
      "text/plain": [
       "<Figure size 432x288 with 1 Axes>"
      ]
     },
     "metadata": {
      "needs_background": "light"
     },
     "output_type": "display_data"
    }
   ],
   "source": [
    "merged_df['time_messagingapps'].replace(' ', np.nan, inplace=True)\n",
    "demcanan_rf = cleandating_df['time_messagingapps'].isna()\n",
    "cleandating_df[-demcanan_rf]['time_messagingapps'].value_counts().plot(kind='bar')\n",
    "plt.title(' How Often [Did/Do] You Spend Time With Your Significant Other Through Messaging Apps? ')\n",
    "plt.xlabel('Frequency');"
   ]
  },
  {
   "cell_type": "markdown",
   "id": "c861b2da",
   "metadata": {},
   "source": [
    "## Question 1 Answer"
   ]
  },
  {
   "cell_type": "markdown",
   "id": "3345b72b",
   "metadata": {},
   "source": [
    "By analyzing the bar graphs, it is evident that based off of the teenagers who answered the survey question, the majoirty spend the most time with their signicant other by texting each other on their phones. On the other hand, teenagers spent the least amount of time interacting with their significant other on messaging apps, online, and through email."
   ]
  },
  {
   "cell_type": "markdown",
   "id": "c3fd54f4",
   "metadata": {},
   "source": [
    "## Quesion 1 Interpretation/Observations"
   ]
  },
  {
   "cell_type": "markdown",
   "id": "f083596a",
   "metadata": {},
   "source": [
    "One curcial factor to point out is that the survey size was different for each question, given that people often refused to answer the question, or opted out of answering it. Thereforem the answers are not completley accurate. Furthermore, it would be interesting to see... ADD MORE"
   ]
  },
  {
   "cell_type": "markdown",
   "id": "1485d9c6",
   "metadata": {},
   "source": [
    "# QUESTION 2"
   ]
  },
  {
   "cell_type": "markdown",
   "id": "c723c76f",
   "metadata": {},
   "source": [
    "## Do people look up information online about their significant other more before or after they are together?"
   ]
  },
  {
   "cell_type": "markdown",
   "id": "4c5684d9",
   "metadata": {},
   "source": [
    "# Steps"
   ]
  },
  {
   "cell_type": "markdown",
   "id": "8eaf9d07",
   "metadata": {},
   "source": [
    "1. Identify questions/columns that examine how teens interact with information about tehir partner online\n",
    "2. Use the merged dataset I created with Joy's and my data\n",
    "3. Create visuals through bar graphs for the questions\n",
    "4. Draw conclusions, observations, and interpretations"
   ]
  },
  {
   "cell_type": "markdown",
   "id": "804ebba3",
   "metadata": {},
   "source": [
    "# Code"
   ]
  },
  {
   "cell_type": "code",
   "execution_count": 78,
   "id": "5c89c79e",
   "metadata": {},
   "outputs": [
    {
     "data": {
      "image/png": "[encoded data removed]",
      "text/plain": [
       "<Figure size 432x288 with 1 Axes>"
      ]
     },
     "metadata": {
      "needs_background": "light"
     },
     "output_type": "display_data"
    }
   ],
   "source": [
    "merged_df['search_information_current'].replace(' ', np.nan, inplace=True)\n",
    "demcanan_rf = cleandating_df['search_information_current'].isna()\n",
    "cleandating_df[-demcanan_rf]['search_information_current'].value_counts().plot(kind='bar')\n",
    "plt.title(' Have you ever searched for information online about someone you were currently dating or were interested in dating?')\n",
    "plt.xlabel('Frequency');"
   ]
  },
  {
   "cell_type": "code",
   "execution_count": 79,
   "id": "200d4f64",
   "metadata": {},
   "outputs": [
    {
     "data": {
      "text/plain": [
       "Text(0.5, 1.0, 'Have you ever searched for information online about someone you dated or hooked up with in the past?')"
      ]
     },
     "execution_count": 79,
     "metadata": {},
     "output_type": "execute_result"
    },
    {
     "data": {
      "image/png": "[encoded data removed]",
      "text/plain": [
       "<Figure size 432x288 with 1 Axes>"
      ]
     },
     "metadata": {
      "needs_background": "light"
     },
     "output_type": "display_data"
    }
   ],
   "source": [
    "merged_df['search_information_past'].replace(' ', np.nan, inplace=True)\n",
    "demcanan_rf = cleandating_df['search_information_past'].isna()\n",
    "cleandating_df[-demcanan_rf]['search_information_past'].value_counts().plot(kind='bar')\n",
    "plt.title('Have you ever searched for information online about someone you dated or hooked up with in the past?')"
   ]
  },
  {
   "cell_type": "markdown",
   "id": "8056e926",
   "metadata": {},
   "source": [
    "## Question 2 Answer\n"
   ]
  },
  {
   "cell_type": "markdown",
   "id": "45ba4c42",
   "metadata": {},
   "source": [
    "From the charts above, it is evident that more people look up infomration about someone who they dated or hooked up with in the past over someone who they were currently dating or were interested in dating. However, it should also be noted that overall, most people did not look up information at all about the other person."
   ]
  },
  {
   "cell_type": "markdown",
   "id": "ef929251",
   "metadata": {},
   "source": [
    "## Quesion 2 Interpretation/Observations"
   ]
  },
  {
   "cell_type": "markdown",
   "id": "4b1f4fe1",
   "metadata": {},
   "source": [
    "When looking at this graphs, it is evident that there were around 800 respondents for the question \"have you ever searched for information online about someone you were currently dating or were interested in dating?\", and only around 200 respondents for the question \"have you ever searched for information online about someone you dated or hooked up with in the past?\" Therefore, the results are not as accurate as I would like them to be."
   ]
  },
  {
   "cell_type": "markdown",
   "id": "2b0387b3",
   "metadata": {},
   "source": [
    "# QUESTION 3"
   ]
  },
  {
   "cell_type": "markdown",
   "id": "33a777cd",
   "metadata": {},
   "source": [
    "## What is the most common way to ask your significant other out?"
   ]
  },
  {
   "cell_type": "markdown",
   "id": "a0ea2976",
   "metadata": {},
   "source": [
    "# Steps"
   ]
  },
  {
   "cell_type": "markdown",
   "id": "a756e12b",
   "metadata": {},
   "source": [
    "1. Identify questions/columns that examine how teens interact with information about tehir partner online\n",
    "2. Use the merged dataset I created with Joy's and my data\n",
    "3. Create visuals through bar graphs for the questions\n",
    "4. Draw conclusions, observations, and interpretations"
   ]
  },
  {
   "cell_type": "code",
   "execution_count": 92,
   "id": "4678cae5",
   "metadata": {},
   "outputs": [
    {
     "data": {
      "text/plain": [
       "Text(0.5, 1.0, 'If you want to ask someone out on a date, would you ask them over text?')"
      ]
     },
     "execution_count": 92,
     "metadata": {},
     "output_type": "execute_result"
    },
    {
     "data": {
      "image/png": "[encoded data removed]",
      "text/plain": [
       "<Figure size 432x288 with 1 Axes>"
      ]
     },
     "metadata": {
      "needs_background": "light"
     },
     "output_type": "display_data"
    }
   ],
   "source": [
    "merged_df['askout_text'].replace(' ', np.nan, inplace=True)\n",
    "demcanan_rf = cleandating_df['askout_text'].isna()\n",
    "cleandating_df[-demcanan_rf]['askout_text'].value_counts().plot(kind='bar')\n",
    "plt.title('If you want to ask someone out on a date, would you ask them over text?')"
   ]
  },
  {
   "cell_type": "code",
   "execution_count": 93,
   "id": "5f085c5a",
   "metadata": {},
   "outputs": [
    {
     "data": {
      "text/plain": [
       "Text(0.5, 1.0, 'If you want to ask someone out on a date, would you ask them in person?')"
      ]
     },
     "execution_count": 93,
     "metadata": {},
     "output_type": "execute_result"
    },
    {
     "data": {
      "image/png": "[encoded data removed]",
      "text/plain": [
       "<Figure size 432x288 with 1 Axes>"
      ]
     },
     "metadata": {
      "needs_background": "light"
     },
     "output_type": "display_data"
    }
   ],
   "source": [
    "merged_df['askout_inperson'].replace(' ', np.nan, inplace=True)\n",
    "demcanan_rf = cleandating_df['askout_inperson'].isna()\n",
    "cleandating_df[-demcanan_rf]['askout_inperson'].value_counts().plot(kind='bar')\n",
    "plt.title('If you want to ask someone out on a date, would you ask them in person?')"
   ]
  },
  {
   "cell_type": "code",
   "execution_count": 94,
   "id": "2e7ca0ce",
   "metadata": {},
   "outputs": [
    {
     "data": {
      "text/plain": [
       "Text(0.5, 1.0, 'If you want to ask someone out on a date, would you ask them over the phone?')"
      ]
     },
     "execution_count": 94,
     "metadata": {},
     "output_type": "execute_result"
    },
    {
     "data": {
      "image/png": "[encoded data removed]",
      "text/plain": [
       "<Figure size 432x288 with 1 Axes>"
      ]
     },
     "metadata": {
      "needs_background": "light"
     },
     "output_type": "display_data"
    }
   ],
   "source": [
    "merged_df['askout_phone'].replace(' ', np.nan, inplace=True)\n",
    "demcanan_rf = cleandating_df['askout_phone'].isna()\n",
    "cleandating_df[-demcanan_rf]['askout_phone'].value_counts().plot(kind='bar')\n",
    "plt.title('If you want to ask someone out on a date, would you ask them over the phone?')"
   ]
  },
  {
   "cell_type": "code",
   "execution_count": 95,
   "id": "7c7666e2",
   "metadata": {},
   "outputs": [
    {
     "data": {
      "text/plain": [
       "Text(0.5, 1.0, 'If you want to ask someone out on a date, would you ask them over direct message on a social media platform?')"
      ]
     },
     "execution_count": 95,
     "metadata": {},
     "output_type": "execute_result"
    },
    {
     "data": {
      "image/png": "[encoded data removed]",
      "text/plain": [
       "<Figure size 432x288 with 1 Axes>"
      ]
     },
     "metadata": {
      "needs_background": "light"
     },
     "output_type": "display_data"
    }
   ],
   "source": [
    "merged_df['askout_dm'].replace(' ', np.nan, inplace=True)\n",
    "demcanan_rf = cleandating_df['askout_dm'].isna()\n",
    "cleandating_df[-demcanan_rf]['askout_dm'].value_counts().plot(kind='bar')\n",
    "plt.title('If you want to ask someone out on a date, would you ask them over direct message on a social media platform?')"
   ]
  },
  {
   "cell_type": "code",
   "execution_count": 99,
   "id": "70f81d44",
   "metadata": {},
   "outputs": [
    {
     "data": {
      "text/plain": [
       "Text(0.5, 1.0, 'If you want to ask someone out on a date, would you have a friend ask them for you?')"
      ]
     },
     "execution_count": 99,
     "metadata": {},
     "output_type": "execute_result"
    },
    {
     "data": {
      "image/png": "[encoded data removed]",
      "text/plain": [
       "<Figure size 432x288 with 1 Axes>"
      ]
     },
     "metadata": {
      "needs_background": "light"
     },
     "output_type": "display_data"
    }
   ],
   "source": [
    "merged_df['askout_friendasked'].replace(' ', np.nan, inplace=True)\n",
    "demcanan_rf = cleandating_df['askout_friendasked'].isna()\n",
    "cleandating_df[-demcanan_rf]['askout_friendasked'].value_counts().plot(kind='bar')\n",
    "plt.title('If you want to ask someone out on a date, would you have a friend ask them for you?')"
   ]
  },
  {
   "cell_type": "code",
   "execution_count": 101,
   "id": "14b88aa5",
   "metadata": {},
   "outputs": [
    {
     "data": {
      "text/plain": [
       "Text(0.5, 1.0, 'If you want to ask someone out on a date, would you wait for them to ask you?')"
      ]
     },
     "execution_count": 101,
     "metadata": {},
     "output_type": "execute_result"
    },
    {
     "data": {
      "image/png": "[encoded data removed]",
      "text/plain": [
       "<Figure size 432x288 with 1 Axes>"
      ]
     },
     "metadata": {
      "needs_background": "light"
     },
     "output_type": "display_data"
    }
   ],
   "source": [
    "merged_df['askout_wait'].replace(' ', np.nan, inplace=True)\n",
    "demcanan_rf = cleandating_df['askout_wait'].isna()\n",
    "cleandating_df[-demcanan_rf]['askout_wait'].value_counts().plot(kind='bar')\n",
    "plt.title('If you want to ask someone out on a date, would you wait for them to ask you?')"
   ]
  },
  {
   "cell_type": "code",
   "execution_count": 102,
   "id": "11d09efe",
   "metadata": {},
   "outputs": [
    {
     "data": {
      "text/plain": [
       "Text(0.5, 1.0, 'If you want to ask someone out on a date, would you ask them in a way that was not mentioned?')"
      ]
     },
     "execution_count": 102,
     "metadata": {},
     "output_type": "execute_result"
    },
    {
     "data": {
      "image/png": "[encoded data removed]",
      "text/plain": [
       "<Figure size 432x288 with 1 Axes>"
      ]
     },
     "metadata": {
      "needs_background": "light"
     },
     "output_type": "display_data"
    }
   ],
   "source": [
    "merged_df['askout_other'].replace(' ', np.nan, inplace=True)\n",
    "demcanan_rf = cleandating_df['askout_other'].isna()\n",
    "cleandating_df[-demcanan_rf]['askout_other'].value_counts().plot(kind='bar')\n",
    "plt.title('If you want to ask someone out on a date, would you ask them in a way that was not mentioned?')"
   ]
  },
  {
   "cell_type": "markdown",
   "id": "6ce7167f",
   "metadata": {},
   "source": [
    "# Question 3 Answer\n"
   ]
  },
  {
   "cell_type": "markdown",
   "id": "6fc111f0",
   "metadata": {},
   "source": [
    "From the bar charts above, it is evident that the most preferred way to ask out a significant other is in person. "
   ]
  },
  {
   "cell_type": "markdown",
   "id": "7fbfe4c6",
   "metadata": {},
   "source": [
    "## Question 3 Interpretations/Observations"
   ]
  },
  {
   "cell_type": "markdown",
   "id": "3498064b",
   "metadata": {},
   "source": [
    "When looking at this graphs, it is evident that the amount of respondents is incosistent between the graphs. Therefore, the results are not as accurate as I would like them to be."
   ]
  },
  {
   "cell_type": "markdown",
   "id": "a81952e1",
   "metadata": {},
   "source": [
    "# CONCLUSION"
   ]
  },
  {
   "cell_type": "markdown",
   "id": "2340b03a",
   "metadata": {},
   "source": [
    "In this notebook, I observed three questions that were asked in the Pew research survey. By looking at all of the subsets of the data, value information was able to be concluded about the way teens interact with one another online, and in person. It was fascinating to learn about the questions I analyzed, as I even foudn myself shocked by some of the results."
   ]
  },
  {
   "cell_type": "markdown",
   "id": "16b57315",
   "metadata": {},
   "source": [
    "# Addtional Questions/Concerns"
   ]
  },
  {
   "cell_type": "markdown",
   "id": "833d0589",
   "metadata": {},
   "source": [
    "1. How do I work with unequal amount of respondents in the dataset?\n",
    "2. Do I need to merge my data with Joy's or is that unneccessary?\n",
    "3. Is there any other filtering/coding I should add?"
   ]
  }
 ],
 "metadata": {
  "kernelspec": {
   "display_name": "Python 3 (COMM318)",
   "language": "python",
   "name": "python3"
  },
  "language_info": {
   "codemirror_mode": {
    "name": "ipython",
    "version": 3
   },
   "file_extension": ".py",
   "mimetype": "text/x-python",
   "name": "python",
   "nbconvert_exporter": "python",
   "pygments_lexer": "ipython3",
   "version": "3.8.8"
  }
 },
 "nbformat": 4,
 "nbformat_minor": 5
}
