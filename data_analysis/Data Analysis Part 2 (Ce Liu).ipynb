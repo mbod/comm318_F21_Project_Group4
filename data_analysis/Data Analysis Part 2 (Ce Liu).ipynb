{
 "cells": [
  {
   "cell_type": "markdown",
   "id": "0cddf7a3",
   "metadata": {},
   "source": [
    "# Step 2 Analysis for The Ideal Partner Dataset\n",
    "\n",
    "#### This dataset explores the relationship between different demographic variables and traits sought after in an ideal partner."
   ]
  },
  {
   "cell_type": "code",
   "execution_count": 162,
   "id": "8af01125",
   "metadata": {},
   "outputs": [],
   "source": [
    "import pandas as pd\n",
    "import matplotlib.pyplot as plt\n",
    "import seaborn as sns \n",
    "import numpy as np\n",
    "import scipy.stats as stats\n",
    "import statsmodels.stats as smstats\n",
    "import statsmodels.formula.api as smf\n",
    "from statsmodels.multivariate import factor as smfactor\n",
    "import scipy.cluster.hierarchy as shc\n"
   ]
  },
  {
   "cell_type": "code",
   "execution_count": 89,
   "id": "3bfcf75b",
   "metadata": {},
   "outputs": [],
   "source": [
    "data_clean = pd.read_csv('../data/Judy_PSYC_dataset_clean.csv')"
   ]
  },
  {
   "cell_type": "code",
   "execution_count": 90,
   "id": "3cc564ff",
   "metadata": {},
   "outputs": [
    {
     "data": {
      "text/plain": [
       "(193, 25)"
      ]
     },
     "execution_count": 90,
     "metadata": {},
     "output_type": "execute_result"
    }
   ],
   "source": [
    "data_clean.shape"
   ]
  },
  {
   "cell_type": "markdown",
   "id": "b2b3f38a",
   "metadata": {},
   "source": [
    "# Question 1\n",
    "## Is there a statistically significant difference between the number of ideal sexual partners for males and females?"
   ]
  },
  {
   "cell_type": "markdown",
   "id": "6a7bdb6b",
   "metadata": {},
   "source": [
    "Setting up to conduct a two-sample t test:\n",
    "\n",
    "\n",
    "H0: µ1 = µ2 (the two population means are equal)\n",
    "\n",
    "HA: µ1 ≠µ2 (the two population means are not equal)"
   ]
  },
  {
   "cell_type": "code",
   "execution_count": 91,
   "id": "1b430677",
   "metadata": {},
   "outputs": [
    {
     "data": {
      "text/plain": [
       "<AxesSubplot:xlabel='Sex', ylabel='sexpartners'>"
      ]
     },
     "execution_count": 91,
     "metadata": {},
     "output_type": "execute_result"
    },
    {
     "data": {
      "image/png": "[encoded data removed]",
      "text/plain": [
       "<Figure size 432x288 with 1 Axes>"
      ]
     },
     "metadata": {
      "needs_background": "light"
     },
     "output_type": "display_data"
    }
   ],
   "source": [
    "sns.boxplot(x='Sex', y='sexpartners', \n",
    "            data=data_clean, notch=True)"
   ]
  },
  {
   "cell_type": "markdown",
   "id": "18b687d0",
   "metadata": {},
   "source": [
    "Calculating the variances between the two measures first:"
   ]
  },
  {
   "cell_type": "code",
   "execution_count": 92,
   "id": "0c4521c6",
   "metadata": {},
   "outputs": [
    {
     "name": "stdout",
     "output_type": "stream",
     "text": [
      "Female variance: 43.23\n",
      "Male variance: 239.11\n"
     ]
    }
   ],
   "source": [
    "female_filter = data_clean['Sex']=='female'\n",
    "data_female=data_clean[female_filter]\n",
    "data_male=data_clean[-female_filter]\n",
    "\n",
    "male_var = np.var(data_male[\"sexpartners\"])\n",
    "female_var = np.var(data_female[\"sexpartners\"])\n",
    "                  \n",
    "\n",
    "print(f'Female variance: {female_var:.2f}') \n",
    "print(f'Male variance: {male_var:.2f}')\n"
   ]
  },
  {
   "cell_type": "code",
   "execution_count": 93,
   "id": "3746d9ff",
   "metadata": {},
   "outputs": [
    {
     "data": {
      "text/plain": [
       "5.53"
      ]
     },
     "execution_count": 93,
     "metadata": {},
     "output_type": "execute_result"
    }
   ],
   "source": [
    "# calculate ratio\n",
    "round(male_var/female_var,2)"
   ]
  },
  {
   "cell_type": "markdown",
   "id": "5d034b71",
   "metadata": {},
   "source": [
    "The ratio between the variances are >4, and as a rule of thumb, the variances do not equal to each other."
   ]
  },
  {
   "cell_type": "markdown",
   "id": "d243eb5d",
   "metadata": {},
   "source": [
    "Performing two-sample t-test between two samples with different variances."
   ]
  },
  {
   "cell_type": "code",
   "execution_count": 94,
   "id": "d68f1e78",
   "metadata": {},
   "outputs": [
    {
     "data": {
      "text/plain": [
       "Ttest_indResult(statistic=-4.888773377798691, pvalue=3.832050122430137e-06)"
      ]
     },
     "execution_count": 94,
     "metadata": {},
     "output_type": "execute_result"
    }
   ],
   "source": [
    "stats.ttest_ind(a=data_female[\"sexpartners\"], b=data_male[\"sexpartners\"], equal_var=False)"
   ]
  },
  {
   "cell_type": "markdown",
   "id": "85dc7752",
   "metadata": {},
   "source": [
    "The t test statistic is -4.96 and the corresponding two-sided p-value is 2.76e-06."
   ]
  },
  {
   "cell_type": "markdown",
   "id": "7793f879",
   "metadata": {},
   "source": [
    "Therefore, we reject the null hypothesis that the two population means are equal. The p-value of the statstics test is significant. Males and females differ significantly in terms of their ideal number of sexual partners, with females listing way lower numbers than males."
   ]
  },
  {
   "cell_type": "markdown",
   "id": "70e2d741",
   "metadata": {},
   "source": [
    "# Question 2\n",
    "## Is there a statistically significant difference between the placed importance of wealth for males and females?"
   ]
  },
  {
   "cell_type": "code",
   "execution_count": 95,
   "id": "0bb83fd2",
   "metadata": {},
   "outputs": [
    {
     "name": "stdout",
     "output_type": "stream",
     "text": [
      "585.43 302.81\n"
     ]
    }
   ],
   "source": [
    "print(round(np.var(data_female[\"Wealth\"]),2), round(np.var(data_male[\"Wealth\"]),2))"
   ]
  },
  {
   "cell_type": "code",
   "execution_count": 96,
   "id": "fc2cb186",
   "metadata": {},
   "outputs": [
    {
     "name": "stdout",
     "output_type": "stream",
     "text": [
      "1.49\n"
     ]
    }
   ],
   "source": [
    "print(round(588.5229100833095/395.79535147392284,2))"
   ]
  },
  {
   "cell_type": "code",
   "execution_count": 97,
   "id": "b6c19c5f",
   "metadata": {},
   "outputs": [
    {
     "data": {
      "text/plain": [
       "Ttest_indResult(statistic=5.104461346560776, pvalue=7.983365192893977e-07)"
      ]
     },
     "execution_count": 97,
     "metadata": {},
     "output_type": "execute_result"
    }
   ],
   "source": [
    "stats.ttest_ind(a=data_female[\"Wealth\"], b=data_male[\"Wealth\"], equal_var=True)"
   ]
  },
  {
   "cell_type": "markdown",
   "id": "34a6582b",
   "metadata": {},
   "source": [
    "The t test statistic is 5.10 and the corresponding two-sided p-value is 7.98e-07."
   ]
  },
  {
   "cell_type": "markdown",
   "id": "f0d07ddb",
   "metadata": {},
   "source": [
    "Therefore, we fail to reject the null hypothesis that the two population means are equal. The p-value of the statstics test is significant. Males and females differ significantly in terms of their ideal parter's wealth level, with females caring way more about wealth than males."
   ]
  },
  {
   "cell_type": "markdown",
   "id": "c41b94b5",
   "metadata": {},
   "source": [
    "# Question 3\n",
    "## Is there a statistically significant correlation between the placed importance of shared values and political orientation?\n",
    "#### Shared values means whether the survey respondent values that their ideal partner has a similar ideology, morality and views in common with each other.\n",
    "#### A positive relationship in the regression of placed importance of shared values on political orientation would mean, as people report being more conservative, it is more important to them to hold the same values as their romantic partner."
   ]
  },
  {
   "cell_type": "code",
   "execution_count": 98,
   "id": "4554ac86",
   "metadata": {},
   "outputs": [
    {
     "data": {
      "text/plain": [
       "array([[<AxesSubplot:title={'center':'Sharedvalues'}>,\n",
       "        <AxesSubplot:title={'center':'politicalorientation_1extremelyliberal_7extremelyconservative'}>]],\n",
       "      dtype=object)"
      ]
     },
     "execution_count": 98,
     "metadata": {},
     "output_type": "execute_result"
    },
    {
     "data": {
      "image/png": "[encoded data removed]",
      "text/plain": [
       "<Figure size 432x288 with 2 Axes>"
      ]
     },
     "metadata": {
      "needs_background": "light"
     },
     "output_type": "display_data"
    }
   ],
   "source": [
    "# understanding the variables \n",
    "# inspect histograms \n",
    "\n",
    "data_clean[['Sharedvalues', \n",
    "            'politicalorientation_1extremelyliberal_7extremelyconservative']].hist()"
   ]
  },
  {
   "cell_type": "code",
   "execution_count": 99,
   "id": "9b5f463b",
   "metadata": {},
   "outputs": [
    {
     "data": {
      "text/plain": [
       "<AxesSubplot:xlabel='politicalorientation_1extremelyliberal_7extremelyconservative', ylabel='Sharedvalues'>"
      ]
     },
     "execution_count": 99,
     "metadata": {},
     "output_type": "execute_result"
    },
    {
     "data": {
      "image/png": "[encoded data removed]",
      "text/plain": [
       "<Figure size 432x288 with 1 Axes>"
      ]
     },
     "metadata": {
      "needs_background": "light"
     },
     "output_type": "display_data"
    }
   ],
   "source": [
    "data_clean.plot(y='Sharedvalues', \n",
    "                x='politicalorientation_1extremelyliberal_7extremelyconservative',\n",
    "                kind='scatter')"
   ]
  },
  {
   "cell_type": "code",
   "execution_count": 100,
   "id": "7b93fa97",
   "metadata": {},
   "outputs": [],
   "source": [
    "# doesn't look like there is a relationship"
   ]
  },
  {
   "cell_type": "code",
   "execution_count": 101,
   "id": "edcee968",
   "metadata": {},
   "outputs": [
    {
     "data": {
      "text/plain": [
       "<AxesSubplot:xlabel='politicalorientation_1extremelyliberal_7extremelyconservative', ylabel='Sharedvalues'>"
      ]
     },
     "execution_count": 101,
     "metadata": {},
     "output_type": "execute_result"
    },
    {
     "data": {
      "image/png": "[encoded data removed]",
      "text/plain": [
       "<Figure size 432x288 with 1 Axes>"
      ]
     },
     "metadata": {
      "needs_background": "light"
     },
     "output_type": "display_data"
    }
   ],
   "source": [
    "# another view would be a box plot\n",
    "sns.boxplot(y='Sharedvalues', \n",
    "            x='politicalorientation_1extremelyliberal_7extremelyconservative',\n",
    "            data=data_clean, notch=True)\n"
   ]
  },
  {
   "cell_type": "code",
   "execution_count": 102,
   "id": "4c797fa3",
   "metadata": {},
   "outputs": [
    {
     "data": {
      "text/html": [
       "<table class=\"simpletable\">\n",
       "<caption>OLS Regression Results</caption>\n",
       "<tr>\n",
       "  <th>Dep. Variable:</th>      <td>Sharedvalues</td>   <th>  R-squared:         </th> <td>   0.005</td>\n",
       "</tr>\n",
       "<tr>\n",
       "  <th>Model:</th>                   <td>OLS</td>       <th>  Adj. R-squared:    </th> <td>  -0.001</td>\n",
       "</tr>\n",
       "<tr>\n",
       "  <th>Method:</th>             <td>Least Squares</td>  <th>  F-statistic:       </th> <td>  0.8844</td>\n",
       "</tr>\n",
       "<tr>\n",
       "  <th>Date:</th>             <td>Mon, 06 Dec 2021</td> <th>  Prob (F-statistic):</th>  <td> 0.348</td> \n",
       "</tr>\n",
       "<tr>\n",
       "  <th>Time:</th>                 <td>17:15:15</td>     <th>  Log-Likelihood:    </th> <td> -871.78</td>\n",
       "</tr>\n",
       "<tr>\n",
       "  <th>No. Observations:</th>      <td>   193</td>      <th>  AIC:               </th> <td>   1748.</td>\n",
       "</tr>\n",
       "<tr>\n",
       "  <th>Df Residuals:</th>          <td>   191</td>      <th>  BIC:               </th> <td>   1754.</td>\n",
       "</tr>\n",
       "<tr>\n",
       "  <th>Df Model:</th>              <td>     1</td>      <th>                     </th>     <td> </td>   \n",
       "</tr>\n",
       "<tr>\n",
       "  <th>Covariance Type:</th>      <td>nonrobust</td>    <th>                     </th>     <td> </td>   \n",
       "</tr>\n",
       "</table>\n",
       "<table class=\"simpletable\">\n",
       "<tr>\n",
       "                                <td></td>                                   <th>coef</th>     <th>std err</th>      <th>t</th>      <th>P>|t|</th>  <th>[0.025</th>    <th>0.975]</th>  \n",
       "</tr>\n",
       "<tr>\n",
       "  <th>Intercept</th>                                                     <td>   57.2030</td> <td>    4.572</td> <td>   12.511</td> <td> 0.000</td> <td>   48.184</td> <td>   66.222</td>\n",
       "</tr>\n",
       "<tr>\n",
       "  <th>politicalorientation_1extremelyliberal_7extremelyconservative</th> <td>   -1.5796</td> <td>    1.680</td> <td>   -0.940</td> <td> 0.348</td> <td>   -4.893</td> <td>    1.734</td>\n",
       "</tr>\n",
       "</table>\n",
       "<table class=\"simpletable\">\n",
       "<tr>\n",
       "  <th>Omnibus:</th>       <td> 0.162</td> <th>  Durbin-Watson:     </th> <td>   1.808</td>\n",
       "</tr>\n",
       "<tr>\n",
       "  <th>Prob(Omnibus):</th> <td> 0.922</td> <th>  Jarque-Bera (JB):  </th> <td>   0.314</td>\n",
       "</tr>\n",
       "<tr>\n",
       "  <th>Skew:</th>          <td>-0.017</td> <th>  Prob(JB):          </th> <td>   0.855</td>\n",
       "</tr>\n",
       "<tr>\n",
       "  <th>Kurtosis:</th>      <td> 2.805</td> <th>  Cond. No.          </th> <td>    8.70</td>\n",
       "</tr>\n",
       "</table><br/><br/>Notes:<br/>[1] Standard Errors assume that the covariance matrix of the errors is correctly specified."
      ],
      "text/plain": [
       "<class 'statsmodels.iolib.summary.Summary'>\n",
       "\"\"\"\n",
       "                            OLS Regression Results                            \n",
       "==============================================================================\n",
       "Dep. Variable:           Sharedvalues   R-squared:                       0.005\n",
       "Model:                            OLS   Adj. R-squared:                 -0.001\n",
       "Method:                 Least Squares   F-statistic:                    0.8844\n",
       "Date:                Mon, 06 Dec 2021   Prob (F-statistic):              0.348\n",
       "Time:                        17:15:15   Log-Likelihood:                -871.78\n",
       "No. Observations:                 193   AIC:                             1748.\n",
       "Df Residuals:                     191   BIC:                             1754.\n",
       "Df Model:                           1                                         \n",
       "Covariance Type:            nonrobust                                         \n",
       "=================================================================================================================================\n",
       "                                                                    coef    std err          t      P>|t|      [0.025      0.975]\n",
       "---------------------------------------------------------------------------------------------------------------------------------\n",
       "Intercept                                                        57.2030      4.572     12.511      0.000      48.184      66.222\n",
       "politicalorientation_1extremelyliberal_7extremelyconservative    -1.5796      1.680     -0.940      0.348      -4.893       1.734\n",
       "==============================================================================\n",
       "Omnibus:                        0.162   Durbin-Watson:                   1.808\n",
       "Prob(Omnibus):                  0.922   Jarque-Bera (JB):                0.314\n",
       "Skew:                          -0.017   Prob(JB):                        0.855\n",
       "Kurtosis:                       2.805   Cond. No.                         8.70\n",
       "==============================================================================\n",
       "\n",
       "Notes:\n",
       "[1] Standard Errors assume that the covariance matrix of the errors is correctly specified.\n",
       "\"\"\""
      ]
     },
     "execution_count": 102,
     "metadata": {},
     "output_type": "execute_result"
    }
   ],
   "source": [
    "mod = smf.ols(formula='Sharedvalues ~ politicalorientation_1extremelyliberal_7extremelyconservative', data=data_clean)\n",
    "res = mod.fit()\n",
    "res.summary()"
   ]
  },
  {
   "cell_type": "markdown",
   "id": "d27390e4",
   "metadata": {},
   "source": [
    "Political orientation does not have a statistically meaningful relationship with the placed value on shared values."
   ]
  },
  {
   "cell_type": "markdown",
   "id": "a0d65c1a",
   "metadata": {},
   "source": [
    "# Question 4\n",
    "## Is there a statistically significant difference between the placed importance of socialattractiveness for people currently in a relationship and singles?"
   ]
  },
  {
   "cell_type": "code",
   "execution_count": 103,
   "id": "adc52ad2",
   "metadata": {},
   "outputs": [
    {
     "data": {
      "text/plain": [
       "<AxesSubplot:xlabel='Relationship', ylabel='socialattractiveness'>"
      ]
     },
     "execution_count": 103,
     "metadata": {},
     "output_type": "execute_result"
    },
    {
     "data": {
      "image/png": "[encoded data removed]",
      "text/plain": [
       "<Figure size 432x288 with 1 Axes>"
      ]
     },
     "metadata": {
      "needs_background": "light"
     },
     "output_type": "display_data"
    }
   ],
   "source": [
    "# first plot the data\n",
    "\n",
    "sns.boxplot(x='Relationship',\n",
    "            y='socialattractiveness',\n",
    "            data=data_clean\n",
    "           )"
   ]
  },
  {
   "cell_type": "code",
   "execution_count": 104,
   "id": "2a675f5c",
   "metadata": {},
   "outputs": [],
   "source": [
    "# select the column for the y variable\n",
    "# and then use your relationship filter\n",
    "\n",
    "relationship = data_clean['Relationship']=='In a relationship'\n",
    "\n",
    "y_socialattract = data_clean['socialattractiveness']\n",
    "\n",
    "# use three named pointers to capture result\n",
    "# which is t statistics, p value and dfs\n",
    "tstat, pvalue, df =  smstats.weightstats.ttest_ind(\n",
    "    x1=y_socialattract[-relationship],\n",
    "    x2=y_socialattract[relationship])"
   ]
  },
  {
   "cell_type": "code",
   "execution_count": 105,
   "id": "30beb42d",
   "metadata": {},
   "outputs": [
    {
     "name": "stdout",
     "output_type": "stream",
     "text": [
      "t=-1.19 p=0.24 with 191.0 degrees of freedom\n"
     ]
    }
   ],
   "source": [
    "print(f't={tstat:0.2f} p={pvalue:0.2f} with {df} degrees of freedom')"
   ]
  },
  {
   "cell_type": "markdown",
   "id": "b82c5f80",
   "metadata": {},
   "source": [
    "Therefore, we see that there is not a significant relationship between whether one is in a relationship and how much one cares about social attractiveness of their partner."
   ]
  },
  {
   "cell_type": "markdown",
   "id": "a30de9b6",
   "metadata": {},
   "source": [
    "# Question 5\n",
    "## If we focus on analyze respondents younger that 30 years old, is there still a statistically significant relationship between the placed importance on wealth and age?"
   ]
  },
  {
   "cell_type": "code",
   "execution_count": 106,
   "id": "96be1102",
   "metadata": {},
   "outputs": [],
   "source": [
    "age_filter = data_clean[\"Age\"] <=30\n",
    "data_age = data_clean[age_filter]"
   ]
  },
  {
   "cell_type": "code",
   "execution_count": 107,
   "id": "cd3abf48",
   "metadata": {},
   "outputs": [
    {
     "data": {
      "text/html": [
       "<table class=\"simpletable\">\n",
       "<caption>OLS Regression Results</caption>\n",
       "<tr>\n",
       "  <th>Dep. Variable:</th>         <td>Wealth</td>      <th>  R-squared:         </th> <td>   0.009</td>\n",
       "</tr>\n",
       "<tr>\n",
       "  <th>Model:</th>                   <td>OLS</td>       <th>  Adj. R-squared:    </th> <td>   0.004</td>\n",
       "</tr>\n",
       "<tr>\n",
       "  <th>Method:</th>             <td>Least Squares</td>  <th>  F-statistic:       </th> <td>   1.750</td>\n",
       "</tr>\n",
       "<tr>\n",
       "  <th>Date:</th>             <td>Mon, 06 Dec 2021</td> <th>  Prob (F-statistic):</th>  <td> 0.187</td> \n",
       "</tr>\n",
       "<tr>\n",
       "  <th>Time:</th>                 <td>17:15:15</td>     <th>  Log-Likelihood:    </th> <td> -878.40</td>\n",
       "</tr>\n",
       "<tr>\n",
       "  <th>No. Observations:</th>      <td>   193</td>      <th>  AIC:               </th> <td>   1761.</td>\n",
       "</tr>\n",
       "<tr>\n",
       "  <th>Df Residuals:</th>          <td>   191</td>      <th>  BIC:               </th> <td>   1767.</td>\n",
       "</tr>\n",
       "<tr>\n",
       "  <th>Df Model:</th>              <td>     1</td>      <th>                     </th>     <td> </td>   \n",
       "</tr>\n",
       "<tr>\n",
       "  <th>Covariance Type:</th>      <td>nonrobust</td>    <th>                     </th>     <td> </td>   \n",
       "</tr>\n",
       "</table>\n",
       "<table class=\"simpletable\">\n",
       "<tr>\n",
       "      <td></td>         <th>coef</th>     <th>std err</th>      <th>t</th>      <th>P>|t|</th>  <th>[0.025</th>    <th>0.975]</th>  \n",
       "</tr>\n",
       "<tr>\n",
       "  <th>Intercept</th> <td>   -1.2161</td> <td>   20.418</td> <td>   -0.060</td> <td> 0.953</td> <td>  -41.489</td> <td>   39.057</td>\n",
       "</tr>\n",
       "<tr>\n",
       "  <th>Age</th>       <td>    1.2735</td> <td>    0.963</td> <td>    1.323</td> <td> 0.187</td> <td>   -0.625</td> <td>    3.172</td>\n",
       "</tr>\n",
       "</table>\n",
       "<table class=\"simpletable\">\n",
       "<tr>\n",
       "  <th>Omnibus:</th>       <td>27.013</td> <th>  Durbin-Watson:     </th> <td>   1.369</td>\n",
       "</tr>\n",
       "<tr>\n",
       "  <th>Prob(Omnibus):</th> <td> 0.000</td> <th>  Jarque-Bera (JB):  </th> <td>  33.749</td>\n",
       "</tr>\n",
       "<tr>\n",
       "  <th>Skew:</th>          <td> 0.940</td> <th>  Prob(JB):          </th> <td>4.69e-08</td>\n",
       "</tr>\n",
       "<tr>\n",
       "  <th>Kurtosis:</th>      <td> 3.814</td> <th>  Cond. No.          </th> <td>    262.</td>\n",
       "</tr>\n",
       "</table><br/><br/>Notes:<br/>[1] Standard Errors assume that the covariance matrix of the errors is correctly specified."
      ],
      "text/plain": [
       "<class 'statsmodels.iolib.summary.Summary'>\n",
       "\"\"\"\n",
       "                            OLS Regression Results                            \n",
       "==============================================================================\n",
       "Dep. Variable:                 Wealth   R-squared:                       0.009\n",
       "Model:                            OLS   Adj. R-squared:                  0.004\n",
       "Method:                 Least Squares   F-statistic:                     1.750\n",
       "Date:                Mon, 06 Dec 2021   Prob (F-statistic):              0.187\n",
       "Time:                        17:15:15   Log-Likelihood:                -878.40\n",
       "No. Observations:                 193   AIC:                             1761.\n",
       "Df Residuals:                     191   BIC:                             1767.\n",
       "Df Model:                           1                                         \n",
       "Covariance Type:            nonrobust                                         \n",
       "==============================================================================\n",
       "                 coef    std err          t      P>|t|      [0.025      0.975]\n",
       "------------------------------------------------------------------------------\n",
       "Intercept     -1.2161     20.418     -0.060      0.953     -41.489      39.057\n",
       "Age            1.2735      0.963      1.323      0.187      -0.625       3.172\n",
       "==============================================================================\n",
       "Omnibus:                       27.013   Durbin-Watson:                   1.369\n",
       "Prob(Omnibus):                  0.000   Jarque-Bera (JB):               33.749\n",
       "Skew:                           0.940   Prob(JB):                     4.69e-08\n",
       "Kurtosis:                       3.814   Cond. No.                         262.\n",
       "==============================================================================\n",
       "\n",
       "Notes:\n",
       "[1] Standard Errors assume that the covariance matrix of the errors is correctly specified.\n",
       "\"\"\""
      ]
     },
     "execution_count": 107,
     "metadata": {},
     "output_type": "execute_result"
    }
   ],
   "source": [
    "mod = smf.ols(formula='Wealth ~ Age', data=data_age)\n",
    "res = mod.fit()\n",
    "res.summary()"
   ]
  },
  {
   "cell_type": "markdown",
   "id": "4e379003",
   "metadata": {},
   "source": [
    "We here see than under the age of 30, age is not a significant factor in valuing the importance of wealth in a partner."
   ]
  },
  {
   "cell_type": "code",
   "execution_count": null,
   "id": "d8f639a5",
   "metadata": {},
   "outputs": [],
   "source": []
  },
  {
   "cell_type": "markdown",
   "id": "24807650",
   "metadata": {},
   "source": [
    "<div class=\"alert alert-info\">\n",
    "    \n",
    "### Looking at the relationship between design traits\n",
    "    \n",
    "* Interesting to look at the relationship between the traits based on proportion of total assigned to each trait across participants\n",
    "    \n",
    "    \n",
    "* One way might be to use correlation\n",
    "    * Simplest is correlation between $ amounts\n",
    "    * Might be more appropriate, however, to use ranked method\n",
    "    \n",
    "   "
   ]
  },
  {
   "cell_type": "code",
   "execution_count": 140,
   "id": "e13349b7",
   "metadata": {},
   "outputs": [],
   "source": [
    "# select trait columns\n",
    "trait_df = data_clean.iloc[:,:10]"
   ]
  },
  {
   "cell_type": "code",
   "execution_count": 146,
   "id": "cbbbb4dc",
   "metadata": {},
   "outputs": [
    {
     "data": {
      "text/html": [
       "<div>\n",
       "<style scoped>\n",
       "    .dataframe tbody tr th:only-of-type {\n",
       "        vertical-align: middle;\n",
       "    }\n",
       "\n",
       "    .dataframe tbody tr th {\n",
       "        vertical-align: top;\n",
       "    }\n",
       "\n",
       "    .dataframe thead th {\n",
       "        text-align: right;\n",
       "    }\n",
       "</style>\n",
       "<table border=\"1\" class=\"dataframe\">\n",
       "  <thead>\n",
       "    <tr style=\"text-align: right;\">\n",
       "      <th></th>\n",
       "      <th>Body</th>\n",
       "      <th>Face</th>\n",
       "      <th>Fidelity</th>\n",
       "      <th>Intelligence</th>\n",
       "      <th>Kindness</th>\n",
       "      <th>Senseofhumor</th>\n",
       "      <th>Sensitivity</th>\n",
       "      <th>Sexualskill</th>\n",
       "      <th>Sharedvalues</th>\n",
       "      <th>Wealth</th>\n",
       "    </tr>\n",
       "  </thead>\n",
       "  <tbody>\n",
       "    <tr>\n",
       "      <th>Body</th>\n",
       "      <td>1.000000</td>\n",
       "      <td>0.684119</td>\n",
       "      <td>-0.195362</td>\n",
       "      <td>-0.379662</td>\n",
       "      <td>-0.377457</td>\n",
       "      <td>-0.274809</td>\n",
       "      <td>-0.366355</td>\n",
       "      <td>0.286277</td>\n",
       "      <td>-0.386304</td>\n",
       "      <td>-0.111065</td>\n",
       "    </tr>\n",
       "    <tr>\n",
       "      <th>Face</th>\n",
       "      <td>0.684119</td>\n",
       "      <td>1.000000</td>\n",
       "      <td>-0.212859</td>\n",
       "      <td>-0.349691</td>\n",
       "      <td>-0.391597</td>\n",
       "      <td>-0.228854</td>\n",
       "      <td>-0.433460</td>\n",
       "      <td>0.268094</td>\n",
       "      <td>-0.345764</td>\n",
       "      <td>-0.087521</td>\n",
       "    </tr>\n",
       "    <tr>\n",
       "      <th>Fidelity</th>\n",
       "      <td>-0.195362</td>\n",
       "      <td>-0.212859</td>\n",
       "      <td>1.000000</td>\n",
       "      <td>-0.177179</td>\n",
       "      <td>0.053283</td>\n",
       "      <td>-0.112591</td>\n",
       "      <td>0.024992</td>\n",
       "      <td>-0.254261</td>\n",
       "      <td>0.038988</td>\n",
       "      <td>-0.206791</td>\n",
       "    </tr>\n",
       "    <tr>\n",
       "      <th>Intelligence</th>\n",
       "      <td>-0.379662</td>\n",
       "      <td>-0.349691</td>\n",
       "      <td>-0.177179</td>\n",
       "      <td>1.000000</td>\n",
       "      <td>0.160679</td>\n",
       "      <td>0.046901</td>\n",
       "      <td>0.003551</td>\n",
       "      <td>-0.199617</td>\n",
       "      <td>0.136314</td>\n",
       "      <td>-0.065708</td>\n",
       "    </tr>\n",
       "    <tr>\n",
       "      <th>Kindness</th>\n",
       "      <td>-0.377457</td>\n",
       "      <td>-0.391597</td>\n",
       "      <td>0.053283</td>\n",
       "      <td>0.160679</td>\n",
       "      <td>1.000000</td>\n",
       "      <td>-0.018970</td>\n",
       "      <td>0.350201</td>\n",
       "      <td>-0.343996</td>\n",
       "      <td>0.034104</td>\n",
       "      <td>-0.334149</td>\n",
       "    </tr>\n",
       "    <tr>\n",
       "      <th>Senseofhumor</th>\n",
       "      <td>-0.274809</td>\n",
       "      <td>-0.228854</td>\n",
       "      <td>-0.112591</td>\n",
       "      <td>0.046901</td>\n",
       "      <td>-0.018970</td>\n",
       "      <td>1.000000</td>\n",
       "      <td>-0.084341</td>\n",
       "      <td>-0.102800</td>\n",
       "      <td>-0.030674</td>\n",
       "      <td>-0.106744</td>\n",
       "    </tr>\n",
       "    <tr>\n",
       "      <th>Sensitivity</th>\n",
       "      <td>-0.366355</td>\n",
       "      <td>-0.433460</td>\n",
       "      <td>0.024992</td>\n",
       "      <td>0.003551</td>\n",
       "      <td>0.350201</td>\n",
       "      <td>-0.084341</td>\n",
       "      <td>1.000000</td>\n",
       "      <td>-0.396843</td>\n",
       "      <td>0.094458</td>\n",
       "      <td>-0.102979</td>\n",
       "    </tr>\n",
       "    <tr>\n",
       "      <th>Sexualskill</th>\n",
       "      <td>0.286277</td>\n",
       "      <td>0.268094</td>\n",
       "      <td>-0.254261</td>\n",
       "      <td>-0.199617</td>\n",
       "      <td>-0.343996</td>\n",
       "      <td>-0.102800</td>\n",
       "      <td>-0.396843</td>\n",
       "      <td>1.000000</td>\n",
       "      <td>-0.388417</td>\n",
       "      <td>0.054009</td>\n",
       "    </tr>\n",
       "    <tr>\n",
       "      <th>Sharedvalues</th>\n",
       "      <td>-0.386304</td>\n",
       "      <td>-0.345764</td>\n",
       "      <td>0.038988</td>\n",
       "      <td>0.136314</td>\n",
       "      <td>0.034104</td>\n",
       "      <td>-0.030674</td>\n",
       "      <td>0.094458</td>\n",
       "      <td>-0.388417</td>\n",
       "      <td>1.000000</td>\n",
       "      <td>-0.140783</td>\n",
       "    </tr>\n",
       "    <tr>\n",
       "      <th>Wealth</th>\n",
       "      <td>-0.111065</td>\n",
       "      <td>-0.087521</td>\n",
       "      <td>-0.206791</td>\n",
       "      <td>-0.065708</td>\n",
       "      <td>-0.334149</td>\n",
       "      <td>-0.106744</td>\n",
       "      <td>-0.102979</td>\n",
       "      <td>0.054009</td>\n",
       "      <td>-0.140783</td>\n",
       "      <td>1.000000</td>\n",
       "    </tr>\n",
       "  </tbody>\n",
       "</table>\n",
       "</div>"
      ],
      "text/plain": [
       "                  Body      Face  Fidelity  Intelligence  Kindness  \\\n",
       "Body          1.000000  0.684119 -0.195362     -0.379662 -0.377457   \n",
       "Face          0.684119  1.000000 -0.212859     -0.349691 -0.391597   \n",
       "Fidelity     -0.195362 -0.212859  1.000000     -0.177179  0.053283   \n",
       "Intelligence -0.379662 -0.349691 -0.177179      1.000000  0.160679   \n",
       "Kindness     -0.377457 -0.391597  0.053283      0.160679  1.000000   \n",
       "Senseofhumor -0.274809 -0.228854 -0.112591      0.046901 -0.018970   \n",
       "Sensitivity  -0.366355 -0.433460  0.024992      0.003551  0.350201   \n",
       "Sexualskill   0.286277  0.268094 -0.254261     -0.199617 -0.343996   \n",
       "Sharedvalues -0.386304 -0.345764  0.038988      0.136314  0.034104   \n",
       "Wealth       -0.111065 -0.087521 -0.206791     -0.065708 -0.334149   \n",
       "\n",
       "              Senseofhumor  Sensitivity  Sexualskill  Sharedvalues    Wealth  \n",
       "Body             -0.274809    -0.366355     0.286277     -0.386304 -0.111065  \n",
       "Face             -0.228854    -0.433460     0.268094     -0.345764 -0.087521  \n",
       "Fidelity         -0.112591     0.024992    -0.254261      0.038988 -0.206791  \n",
       "Intelligence      0.046901     0.003551    -0.199617      0.136314 -0.065708  \n",
       "Kindness         -0.018970     0.350201    -0.343996      0.034104 -0.334149  \n",
       "Senseofhumor      1.000000    -0.084341    -0.102800     -0.030674 -0.106744  \n",
       "Sensitivity      -0.084341     1.000000    -0.396843      0.094458 -0.102979  \n",
       "Sexualskill      -0.102800    -0.396843     1.000000     -0.388417  0.054009  \n",
       "Sharedvalues     -0.030674     0.094458    -0.388417      1.000000 -0.140783  \n",
       "Wealth           -0.106744    -0.102979     0.054009     -0.140783  1.000000  "
      ]
     },
     "execution_count": 146,
     "metadata": {},
     "output_type": "execute_result"
    }
   ],
   "source": [
    "# pearson correlation on $ values\n",
    "corr_matrix=trait_df.corr()\n",
    "corr_matrix"
   ]
  },
  {
   "cell_type": "code",
   "execution_count": 147,
   "id": "726a5330",
   "metadata": {
    "scrolled": true
   },
   "outputs": [
    {
     "data": {
      "text/html": [
       "<div>\n",
       "<style scoped>\n",
       "    .dataframe tbody tr th:only-of-type {\n",
       "        vertical-align: middle;\n",
       "    }\n",
       "\n",
       "    .dataframe tbody tr th {\n",
       "        vertical-align: top;\n",
       "    }\n",
       "\n",
       "    .dataframe thead th {\n",
       "        text-align: right;\n",
       "    }\n",
       "</style>\n",
       "<table border=\"1\" class=\"dataframe\">\n",
       "  <thead>\n",
       "    <tr style=\"text-align: right;\">\n",
       "      <th></th>\n",
       "      <th>Body</th>\n",
       "      <th>Face</th>\n",
       "      <th>Fidelity</th>\n",
       "      <th>Intelligence</th>\n",
       "      <th>Kindness</th>\n",
       "      <th>Senseofhumor</th>\n",
       "      <th>Sensitivity</th>\n",
       "      <th>Sexualskill</th>\n",
       "      <th>Sharedvalues</th>\n",
       "      <th>Wealth</th>\n",
       "    </tr>\n",
       "  </thead>\n",
       "  <tbody>\n",
       "    <tr>\n",
       "      <th>Body</th>\n",
       "      <td>1.000000</td>\n",
       "      <td>0.558134</td>\n",
       "      <td>-0.267857</td>\n",
       "      <td>-0.298490</td>\n",
       "      <td>-0.310657</td>\n",
       "      <td>-0.248559</td>\n",
       "      <td>-0.392435</td>\n",
       "      <td>0.307452</td>\n",
       "      <td>-0.361101</td>\n",
       "      <td>-0.189382</td>\n",
       "    </tr>\n",
       "    <tr>\n",
       "      <th>Face</th>\n",
       "      <td>0.558134</td>\n",
       "      <td>1.000000</td>\n",
       "      <td>-0.239702</td>\n",
       "      <td>-0.276544</td>\n",
       "      <td>-0.371062</td>\n",
       "      <td>-0.149394</td>\n",
       "      <td>-0.392670</td>\n",
       "      <td>0.216908</td>\n",
       "      <td>-0.352800</td>\n",
       "      <td>-0.189091</td>\n",
       "    </tr>\n",
       "    <tr>\n",
       "      <th>Fidelity</th>\n",
       "      <td>-0.267857</td>\n",
       "      <td>-0.239702</td>\n",
       "      <td>1.000000</td>\n",
       "      <td>-0.142337</td>\n",
       "      <td>-0.032927</td>\n",
       "      <td>-0.079484</td>\n",
       "      <td>0.094893</td>\n",
       "      <td>-0.214344</td>\n",
       "      <td>0.021475</td>\n",
       "      <td>-0.075367</td>\n",
       "    </tr>\n",
       "    <tr>\n",
       "      <th>Intelligence</th>\n",
       "      <td>-0.298490</td>\n",
       "      <td>-0.276544</td>\n",
       "      <td>-0.142337</td>\n",
       "      <td>1.000000</td>\n",
       "      <td>0.024065</td>\n",
       "      <td>-0.021766</td>\n",
       "      <td>-0.031712</td>\n",
       "      <td>-0.215751</td>\n",
       "      <td>0.135742</td>\n",
       "      <td>0.157468</td>\n",
       "    </tr>\n",
       "    <tr>\n",
       "      <th>Kindness</th>\n",
       "      <td>-0.310657</td>\n",
       "      <td>-0.371062</td>\n",
       "      <td>-0.032927</td>\n",
       "      <td>0.024065</td>\n",
       "      <td>1.000000</td>\n",
       "      <td>-0.021713</td>\n",
       "      <td>0.379421</td>\n",
       "      <td>-0.284663</td>\n",
       "      <td>-0.013532</td>\n",
       "      <td>-0.234971</td>\n",
       "    </tr>\n",
       "    <tr>\n",
       "      <th>Senseofhumor</th>\n",
       "      <td>-0.248559</td>\n",
       "      <td>-0.149394</td>\n",
       "      <td>-0.079484</td>\n",
       "      <td>-0.021766</td>\n",
       "      <td>-0.021713</td>\n",
       "      <td>1.000000</td>\n",
       "      <td>-0.014285</td>\n",
       "      <td>-0.189527</td>\n",
       "      <td>-0.033899</td>\n",
       "      <td>-0.040497</td>\n",
       "    </tr>\n",
       "    <tr>\n",
       "      <th>Sensitivity</th>\n",
       "      <td>-0.392435</td>\n",
       "      <td>-0.392670</td>\n",
       "      <td>0.094893</td>\n",
       "      <td>-0.031712</td>\n",
       "      <td>0.379421</td>\n",
       "      <td>-0.014285</td>\n",
       "      <td>1.000000</td>\n",
       "      <td>-0.286591</td>\n",
       "      <td>-0.013369</td>\n",
       "      <td>-0.146066</td>\n",
       "    </tr>\n",
       "    <tr>\n",
       "      <th>Sexualskill</th>\n",
       "      <td>0.307452</td>\n",
       "      <td>0.216908</td>\n",
       "      <td>-0.214344</td>\n",
       "      <td>-0.215751</td>\n",
       "      <td>-0.284663</td>\n",
       "      <td>-0.189527</td>\n",
       "      <td>-0.286591</td>\n",
       "      <td>1.000000</td>\n",
       "      <td>-0.361485</td>\n",
       "      <td>-0.057970</td>\n",
       "    </tr>\n",
       "    <tr>\n",
       "      <th>Sharedvalues</th>\n",
       "      <td>-0.361101</td>\n",
       "      <td>-0.352800</td>\n",
       "      <td>0.021475</td>\n",
       "      <td>0.135742</td>\n",
       "      <td>-0.013532</td>\n",
       "      <td>-0.033899</td>\n",
       "      <td>-0.013369</td>\n",
       "      <td>-0.361485</td>\n",
       "      <td>1.000000</td>\n",
       "      <td>-0.071482</td>\n",
       "    </tr>\n",
       "    <tr>\n",
       "      <th>Wealth</th>\n",
       "      <td>-0.189382</td>\n",
       "      <td>-0.189091</td>\n",
       "      <td>-0.075367</td>\n",
       "      <td>0.157468</td>\n",
       "      <td>-0.234971</td>\n",
       "      <td>-0.040497</td>\n",
       "      <td>-0.146066</td>\n",
       "      <td>-0.057970</td>\n",
       "      <td>-0.071482</td>\n",
       "      <td>1.000000</td>\n",
       "    </tr>\n",
       "  </tbody>\n",
       "</table>\n",
       "</div>"
      ],
      "text/plain": [
       "                  Body      Face  Fidelity  Intelligence  Kindness  \\\n",
       "Body          1.000000  0.558134 -0.267857     -0.298490 -0.310657   \n",
       "Face          0.558134  1.000000 -0.239702     -0.276544 -0.371062   \n",
       "Fidelity     -0.267857 -0.239702  1.000000     -0.142337 -0.032927   \n",
       "Intelligence -0.298490 -0.276544 -0.142337      1.000000  0.024065   \n",
       "Kindness     -0.310657 -0.371062 -0.032927      0.024065  1.000000   \n",
       "Senseofhumor -0.248559 -0.149394 -0.079484     -0.021766 -0.021713   \n",
       "Sensitivity  -0.392435 -0.392670  0.094893     -0.031712  0.379421   \n",
       "Sexualskill   0.307452  0.216908 -0.214344     -0.215751 -0.284663   \n",
       "Sharedvalues -0.361101 -0.352800  0.021475      0.135742 -0.013532   \n",
       "Wealth       -0.189382 -0.189091 -0.075367      0.157468 -0.234971   \n",
       "\n",
       "              Senseofhumor  Sensitivity  Sexualskill  Sharedvalues    Wealth  \n",
       "Body             -0.248559    -0.392435     0.307452     -0.361101 -0.189382  \n",
       "Face             -0.149394    -0.392670     0.216908     -0.352800 -0.189091  \n",
       "Fidelity         -0.079484     0.094893    -0.214344      0.021475 -0.075367  \n",
       "Intelligence     -0.021766    -0.031712    -0.215751      0.135742  0.157468  \n",
       "Kindness         -0.021713     0.379421    -0.284663     -0.013532 -0.234971  \n",
       "Senseofhumor      1.000000    -0.014285    -0.189527     -0.033899 -0.040497  \n",
       "Sensitivity      -0.014285     1.000000    -0.286591     -0.013369 -0.146066  \n",
       "Sexualskill      -0.189527    -0.286591     1.000000     -0.361485 -0.057970  \n",
       "Sharedvalues     -0.033899    -0.013369    -0.361485      1.000000 -0.071482  \n",
       "Wealth           -0.040497    -0.146066    -0.057970     -0.071482  1.000000  "
      ]
     },
     "execution_count": 147,
     "metadata": {},
     "output_type": "execute_result"
    }
   ],
   "source": [
    "# rank values across rows and apply spearman correlation\n",
    "rank_matrix = trait_df.rank(axis=1).corr(method='spearman')\n",
    "rank_matrix"
   ]
  },
  {
   "cell_type": "code",
   "execution_count": 150,
   "id": "12ff27a9",
   "metadata": {},
   "outputs": [
    {
     "data": {
      "image/png": "[encoded data removed]",
      "text/plain": [
       "<Figure size 432x288 with 2 Axes>"
      ]
     },
     "metadata": {
      "needs_background": "light"
     },
     "output_type": "display_data"
    }
   ],
   "source": [
    "sns.heatmap(corr_matrix, cmap='bwr', vmax=1, vmin=-1)\n",
    "plt.title('Pearson correlation between traits')\n",
    "plt.show()"
   ]
  },
  {
   "cell_type": "code",
   "execution_count": 152,
   "id": "b4dcecf5",
   "metadata": {},
   "outputs": [
    {
     "data": {
      "image/png": "[encoded data removed]",
      "text/plain": [
       "<Figure size 432x288 with 2 Axes>"
      ]
     },
     "metadata": {
      "needs_background": "light"
     },
     "output_type": "display_data"
    }
   ],
   "source": [
    "sns.heatmap(rank_matrix,\n",
    "             cmap='bwr', vmax=1, vmin=-1)\n",
    "plt.title('Spearman rank correlation between traits')\n",
    "plt.show()"
   ]
  },
  {
   "cell_type": "markdown",
   "id": "df78ecb8",
   "metadata": {},
   "source": [
    "* Seaborn also has a `clustermap` function that orders the correlation heatmap in hierarchical clusters"
   ]
  },
  {
   "cell_type": "code",
   "execution_count": 156,
   "id": "58254218",
   "metadata": {},
   "outputs": [
    {
     "data": {
      "text/plain": [
       "<seaborn.matrix.ClusterGrid at 0x7f2309bc9a90>"
      ]
     },
     "execution_count": 156,
     "metadata": {},
     "output_type": "execute_result"
    },
    {
     "data": {
      "image/png": "[encoded data removed]",
      "text/plain": [
       "<Figure size 720x720 with 4 Axes>"
      ]
     },
     "metadata": {
      "needs_background": "light"
     },
     "output_type": "display_data"
    }
   ],
   "source": [
    "sns.clustermap(corr_matrix, cmap='bwr', vmax=1, vmin=-1)"
   ]
  },
  {
   "cell_type": "markdown",
   "id": "8b5fa1dc",
   "metadata": {},
   "source": [
    "* This gives some sense of how the traits group together\n",
    "\n",
    "\n",
    "* Can also use the hierarchical clustering method in `scipy` to create a dendrogram"
   ]
  },
  {
   "cell_type": "code",
   "execution_count": 159,
   "id": "c890c745",
   "metadata": {},
   "outputs": [
    {
     "data": {
      "image/png": "[encoded data removed]",
      "text/plain": [
       "<Figure size 576x360 with 1 Axes>"
      ]
     },
     "metadata": {
      "needs_background": "light"
     },
     "output_type": "display_data"
    }
   ],
   "source": [
    "# need to transpose the data frame\n",
    "# so traits become rows and responses columns\n",
    "features = trait_df.T\n",
    "labels = features.index\n",
    "\n",
    "plt.figure(figsize=(8, 5))\n",
    "plt.title(\"Trait Dendogram\")\n",
    "dend = shc.dendrogram(shc.linkage(features, method='ward'), \n",
    "                      labels=labels)\n",
    "\n",
    "plt.xticks(rotation = 90) # Rotates X-Axis Ticks by 45-degrees\n",
    "plt.show()"
   ]
  },
  {
   "cell_type": "markdown",
   "id": "4f25950d",
   "metadata": {},
   "source": [
    "* Body, Face and Sexual skill cluster together\n",
    "* Sensitivty and Wealth group together (although there is a negative correlation there is still an association that groups them most closely)\n"
   ]
  },
  {
   "cell_type": "markdown",
   "id": "4b04f3e1",
   "metadata": {},
   "source": [
    "* Another step on would be an exploratory factor analysis\n",
    "\n",
    "\n",
    "* To do this properly one would need to test various assumptions and covariance, but a quick fit using statsmodels gives: "
   ]
  },
  {
   "cell_type": "code",
   "execution_count": 195,
   "id": "174afefe",
   "metadata": {},
   "outputs": [],
   "source": [
    "fmodel=smfactor.Factor(endog=trait_df, n_factor=3)\n",
    "factor_res=fmodel.fit()"
   ]
  },
  {
   "cell_type": "code",
   "execution_count": 196,
   "id": "b7485928",
   "metadata": {},
   "outputs": [
    {
     "data": {
      "text/html": [
       "<table class=\"simpletable\">\n",
       "<tr>\n",
       "  <td></td> <td>Eigenvalues</td> <td></td> <td></td>\n",
       "</tr>\n",
       "</table>\n",
       "<table class=\"simpletable\">\n",
       "<tr>\n",
       "  <td></td>  <th>Body</th>   <th>Face</th>  <th>Fidelity</th> <th>Intelligence</th> <th>Kindness</th> <th>Senseofhumor</th> <th>Sensitivity</th> <th>Sexualskill</th> <th>Sharedvalues</th> <th>Wealth</th> \n",
       "</tr>\n",
       "<tr>\n",
       "  <th></th> <td>2.5289</td> <td>1.7712</td>  <td>0.5645</td>     <td>0.3147</td>     <td>0.2417</td>     <td>0.1044</td>      <td>0.0523</td>      <td>0.0349</td>       <td>-0.1514</td>   <td>-0.6084</td>\n",
       "</tr>\n",
       "</table>\n",
       "<table class=\"simpletable\">\n",
       "<tr>\n",
       "  <td></td> <td></td> <td></td> <td></td>\n",
       "</tr>\n",
       "</table>\n",
       "<table class=\"simpletable\">\n",
       "<tr>\n",
       "  <td></td> <td>Communality</td> <td></td> <td></td>\n",
       "</tr>\n",
       "</table>\n",
       "<table class=\"simpletable\">\n",
       "<tr>\n",
       "  <td></td>  <th>Body</th>   <th>Face</th>  <th>Fidelity</th> <th>Intelligence</th> <th>Kindness</th> <th>Senseofhumor</th> <th>Sensitivity</th> <th>Sexualskill</th> <th>Sharedvalues</th> <th>Wealth</th>\n",
       "</tr>\n",
       "<tr>\n",
       "  <th></th> <td>0.8045</td> <td>0.6753</td>  <td>0.0808</td>     <td>0.2090</td>     <td>0.3182</td>     <td>0.1404</td>      <td>0.4375</td>      <td>0.3434</td>       <td>0.1610</td>    <td>1.6946</td>\n",
       "</tr>\n",
       "</table>\n",
       "<table class=\"simpletable\">\n",
       "<tr>\n",
       "  <td></td> <td></td> <td></td> <td></td>\n",
       "</tr>\n",
       "</table>\n",
       "<table class=\"simpletable\">\n",
       "<tr>\n",
       "  <td></td> <td>Pre-rotated loadings</td> <td></td> <td></td>\n",
       "</tr>\n",
       "</table>\n",
       "<table class=\"simpletable\">\n",
       "<tr>\n",
       "        <td></td>       <th>factor 0</th> <th>factor 1</th> <th>factor 2</th>\n",
       "</tr>\n",
       "<tr>\n",
       "  <th>Body</th>          <td>0.8208</td>   <td>-0.2728</td>  <td>-0.2374</td>\n",
       "</tr>\n",
       "<tr>\n",
       "  <th>Face</th>          <td>0.7822</td>   <td>-0.2331</td>  <td>-0.0958</td>\n",
       "</tr>\n",
       "<tr>\n",
       "  <th>Fidelity</th>      <td>-0.2005</td>  <td>-0.1035</td>  <td>-0.1728</td>\n",
       "</tr>\n",
       "<tr>\n",
       "  <th>Intelligence</th>  <td>-0.3534</td>  <td>0.0644</td>   <td>0.2827</td> \n",
       "</tr>\n",
       "<tr>\n",
       "  <th>Kindness</th>      <td>-0.5193</td>  <td>-0.1472</td>  <td>-0.1639</td>\n",
       "</tr>\n",
       "<tr>\n",
       "  <th>Senseofhumor</th>  <td>-0.1741</td>  <td>0.0063</td>   <td>0.3318</td> \n",
       "</tr>\n",
       "<tr>\n",
       "  <th>Sensitivity</th>   <td>-0.5195</td>  <td>0.0166</td>   <td>-0.4091</td>\n",
       "</tr>\n",
       "<tr>\n",
       "  <th>Sexualskill</th>   <td>0.5212</td>   <td>-0.0130</td>  <td>0.2676</td> \n",
       "</tr>\n",
       "<tr>\n",
       "  <th>Sharedvalues</th>  <td>-0.3997</td>  <td>0.0086</td>   <td>0.0342</td> \n",
       "</tr>\n",
       "<tr>\n",
       "  <th>Wealth</th>        <td>0.2776</td>   <td>1.2670</td>   <td>-0.1100</td>\n",
       "</tr>\n",
       "</table>\n",
       "<table class=\"simpletable\">\n",
       "<tr>\n",
       "  <td></td> <td></td> <td></td> <td></td>\n",
       "</tr>\n",
       "</table>"
      ],
      "text/plain": [
       "<class 'statsmodels.iolib.summary2.Summary'>\n",
       "\"\"\"\n",
       "                                        Factor analysis results\n",
       "=======================================================================================================\n",
       "                                Eigenvalues                                                            \n",
       "-------------------------------------------------------------------------------------------------------\n",
       "  Body   Face  Fidelity Intelligence Kindness Senseofhumor Sensitivity Sexualskill Sharedvalues  Wealth\n",
       "-------------------------------------------------------------------------------------------------------\n",
       " 2.5289 1.7712   0.5645       0.3147   0.2417       0.1044      0.0523      0.0349      -0.1514 -0.6084\n",
       "-------------------------------------------------------------------------------------------------------\n",
       "                                                                                                       \n",
       "-------------------------------------------------------------------------------------------------------\n",
       "                                Communality                                                            \n",
       "-------------------------------------------------------------------------------------------------------\n",
       "   Body   Face  Fidelity Intelligence Kindness Senseofhumor Sensitivity Sexualskill Sharedvalues Wealth\n",
       "-------------------------------------------------------------------------------------------------------\n",
       "  0.8045 0.6753   0.0808       0.2090   0.3182       0.1404      0.4375      0.3434       0.1610 1.6946\n",
       "-------------------------------------------------------------------------------------------------------\n",
       "                                                                                                       \n",
       "-------------------------------------------------------------------------------------------------------\n",
       "                             Pre-rotated loadings                                                      \n",
       "---------------------------------------------------------------------------------------------------------------------------------------\n",
       "                                             factor 0                                 factor 1                                 factor 2\n",
       "---------------------------------------------------------------------------------------------------------------------------------------\n",
       "Body                                           0.8208                                  -0.2728                                  -0.2374\n",
       "Face                                           0.7822                                  -0.2331                                  -0.0958\n",
       "Fidelity                                      -0.2005                                  -0.1035                                  -0.1728\n",
       "Intelligence                                  -0.3534                                   0.0644                                   0.2827\n",
       "Kindness                                      -0.5193                                  -0.1472                                  -0.1639\n",
       "Senseofhumor                                  -0.1741                                   0.0063                                   0.3318\n",
       "Sensitivity                                   -0.5195                                   0.0166                                  -0.4091\n",
       "Sexualskill                                    0.5212                                  -0.0130                                   0.2676\n",
       "Sharedvalues                                  -0.3997                                   0.0086                                   0.0342\n",
       "Wealth                                         0.2776                                   1.2670                                  -0.1100\n",
       "-------------------------------------------------------------------------------------------------------\n",
       "                                                                                                       \n",
       "=======================================================================================================\n",
       "\n",
       "\"\"\""
      ]
     },
     "execution_count": 196,
     "metadata": {},
     "output_type": "execute_result"
    }
   ],
   "source": [
    "factor_res.summary()"
   ]
  },
  {
   "cell_type": "markdown",
   "id": "be73b04c",
   "metadata": {},
   "source": [
    "* Looks like probably a 2 factor model is warranted from the data but can use 3 as here\n",
    "\n",
    "* Can get the loadings of traits on each factor"
   ]
  },
  {
   "cell_type": "code",
   "execution_count": 198,
   "id": "163df5a3",
   "metadata": {},
   "outputs": [
    {
     "data": {
      "text/html": [
       "<style type=\"text/css\">\n",
       "#T_bde77_row0_col0, #T_bde77_row1_col0, #T_bde77_row2_col0, #T_bde77_row3_col0, #T_bde77_row4_col0, #T_bde77_row5_col0, #T_bde77_row6_col0, #T_bde77_row8_col1, #T_bde77_row9_col2 {\n",
       "  color: black;\n",
       "  background-color: yellow;\n",
       "}\n",
       "#T_bde77_row0_col1, #T_bde77_row0_col2, #T_bde77_row1_col1, #T_bde77_row1_col2, #T_bde77_row2_col1, #T_bde77_row2_col2, #T_bde77_row3_col1, #T_bde77_row4_col1, #T_bde77_row4_col2, #T_bde77_row5_col1, #T_bde77_row5_col2, #T_bde77_row6_col1, #T_bde77_row6_col2, #T_bde77_row7_col1, #T_bde77_row7_col2, #T_bde77_row8_col0, #T_bde77_row8_col2, #T_bde77_row9_col0, #T_bde77_row9_col1 {\n",
       "  color: white;\n",
       "}\n",
       "#T_bde77_row3_col2 {\n",
       "  color: black;\n",
       "}\n",
       "#T_bde77_row7_col0 {\n",
       "  color: white;\n",
       "  background-color: yellow;\n",
       "}\n",
       "</style>\n",
       "<table id=\"T_bde77_\">\n",
       "  <thead>\n",
       "    <tr>\n",
       "      <th class=\"blank level0\" >&nbsp;</th>\n",
       "      <th class=\"col_heading level0 col0\" >factor 0</th>\n",
       "      <th class=\"col_heading level0 col1\" >factor 1</th>\n",
       "      <th class=\"col_heading level0 col2\" >factor 2</th>\n",
       "    </tr>\n",
       "  </thead>\n",
       "  <tbody>\n",
       "    <tr>\n",
       "      <th id=\"T_bde77_level0_row0\" class=\"row_heading level0 row0\" >Body</th>\n",
       "      <td id=\"T_bde77_row0_col0\" class=\"data row0 col0\" >0.820822</td>\n",
       "      <td id=\"T_bde77_row0_col1\" class=\"data row0 col1\" >-0.272826</td>\n",
       "      <td id=\"T_bde77_row0_col2\" class=\"data row0 col2\" >-0.237359</td>\n",
       "    </tr>\n",
       "    <tr>\n",
       "      <th id=\"T_bde77_level0_row1\" class=\"row_heading level0 row1\" >Face</th>\n",
       "      <td id=\"T_bde77_row1_col0\" class=\"data row1 col0\" >0.782159</td>\n",
       "      <td id=\"T_bde77_row1_col1\" class=\"data row1 col1\" >-0.233119</td>\n",
       "      <td id=\"T_bde77_row1_col2\" class=\"data row1 col2\" >-0.095849</td>\n",
       "    </tr>\n",
       "    <tr>\n",
       "      <th id=\"T_bde77_level0_row2\" class=\"row_heading level0 row2\" >Sexualskill</th>\n",
       "      <td id=\"T_bde77_row2_col0\" class=\"data row2 col0\" >0.521158</td>\n",
       "      <td id=\"T_bde77_row2_col1\" class=\"data row2 col1\" >-0.013042</td>\n",
       "      <td id=\"T_bde77_row2_col2\" class=\"data row2 col2\" >0.267577</td>\n",
       "    </tr>\n",
       "    <tr>\n",
       "      <th id=\"T_bde77_level0_row3\" class=\"row_heading level0 row3\" >Sensitivity</th>\n",
       "      <td id=\"T_bde77_row3_col0\" class=\"data row3 col0\" >-0.519511</td>\n",
       "      <td id=\"T_bde77_row3_col1\" class=\"data row3 col1\" >0.016556</td>\n",
       "      <td id=\"T_bde77_row3_col2\" class=\"data row3 col2\" >-0.409068</td>\n",
       "    </tr>\n",
       "    <tr>\n",
       "      <th id=\"T_bde77_level0_row4\" class=\"row_heading level0 row4\" >Kindness</th>\n",
       "      <td id=\"T_bde77_row4_col0\" class=\"data row4 col0\" >-0.519304</td>\n",
       "      <td id=\"T_bde77_row4_col1\" class=\"data row4 col1\" >-0.147179</td>\n",
       "      <td id=\"T_bde77_row4_col2\" class=\"data row4 col2\" >-0.163868</td>\n",
       "    </tr>\n",
       "    <tr>\n",
       "      <th id=\"T_bde77_level0_row5\" class=\"row_heading level0 row5\" >Sharedvalues</th>\n",
       "      <td id=\"T_bde77_row5_col0\" class=\"data row5 col0\" >-0.399706</td>\n",
       "      <td id=\"T_bde77_row5_col1\" class=\"data row5 col1\" >0.008563</td>\n",
       "      <td id=\"T_bde77_row5_col2\" class=\"data row5 col2\" >0.034185</td>\n",
       "    </tr>\n",
       "    <tr>\n",
       "      <th id=\"T_bde77_level0_row6\" class=\"row_heading level0 row6\" >Intelligence</th>\n",
       "      <td id=\"T_bde77_row6_col0\" class=\"data row6 col0\" >-0.353389</td>\n",
       "      <td id=\"T_bde77_row6_col1\" class=\"data row6 col1\" >0.064436</td>\n",
       "      <td id=\"T_bde77_row6_col2\" class=\"data row6 col2\" >0.282726</td>\n",
       "    </tr>\n",
       "    <tr>\n",
       "      <th id=\"T_bde77_level0_row7\" class=\"row_heading level0 row7\" >Fidelity</th>\n",
       "      <td id=\"T_bde77_row7_col0\" class=\"data row7 col0\" >-0.200471</td>\n",
       "      <td id=\"T_bde77_row7_col1\" class=\"data row7 col1\" >-0.103515</td>\n",
       "      <td id=\"T_bde77_row7_col2\" class=\"data row7 col2\" >-0.172779</td>\n",
       "    </tr>\n",
       "    <tr>\n",
       "      <th id=\"T_bde77_level0_row8\" class=\"row_heading level0 row8\" >Wealth</th>\n",
       "      <td id=\"T_bde77_row8_col0\" class=\"data row8 col0\" >0.277641</td>\n",
       "      <td id=\"T_bde77_row8_col1\" class=\"data row8 col1\" >1.267026</td>\n",
       "      <td id=\"T_bde77_row8_col2\" class=\"data row8 col2\" >-0.110048</td>\n",
       "    </tr>\n",
       "    <tr>\n",
       "      <th id=\"T_bde77_level0_row9\" class=\"row_heading level0 row9\" >Senseofhumor</th>\n",
       "      <td id=\"T_bde77_row9_col0\" class=\"data row9 col0\" >-0.174112</td>\n",
       "      <td id=\"T_bde77_row9_col1\" class=\"data row9 col1\" >0.006273</td>\n",
       "      <td id=\"T_bde77_row9_col2\" class=\"data row9 col2\" >0.331804</td>\n",
       "    </tr>\n",
       "  </tbody>\n",
       "</table>\n"
      ],
      "text/plain": [
       "<pandas.io.formats.style.Styler at 0x7f230952c8e0>"
      ]
     },
     "execution_count": 198,
     "metadata": {},
     "output_type": "execute_result"
    }
   ],
   "source": [
    "factor_res.get_loadings_frame()"
   ]
  },
  {
   "cell_type": "markdown",
   "id": "5a49a061",
   "metadata": {},
   "source": [
    "* Factor 1 is positively weighted for physical attributes and sexual skills vs personality characteristics\n",
    "\n",
    "* Factor 2 is wealth\n",
    "\n",
    "* Factor 3 sense of humor\n",
    "\n",
    "\n",
    "From these you can then score the responses and a factor score could be used to look for associations with demographics or other measures in the data"
   ]
  },
  {
   "cell_type": "code",
   "execution_count": 209,
   "id": "4d0ec402",
   "metadata": {},
   "outputs": [],
   "source": [
    "# get factor scores as data frame\n",
    "factor_score_df= pd.DataFrame(factor_res.factor_scoring(), \n",
    "                              columns=['F1_Physical', \n",
    "                                       'F2_Wealth',\n",
    "                                       'F3_Humor'])\n",
    "\n",
    "# combine with data\n",
    "data_clean2=pd.concat(\n",
    "    [data_clean, factor_score_df], axis=1)"
   ]
  },
  {
   "cell_type": "markdown",
   "id": "5a5cde33",
   "metadata": {},
   "source": [
    "* Then look at associations with the factors, e.g. by sex"
   ]
  },
  {
   "cell_type": "code",
   "execution_count": 214,
   "id": "7422621e",
   "metadata": {},
   "outputs": [
    {
     "data": {
      "text/plain": [
       "<AxesSubplot:xlabel='Sex', ylabel='F1_Physical'>"
      ]
     },
     "execution_count": 214,
     "metadata": {},
     "output_type": "execute_result"
    },
    {
     "data": {
      "image/png": "[encoded data removed]",
      "text/plain": [
       "<Figure size 432x288 with 1 Axes>"
      ]
     },
     "metadata": {
      "needs_background": "light"
     },
     "output_type": "display_data"
    }
   ],
   "source": [
    "sns.boxplot(x='Sex', y='F1_Physical', data=data_clean2, notch=True)"
   ]
  },
  {
   "cell_type": "code",
   "execution_count": 215,
   "id": "50dac74c",
   "metadata": {},
   "outputs": [
    {
     "data": {
      "text/plain": [
       "<AxesSubplot:xlabel='Sex', ylabel='F2_Wealth'>"
      ]
     },
     "execution_count": 215,
     "metadata": {},
     "output_type": "execute_result"
    },
    {
     "data": {
      "image/png": "[encoded data removed]",
      "text/plain": [
       "<Figure size 432x288 with 1 Axes>"
      ]
     },
     "metadata": {
      "needs_background": "light"
     },
     "output_type": "display_data"
    }
   ],
   "source": [
    "sns.boxplot(x='Sex', y='F2_Wealth', data=data_clean2, notch=True)"
   ]
  },
  {
   "cell_type": "code",
   "execution_count": 217,
   "id": "68c87c6c",
   "metadata": {},
   "outputs": [
    {
     "data": {
      "text/plain": [
       "<AxesSubplot:xlabel='Sex', ylabel='F3_Humor'>"
      ]
     },
     "execution_count": 217,
     "metadata": {},
     "output_type": "execute_result"
    },
    {
     "data": {
      "image/png": "[encoded data removed]",
      "text/plain": [
       "<Figure size 432x288 with 1 Axes>"
      ]
     },
     "metadata": {
      "needs_background": "light"
     },
     "output_type": "display_data"
    }
   ],
   "source": [
    "sns.boxplot(x='Sex', y='F3_Humor', data=data_clean2, notch=True)"
   ]
  },
  {
   "cell_type": "code",
   "execution_count": null,
   "id": "e25c9dca",
   "metadata": {},
   "outputs": [],
   "source": []
  }
 ],
 "metadata": {
  "kernelspec": {
   "display_name": "Python 3 (COMM318)",
   "language": "python",
   "name": "python3"
  },
  "language_info": {
   "codemirror_mode": {
    "name": "ipython",
    "version": 3
   },
   "file_extension": ".py",
   "mimetype": "text/x-python",
   "name": "python",
   "nbconvert_exporter": "python",
   "pygments_lexer": "ipython3",
   "version": "3.8.8"
  }
 },
 "nbformat": 4,
 "nbformat_minor": 5
}
