{
 "cells": [
  {
   "cell_type": "markdown",
   "id": "29f7b292",
   "metadata": {},
   "source": [
    "# Initial Analysis for The Ideal Partner Dataset"
   ]
  },
  {
   "cell_type": "markdown",
   "id": "d14f1392",
   "metadata": {},
   "source": [
    "This dataset was collected for the purpose of my PSYC 253, Judgement and Decisions, class. It is allowed to be distributed and analyzed. 203 responses were collected from respondents from different demographics.\n",
    "\n",
    "Survey respondents were asked to:\n",
    "\n",
    "<blockquote>\n",
    "\"Imagine that this is 2434 and (for a price) you could design your ideal man/woman. You would begin by reviewing a list of traits  (like the ones enumerated below), then decide which traits  matter to you  a lot and which  traits matter far less or not at all. \n",
    "Suppose further that you have only a finite mate design budget of $500, all of which  has  to be allocated among various mate-defining  traits in a manner that accurately reflects your desires and preferences at this point in time. \n",
    "Keeping all this in mind, please indicate how much you would be prepared to spend on each of the 10 traits listed below:<br/>\n",
    "\n",
    "$____Body\n",
    "\n",
    "$____Face\n",
    "\n",
    "$____Fidelity \n",
    "\n",
    "$____Intelligence\n",
    "\n",
    "$____Kindness\n",
    "\n",
    "$____Sense of humor\n",
    "\n",
    "$____Sensitivity\n",
    "\n",
    "$____Sexual skill\n",
    "\n",
    "$____Shared values\n",
    "\n",
    "$ ____Wealth\n",
    "</blockquote>"
   ]
  },
  {
   "cell_type": "code",
   "execution_count": 1,
   "id": "c0fac988",
   "metadata": {},
   "outputs": [],
   "source": [
    "import pandas as pd\n",
    "from IPython.display import HTML, Markdown, display\n",
    "import matplotlib.pyplot as plt\n",
    "import seaborn as sns\n",
    "import numpy as np\n",
    "import warnings\n",
    "warnings.filterwarnings('ignore')"
   ]
  },
  {
   "cell_type": "code",
   "execution_count": 2,
   "id": "d56c197a",
   "metadata": {},
   "outputs": [],
   "source": [
    "data = pd.read_csv('../data/Judy_PSYC_dataset.csv')"
   ]
  },
  {
   "cell_type": "markdown",
   "id": "1caadca0",
   "metadata": {},
   "source": [
    "## Dataframe examination\n",
    "\n",
    "`this_is_fixed_width.csv` - this file contains ..."
   ]
  },
  {
   "cell_type": "code",
   "execution_count": 3,
   "id": "79068f59",
   "metadata": {},
   "outputs": [
    {
     "data": {
      "text/plain": [
       "(203, 25)"
      ]
     },
     "execution_count": 3,
     "metadata": {},
     "output_type": "execute_result"
    }
   ],
   "source": [
    "data.shape"
   ]
  },
  {
   "cell_type": "markdown",
   "id": "35271226",
   "metadata": {},
   "source": [
    "The dataset has 203 rows and 25 columns."
   ]
  },
  {
   "cell_type": "code",
   "execution_count": 4,
   "id": "33679421",
   "metadata": {},
   "outputs": [
    {
     "data": {
      "text/html": [
       "<div>\n",
       "<style scoped>\n",
       "    .dataframe tbody tr th:only-of-type {\n",
       "        vertical-align: middle;\n",
       "    }\n",
       "\n",
       "    .dataframe tbody tr th {\n",
       "        vertical-align: top;\n",
       "    }\n",
       "\n",
       "    .dataframe thead th {\n",
       "        text-align: right;\n",
       "    }\n",
       "</style>\n",
       "<table border=\"1\" class=\"dataframe\">\n",
       "  <thead>\n",
       "    <tr style=\"text-align: right;\">\n",
       "      <th></th>\n",
       "      <th>Body</th>\n",
       "      <th>Face</th>\n",
       "      <th>Fidelity</th>\n",
       "      <th>Intelligence</th>\n",
       "      <th>Kindness</th>\n",
       "      <th>Senseofhumor</th>\n",
       "      <th>Sensitivity</th>\n",
       "      <th>Sexualskill</th>\n",
       "      <th>Sharedvalues</th>\n",
       "      <th>Wealth</th>\n",
       "      <th>...</th>\n",
       "      <th>Sex_Female_0_Male1</th>\n",
       "      <th>Age</th>\n",
       "      <th>Relationship_Yes1_No0</th>\n",
       "      <th>CRT1</th>\n",
       "      <th>CRT2</th>\n",
       "      <th>CRT3</th>\n",
       "      <th>CRT4</th>\n",
       "      <th>CRT5</th>\n",
       "      <th>CRT6</th>\n",
       "      <th>crttotal</th>\n",
       "    </tr>\n",
       "  </thead>\n",
       "  <tbody>\n",
       "    <tr>\n",
       "      <th>4</th>\n",
       "      <td>70</td>\n",
       "      <td>70</td>\n",
       "      <td>100</td>\n",
       "      <td>90</td>\n",
       "      <td>80</td>\n",
       "      <td>50</td>\n",
       "      <td>0</td>\n",
       "      <td>15</td>\n",
       "      <td>25</td>\n",
       "      <td>0</td>\n",
       "      <td>...</td>\n",
       "      <td>1</td>\n",
       "      <td>21</td>\n",
       "      <td>0</td>\n",
       "      <td>1</td>\n",
       "      <td>1</td>\n",
       "      <td>1</td>\n",
       "      <td>1</td>\n",
       "      <td>1</td>\n",
       "      <td>1.0</td>\n",
       "      <td>6.0</td>\n",
       "    </tr>\n",
       "    <tr>\n",
       "      <th>60</th>\n",
       "      <td>75</td>\n",
       "      <td>80</td>\n",
       "      <td>80</td>\n",
       "      <td>70</td>\n",
       "      <td>30</td>\n",
       "      <td>60</td>\n",
       "      <td>10</td>\n",
       "      <td>50</td>\n",
       "      <td>20</td>\n",
       "      <td>25</td>\n",
       "      <td>...</td>\n",
       "      <td>1</td>\n",
       "      <td>22</td>\n",
       "      <td>1</td>\n",
       "      <td>1</td>\n",
       "      <td>1</td>\n",
       "      <td>1</td>\n",
       "      <td>1</td>\n",
       "      <td>1</td>\n",
       "      <td>1.0</td>\n",
       "      <td>6.0</td>\n",
       "    </tr>\n",
       "    <tr>\n",
       "      <th>136</th>\n",
       "      <td>10</td>\n",
       "      <td>30</td>\n",
       "      <td>60</td>\n",
       "      <td>70</td>\n",
       "      <td>65</td>\n",
       "      <td>40</td>\n",
       "      <td>75</td>\n",
       "      <td>20</td>\n",
       "      <td>100</td>\n",
       "      <td>30</td>\n",
       "      <td>...</td>\n",
       "      <td>0</td>\n",
       "      <td>22</td>\n",
       "      <td>1</td>\n",
       "      <td>1</td>\n",
       "      <td>1</td>\n",
       "      <td>1</td>\n",
       "      <td>1</td>\n",
       "      <td>1</td>\n",
       "      <td>1.0</td>\n",
       "      <td>6.0</td>\n",
       "    </tr>\n",
       "    <tr>\n",
       "      <th>23</th>\n",
       "      <td>50</td>\n",
       "      <td>50</td>\n",
       "      <td>70</td>\n",
       "      <td>60</td>\n",
       "      <td>65</td>\n",
       "      <td>70</td>\n",
       "      <td>40</td>\n",
       "      <td>40</td>\n",
       "      <td>55</td>\n",
       "      <td>0</td>\n",
       "      <td>...</td>\n",
       "      <td>0</td>\n",
       "      <td>21</td>\n",
       "      <td>0</td>\n",
       "      <td>1</td>\n",
       "      <td>1</td>\n",
       "      <td>1</td>\n",
       "      <td>1</td>\n",
       "      <td>1</td>\n",
       "      <td>1.0</td>\n",
       "      <td>6.0</td>\n",
       "    </tr>\n",
       "    <tr>\n",
       "      <th>52</th>\n",
       "      <td>90</td>\n",
       "      <td>50</td>\n",
       "      <td>70</td>\n",
       "      <td>50</td>\n",
       "      <td>40</td>\n",
       "      <td>30</td>\n",
       "      <td>30</td>\n",
       "      <td>50</td>\n",
       "      <td>50</td>\n",
       "      <td>40</td>\n",
       "      <td>...</td>\n",
       "      <td>1</td>\n",
       "      <td>22</td>\n",
       "      <td>0</td>\n",
       "      <td>1</td>\n",
       "      <td>0</td>\n",
       "      <td>1</td>\n",
       "      <td>1</td>\n",
       "      <td>0</td>\n",
       "      <td>0.0</td>\n",
       "      <td>3.0</td>\n",
       "    </tr>\n",
       "  </tbody>\n",
       "</table>\n",
       "<p>5 rows × 25 columns</p>\n",
       "</div>"
      ],
      "text/plain": [
       "     Body  Face  Fidelity  Intelligence  Kindness  Senseofhumor  Sensitivity  \\\n",
       "4      70    70       100            90        80            50            0   \n",
       "60     75    80        80            70        30            60           10   \n",
       "136    10    30        60            70        65            40           75   \n",
       "23     50    50        70            60        65            70           40   \n",
       "52     90    50        70            50        40            30           30   \n",
       "\n",
       "     Sexualskill  Sharedvalues  Wealth  ...  Sex_Female_0_Male1  Age  \\\n",
       "4             15            25       0  ...                   1   21   \n",
       "60            50            20      25  ...                   1   22   \n",
       "136           20           100      30  ...                   0   22   \n",
       "23            40            55       0  ...                   0   21   \n",
       "52            50            50      40  ...                   1   22   \n",
       "\n",
       "     Relationship_Yes1_No0  CRT1  CRT2  CRT3  CRT4  CRT5  CRT6  crttotal  \n",
       "4                        0     1     1     1     1     1   1.0       6.0  \n",
       "60                       1     1     1     1     1     1   1.0       6.0  \n",
       "136                      1     1     1     1     1     1   1.0       6.0  \n",
       "23                       0     1     1     1     1     1   1.0       6.0  \n",
       "52                       0     1     0     1     1     0   0.0       3.0  \n",
       "\n",
       "[5 rows x 25 columns]"
      ]
     },
     "execution_count": 4,
     "metadata": {},
     "output_type": "execute_result"
    }
   ],
   "source": [
    "data.sample(5)"
   ]
  },
  {
   "cell_type": "markdown",
   "id": "db274834",
   "metadata": {},
   "source": [
    "Each row represents how much the respondent values attributes such as, body, face, fidelity, etc. The rows also contain demographic information such as sex and age."
   ]
  },
  {
   "cell_type": "code",
   "execution_count": 5,
   "id": "a67c48d3",
   "metadata": {},
   "outputs": [
    {
     "data": {
      "text/plain": [
       "Index(['Body', 'Face', 'Fidelity', 'Intelligence', 'Kindness', 'Senseofhumor',\n",
       "       'Sensitivity', 'Sexualskill', 'Sharedvalues', 'Wealth', 'sum',\n",
       "       'physicalattractiveness', 'socialattractiveness', 'sexpartners',\n",
       "       'politicalorientation_1extremelyliberal_7extremelyconservative',\n",
       "       'Sex_Female_0_Male1', 'Age', 'Relationship_Yes1_No0', 'CRT1', 'CRT2',\n",
       "       'CRT3', 'CRT4', 'CRT5', 'CRT6', 'crttotal'],\n",
       "      dtype='object')"
      ]
     },
     "execution_count": 5,
     "metadata": {},
     "output_type": "execute_result"
    }
   ],
   "source": [
    "data.columns"
   ]
  },
  {
   "cell_type": "markdown",
   "id": "f93ab287",
   "metadata": {},
   "source": [
    "The columns represent the attributes listed out in the survey conducted, demographic information, political orientation, whether the respondent is currently in a relationship, as well as how much the respondents scored on 6 questions on the Cognitive Reflection Test to evaluate if the respondents use system 1 or system 2 thinking more when answering questions."
   ]
  },
  {
   "cell_type": "markdown",
   "id": "22a62db8",
   "metadata": {},
   "source": [
    "All of the variables are assigned importances in the form of $ amount values from 0 to 500. 0 being unimportant and 500 being extremely important.\n",
    "* Body - importance of body attractiveness in selecting partner (scale 0-500)\n",
    "* Face - importance of face attractiveness in selecting partner (scale 0-500)\n",
    "* Fidelity - importance of loyalty in selecting partner (scale 0-500)\n",
    "* Intelligence - importance of intelligence in selecting partner (scale 0-500)\n",
    "* Kindness - importance of kindness in selecting partner (scale 0-500)\n",
    "* Sense of humor - importance of sense of humor in selecting partner (scale 0-500)\n",
    "* Sensitivity - importance of sensitivity in selecting partner (scale 0-500)\n",
    "* Sexualskill - importance of sexual skill in selecting partner (scale 0-500)\n",
    "* Sharedvalues - importance of shared values in selecting partner (scale 0-500)\n",
    "* Wealth - importance of wealth in selecting partner (scale 0-500)"
   ]
  },
  {
   "cell_type": "markdown",
   "id": "9ecbec68",
   "metadata": {},
   "source": [
    "## Data Cleaning"
   ]
  },
  {
   "cell_type": "markdown",
   "id": "ce1698e6",
   "metadata": {},
   "source": [
    "This dataset was the survey results of a study conducted by a Penn professor, so it does not require extensive cleaning. However, I did notice that for one of the survey questions, which is \"How many sex partners would you ideally like to have over a lifetime?\" one of the resonses was \"1000,' which is a statistical outlier for the rest of the responses. For the purpose of calculation the spread of responses to this question, I am removing this 1000 outlier. Also, because 1000 does not make too much sense realistically."
   ]
  },
  {
   "cell_type": "code",
   "execution_count": 38,
   "id": "1bf0fff3",
   "metadata": {},
   "outputs": [
    {
     "data": {
      "text/plain": [
       "array([500])"
      ]
     },
     "execution_count": 38,
     "metadata": {},
     "output_type": "execute_result"
    }
   ],
   "source": [
    "data.iloc[:,:10].sum(axis=1).unique()"
   ]
  },
  {
   "cell_type": "code",
   "execution_count": 6,
   "id": "a0700a50",
   "metadata": {},
   "outputs": [],
   "source": [
    "data_filter = data[\"sexpartners\"] == 1000"
   ]
  },
  {
   "cell_type": "code",
   "execution_count": 7,
   "id": "5747f1af",
   "metadata": {},
   "outputs": [],
   "source": [
    "data_clean = data[-data_filter]"
   ]
  },
  {
   "cell_type": "code",
   "execution_count": 8,
   "id": "2157937d",
   "metadata": {},
   "outputs": [
    {
     "data": {
      "text/plain": [
       "(202, 25)"
      ]
     },
     "execution_count": 8,
     "metadata": {},
     "output_type": "execute_result"
    }
   ],
   "source": [
    "data_clean.shape"
   ]
  },
  {
   "cell_type": "markdown",
   "id": "15a699ab",
   "metadata": {},
   "source": [
    "## Data Exploration"
   ]
  },
  {
   "cell_type": "code",
   "execution_count": 9,
   "id": "121ced48",
   "metadata": {},
   "outputs": [
    {
     "data": {
      "text/plain": [
       "<AxesSubplot:>"
      ]
     },
     "execution_count": 9,
     "metadata": {},
     "output_type": "execute_result"
    },
    {
     "data": {
      "image/png": "[encoded data removed]",
      "text/plain": [
       "<Figure size 432x288 with 1 Axes>"
      ]
     },
     "metadata": {
      "needs_background": "light"
     },
     "output_type": "display_data"
    }
   ],
   "source": [
    "data_clean[\"Body\"].hist()"
   ]
  },
  {
   "cell_type": "code",
   "execution_count": 10,
   "id": "a38dad47",
   "metadata": {},
   "outputs": [
    {
     "data": {
      "text/plain": [
       "count    202.000000\n",
       "mean      49.950495\n",
       "std       22.195368\n",
       "min        0.000000\n",
       "25%       30.000000\n",
       "50%       50.000000\n",
       "75%       68.750000\n",
       "max      100.000000\n",
       "Name: Body, dtype: float64"
      ]
     },
     "execution_count": 10,
     "metadata": {},
     "output_type": "execute_result"
    }
   ],
   "source": [
    "data_clean[\"Body\"].describe()"
   ]
  },
  {
   "cell_type": "markdown",
   "id": "e12c6ab3",
   "metadata": {},
   "source": [
    "There is a relatively normal distribution over people's placed importance on their partner's body. This demonstrates that the respondents to this survey have a diversified view on their placed importance of their partner's body attractiveness."
   ]
  },
  {
   "cell_type": "code",
   "execution_count": 11,
   "id": "766bdd01",
   "metadata": {},
   "outputs": [
    {
     "data": {
      "text/plain": [
       "<AxesSubplot:>"
      ]
     },
     "execution_count": 11,
     "metadata": {},
     "output_type": "execute_result"
    },
    {
     "data": {
      "image/png": "[encoded data removed]",
      "text/plain": [
       "<Figure size 432x288 with 1 Axes>"
      ]
     },
     "metadata": {
      "needs_background": "light"
     },
     "output_type": "display_data"
    }
   ],
   "source": [
    "data_clean[\"Fidelity\"].hist()"
   ]
  },
  {
   "cell_type": "markdown",
   "id": "5a8a9f79",
   "metadata": {},
   "source": [
    "The distribution of people's placed importance on their partner's fidelty skews to the right, meaning that the majority of people care a lot of fidelity (>$50)."
   ]
  },
  {
   "cell_type": "code",
   "execution_count": 12,
   "id": "faa1ce9f",
   "metadata": {},
   "outputs": [
    {
     "data": {
      "text/plain": [
       "count    202.000000\n",
       "mean      62.490099\n",
       "std       21.960217\n",
       "min        0.000000\n",
       "25%       50.000000\n",
       "50%       60.000000\n",
       "75%       75.000000\n",
       "max      100.000000\n",
       "Name: Fidelity, dtype: float64"
      ]
     },
     "execution_count": 12,
     "metadata": {},
     "output_type": "execute_result"
    }
   ],
   "source": [
    "data_clean[\"Fidelity\"].describe()"
   ]
  },
  {
   "cell_type": "code",
   "execution_count": 13,
   "id": "80b224a7",
   "metadata": {},
   "outputs": [
    {
     "data": {
      "text/plain": [
       "<AxesSubplot:>"
      ]
     },
     "execution_count": 13,
     "metadata": {},
     "output_type": "execute_result"
    },
    {
     "data": {
      "image/png": "[encoded data removed]",
      "text/plain": [
       "<Figure size 432x288 with 1 Axes>"
      ]
     },
     "metadata": {
      "needs_background": "light"
     },
     "output_type": "display_data"
    }
   ],
   "source": [
    "data_clean[\"Intelligence\"].hist()"
   ]
  },
  {
   "cell_type": "code",
   "execution_count": 14,
   "id": "5e70cbeb",
   "metadata": {},
   "outputs": [
    {
     "data": {
      "text/plain": [
       "<AxesSubplot:>"
      ]
     },
     "execution_count": 14,
     "metadata": {},
     "output_type": "execute_result"
    },
    {
     "data": {
      "image/png": "[encoded data removed]",
      "text/plain": [
       "<Figure size 432x288 with 1 Axes>"
      ]
     },
     "metadata": {
      "needs_background": "light"
     },
     "output_type": "display_data"
    }
   ],
   "source": [
    "data_clean[\"sexpartners\"].hist()"
   ]
  },
  {
   "cell_type": "code",
   "execution_count": 15,
   "id": "07dbdd74",
   "metadata": {},
   "outputs": [
    {
     "data": {
      "text/plain": [
       "<AxesSubplot:>"
      ]
     },
     "execution_count": 15,
     "metadata": {},
     "output_type": "execute_result"
    },
    {
     "data": {
      "image/png": "[encoded data removed]",
      "text/plain": [
       "<Figure size 432x288 with 1 Axes>"
      ]
     },
     "metadata": {
      "needs_background": "light"
     },
     "output_type": "display_data"
    }
   ],
   "source": [
    "data_clean[\"Senseofhumor\"].hist()"
   ]
  },
  {
   "cell_type": "code",
   "execution_count": 16,
   "id": "0560cafe",
   "metadata": {},
   "outputs": [
    {
     "data": {
      "text/plain": [
       "<AxesSubplot:>"
      ]
     },
     "execution_count": 16,
     "metadata": {},
     "output_type": "execute_result"
    },
    {
     "data": {
      "image/png": "[encoded data removed]",
      "text/plain": [
       "<Figure size 432x288 with 1 Axes>"
      ]
     },
     "metadata": {
      "needs_background": "light"
     },
     "output_type": "display_data"
    }
   ],
   "source": [
    "data_clean[\"politicalorientation_1extremelyliberal_7extremelyconservative\"].hist()"
   ]
  },
  {
   "cell_type": "markdown",
   "id": "c8cb34b3",
   "metadata": {},
   "source": [
    "This dataset leans liberal on the political orientation spectrum."
   ]
  },
  {
   "cell_type": "code",
   "execution_count": 17,
   "id": "74ad115a",
   "metadata": {},
   "outputs": [],
   "source": [
    "data_clean.rename(columns={'Sex_Female_0_Male1': 'Sex'}, inplace=True)"
   ]
  },
  {
   "cell_type": "code",
   "execution_count": 18,
   "id": "81e78461",
   "metadata": {},
   "outputs": [
    {
     "data": {
      "text/plain": [
       "<AxesSubplot:>"
      ]
     },
     "execution_count": 18,
     "metadata": {},
     "output_type": "execute_result"
    },
    {
     "data": {
      "image/png": "[encoded data removed]",
      "text/plain": [
       "<Figure size 432x288 with 1 Axes>"
      ]
     },
     "metadata": {
      "needs_background": "light"
     },
     "output_type": "display_data"
    }
   ],
   "source": [
    "data_clean[\"Sex\"].hist()"
   ]
  },
  {
   "cell_type": "markdown",
   "id": "e8bf11d2",
   "metadata": {},
   "source": [
    "There is more females in the study than males."
   ]
  },
  {
   "cell_type": "code",
   "execution_count": 19,
   "id": "36dcb998",
   "metadata": {},
   "outputs": [],
   "source": [
    "data_clean['Sex']=data_clean['Sex'].map({0: 'female',\n",
    "                                      1: 'male'})"
   ]
  },
  {
   "cell_type": "code",
   "execution_count": 20,
   "id": "15f0185c",
   "metadata": {},
   "outputs": [
    {
     "data": {
      "text/plain": [
       "<AxesSubplot:>"
      ]
     },
     "execution_count": 20,
     "metadata": {},
     "output_type": "execute_result"
    },
    {
     "data": {
      "image/png": "[encoded data removed]",
      "text/plain": [
       "<Figure size 432x288 with 1 Axes>"
      ]
     },
     "metadata": {
      "needs_background": "light"
     },
     "output_type": "display_data"
    }
   ],
   "source": [
    "data_clean[\"Sex\"].hist()"
   ]
  },
  {
   "cell_type": "code",
   "execution_count": 21,
   "id": "15b59980",
   "metadata": {},
   "outputs": [],
   "source": [
    "data_clean.rename(columns={'Relationship_Yes1_No0': 'Relationship'}, inplace=True)"
   ]
  },
  {
   "cell_type": "code",
   "execution_count": 22,
   "id": "a39bcd3c",
   "metadata": {},
   "outputs": [],
   "source": [
    "data_clean['Relationship']=data_clean['Relationship'].map({0: 'Not in a relationship',\n",
    "                                      1: 'In a relationship'})"
   ]
  },
  {
   "cell_type": "code",
   "execution_count": 23,
   "id": "a1490681",
   "metadata": {},
   "outputs": [
    {
     "data": {
      "text/plain": [
       "<AxesSubplot:>"
      ]
     },
     "execution_count": 23,
     "metadata": {},
     "output_type": "execute_result"
    },
    {
     "data": {
      "image/png": "[encoded data removed]",
      "text/plain": [
       "<Figure size 432x288 with 1 Axes>"
      ]
     },
     "metadata": {
      "needs_background": "light"
     },
     "output_type": "display_data"
    }
   ],
   "source": [
    "data_clean[\"Relationship\"].hist()"
   ]
  },
  {
   "cell_type": "markdown",
   "id": "1f565774",
   "metadata": {},
   "source": [
    "There is more people not in relationships in the study than ones who are in the relationship."
   ]
  },
  {
   "cell_type": "code",
   "execution_count": 24,
   "id": "d6e22b86",
   "metadata": {},
   "outputs": [
    {
     "data": {
      "text/plain": [
       "21.787128712871286"
      ]
     },
     "execution_count": 24,
     "metadata": {},
     "output_type": "execute_result"
    }
   ],
   "source": [
    "data_clean[\"Age\"].mean()"
   ]
  },
  {
   "cell_type": "code",
   "execution_count": 25,
   "id": "38f793ee",
   "metadata": {},
   "outputs": [
    {
     "data": {
      "text/plain": [
       "51"
      ]
     },
     "execution_count": 25,
     "metadata": {},
     "output_type": "execute_result"
    }
   ],
   "source": [
    "data_clean[\"Age\"].max()"
   ]
  },
  {
   "cell_type": "code",
   "execution_count": 26,
   "id": "58588c72",
   "metadata": {},
   "outputs": [
    {
     "data": {
      "text/plain": [
       "17"
      ]
     },
     "execution_count": 26,
     "metadata": {},
     "output_type": "execute_result"
    }
   ],
   "source": [
    "data_clean[\"Age\"].min()"
   ]
  },
  {
   "cell_type": "code",
   "execution_count": 27,
   "id": "518bba97",
   "metadata": {},
   "outputs": [
    {
     "data": {
      "text/plain": [
       "<AxesSubplot:>"
      ]
     },
     "execution_count": 27,
     "metadata": {},
     "output_type": "execute_result"
    },
    {
     "data": {
      "image/png": "[encoded data removed]",
      "text/plain": [
       "<Figure size 432x288 with 1 Axes>"
      ]
     },
     "metadata": {
      "needs_background": "light"
     },
     "output_type": "display_data"
    }
   ],
   "source": [
    "# note data is skewed - what do you think re. matching these data to \n",
    "# those in PEW by age range\n",
    "# any relationships using age as a continuous value are likely to be problematic\n",
    "data_clean[\"Age\"].hist()"
   ]
  },
  {
   "cell_type": "markdown",
   "id": "d1bfdcef",
   "metadata": {},
   "source": [
    "The respondents to the survey have a mean age of 21 years old. The youngest is 17 years old and the oldest is 51 years old."
   ]
  },
  {
   "cell_type": "markdown",
   "id": "20ba6fdc",
   "metadata": {},
   "source": [
    "### Drop age above 30"
   ]
  },
  {
   "cell_type": "code",
   "execution_count": 28,
   "id": "b85a372a",
   "metadata": {},
   "outputs": [],
   "source": [
    "age_above_30 = data_clean['Age']>30\n",
    "data_clean = data_clean[-age_above_30]"
   ]
  },
  {
   "cell_type": "code",
   "execution_count": 29,
   "id": "b07a4345",
   "metadata": {},
   "outputs": [
    {
     "data": {
      "text/plain": [
       "(203, 25)"
      ]
     },
     "execution_count": 29,
     "metadata": {},
     "output_type": "execute_result"
    }
   ],
   "source": [
    "data.shape"
   ]
  },
  {
   "cell_type": "code",
   "execution_count": 30,
   "id": "2932a04a",
   "metadata": {},
   "outputs": [
    {
     "data": {
      "text/plain": [
       "(193, 25)"
      ]
     },
     "execution_count": 30,
     "metadata": {},
     "output_type": "execute_result"
    }
   ],
   "source": [
    "data_clean.shape"
   ]
  },
  {
   "cell_type": "markdown",
   "id": "898172b2",
   "metadata": {},
   "source": [
    "### Save cleaned data to a csv file"
   ]
  },
  {
   "cell_type": "code",
   "execution_count": 31,
   "id": "a8fba5a6",
   "metadata": {},
   "outputs": [],
   "source": [
    "data_clean.to_csv('../data/Judy_PSYC_dataset_clean.csv', index=False)"
   ]
  }
 ],
 "metadata": {
  "kernelspec": {
   "display_name": "Python 3 (COMM318)",
   "language": "python",
   "name": "python3"
  },
  "language_info": {
   "codemirror_mode": {
    "name": "ipython",
    "version": 3
   },
   "file_extension": ".py",
   "mimetype": "text/x-python",
   "name": "python",
   "nbconvert_exporter": "python",
   "pygments_lexer": "ipython3",
   "version": "3.8.8"
  }
 },
 "nbformat": 4,
 "nbformat_minor": 5
}
