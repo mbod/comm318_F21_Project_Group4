{
 "cells": [
  {
   "cell_type": "code",
   "execution_count": 1,
   "id": "62276d31",
   "metadata": {},
   "outputs": [],
   "source": [
    "import pandas as pd\n",
    "from IPython.display import HTML, Markdown, display\n",
    "import matplotlib.pyplot as plt\n",
    "import seaborn as sns\n",
    "import numpy as np"
   ]
  },
  {
   "cell_type": "code",
   "execution_count": 4,
   "id": "301d78b7",
   "metadata": {},
   "outputs": [],
   "source": [
    "cleandating_df = pd.read_csv('../data/Clean Data/Mason_Clean_Teen_Dating.csv')"
   ]
  },
  {
   "cell_type": "code",
   "execution_count": 5,
   "id": "996f70c7",
   "metadata": {},
   "outputs": [
    {
     "data": {
      "text/html": [
       "<div>\n",
       "<style scoped>\n",
       "    .dataframe tbody tr th:only-of-type {\n",
       "        vertical-align: middle;\n",
       "    }\n",
       "\n",
       "    .dataframe tbody tr th {\n",
       "        vertical-align: top;\n",
       "    }\n",
       "\n",
       "    .dataframe thead th {\n",
       "        text-align: right;\n",
       "    }\n",
       "</style>\n",
       "<table border=\"1\" class=\"dataframe\">\n",
       "  <thead>\n",
       "    <tr style=\"text-align: right;\">\n",
       "      <th></th>\n",
       "      <th>CaseID</th>\n",
       "      <th>hear_frequency</th>\n",
       "      <th>hear_from_you_frequency</th>\n",
       "      <th>sm_feel_connected</th>\n",
       "      <th>sm_feel_closer</th>\n",
       "      <th>sm_feel_jealous</th>\n",
       "      <th>sm_show_care</th>\n",
       "      <th>sm_different</th>\n",
       "      <th>sm_authentic</th>\n",
       "      <th>sm_escape</th>\n",
       "      <th>...</th>\n",
       "      <th>blocked_ex_text</th>\n",
       "      <th>sig_other_checked_internet</th>\n",
       "      <th>sig_other_read_texts</th>\n",
       "      <th>sig_other_remove_ex</th>\n",
       "      <th>sig_other_put_down</th>\n",
       "      <th>sig_other_demand_pw</th>\n",
       "      <th>sig_other_harass_internet</th>\n",
       "      <th>sig_other_internet_sexually</th>\n",
       "      <th>sig_other_rumors_internet</th>\n",
       "      <th>sig_other_threaten_internet</th>\n",
       "    </tr>\n",
       "  </thead>\n",
       "  <tbody>\n",
       "    <tr>\n",
       "      <th>0</th>\n",
       "      <td>5</td>\n",
       "      <td>4</td>\n",
       "      <td>2</td>\n",
       "      <td>2</td>\n",
       "      <td>3</td>\n",
       "      <td>3</td>\n",
       "      <td>3</td>\n",
       "      <td>2</td>\n",
       "      <td>3</td>\n",
       "      <td>2</td>\n",
       "      <td>...</td>\n",
       "      <td>2</td>\n",
       "      <td>3</td>\n",
       "      <td>2</td>\n",
       "      <td>3</td>\n",
       "      <td>3</td>\n",
       "      <td>3</td>\n",
       "      <td>3</td>\n",
       "      <td>3</td>\n",
       "      <td>3</td>\n",
       "      <td>3</td>\n",
       "    </tr>\n",
       "    <tr>\n",
       "      <th>1</th>\n",
       "      <td>9</td>\n",
       "      <td></td>\n",
       "      <td></td>\n",
       "      <td></td>\n",
       "      <td></td>\n",
       "      <td></td>\n",
       "      <td></td>\n",
       "      <td></td>\n",
       "      <td></td>\n",
       "      <td></td>\n",
       "      <td>...</td>\n",
       "      <td></td>\n",
       "      <td></td>\n",
       "      <td></td>\n",
       "      <td></td>\n",
       "      <td></td>\n",
       "      <td></td>\n",
       "      <td></td>\n",
       "      <td></td>\n",
       "      <td></td>\n",
       "      <td></td>\n",
       "    </tr>\n",
       "    <tr>\n",
       "      <th>2</th>\n",
       "      <td>10</td>\n",
       "      <td>NaN</td>\n",
       "      <td>NaN</td>\n",
       "      <td>NaN</td>\n",
       "      <td>NaN</td>\n",
       "      <td>NaN</td>\n",
       "      <td>NaN</td>\n",
       "      <td>NaN</td>\n",
       "      <td>NaN</td>\n",
       "      <td>NaN</td>\n",
       "      <td>...</td>\n",
       "      <td>NaN</td>\n",
       "      <td>NaN</td>\n",
       "      <td>NaN</td>\n",
       "      <td>NaN</td>\n",
       "      <td>NaN</td>\n",
       "      <td>NaN</td>\n",
       "      <td>NaN</td>\n",
       "      <td>NaN</td>\n",
       "      <td>NaN</td>\n",
       "      <td>NaN</td>\n",
       "    </tr>\n",
       "    <tr>\n",
       "      <th>3</th>\n",
       "      <td>Pinterest</td>\n",
       "      <td>1</td>\n",
       "      <td>3</td>\n",
       "      <td>5</td>\n",
       "      <td>1</td>\n",
       "      <td>59</td>\n",
       "      <td>0</td>\n",
       "      <td>0</td>\n",
       "      <td>0</td>\n",
       "      <td>1</td>\n",
       "      <td>...</td>\n",
       "      <td>NaN</td>\n",
       "      <td>NaN</td>\n",
       "      <td>NaN</td>\n",
       "      <td>NaN</td>\n",
       "      <td>NaN</td>\n",
       "      <td>NaN</td>\n",
       "      <td>NaN</td>\n",
       "      <td>NaN</td>\n",
       "      <td>NaN</td>\n",
       "      <td>NaN</td>\n",
       "    </tr>\n",
       "    <tr>\n",
       "      <th>4</th>\n",
       "      <td>11</td>\n",
       "      <td></td>\n",
       "      <td></td>\n",
       "      <td></td>\n",
       "      <td></td>\n",
       "      <td></td>\n",
       "      <td></td>\n",
       "      <td></td>\n",
       "      <td></td>\n",
       "      <td></td>\n",
       "      <td>...</td>\n",
       "      <td></td>\n",
       "      <td></td>\n",
       "      <td></td>\n",
       "      <td></td>\n",
       "      <td></td>\n",
       "      <td></td>\n",
       "      <td></td>\n",
       "      <td></td>\n",
       "      <td></td>\n",
       "      <td></td>\n",
       "    </tr>\n",
       "    <tr>\n",
       "      <th>...</th>\n",
       "      <td>...</td>\n",
       "      <td>...</td>\n",
       "      <td>...</td>\n",
       "      <td>...</td>\n",
       "      <td>...</td>\n",
       "      <td>...</td>\n",
       "      <td>...</td>\n",
       "      <td>...</td>\n",
       "      <td>...</td>\n",
       "      <td>...</td>\n",
       "      <td>...</td>\n",
       "      <td>...</td>\n",
       "      <td>...</td>\n",
       "      <td>...</td>\n",
       "      <td>...</td>\n",
       "      <td>...</td>\n",
       "      <td>...</td>\n",
       "      <td>...</td>\n",
       "      <td>...</td>\n",
       "      <td>...</td>\n",
       "      <td>...</td>\n",
       "    </tr>\n",
       "    <tr>\n",
       "      <th>1637</th>\n",
       "      <td>2165</td>\n",
       "      <td></td>\n",
       "      <td></td>\n",
       "      <td></td>\n",
       "      <td></td>\n",
       "      <td></td>\n",
       "      <td></td>\n",
       "      <td></td>\n",
       "      <td></td>\n",
       "      <td></td>\n",
       "      <td>...</td>\n",
       "      <td></td>\n",
       "      <td></td>\n",
       "      <td></td>\n",
       "      <td></td>\n",
       "      <td></td>\n",
       "      <td></td>\n",
       "      <td></td>\n",
       "      <td></td>\n",
       "      <td></td>\n",
       "      <td></td>\n",
       "    </tr>\n",
       "    <tr>\n",
       "      <th>1638</th>\n",
       "      <td>2167</td>\n",
       "      <td></td>\n",
       "      <td></td>\n",
       "      <td></td>\n",
       "      <td></td>\n",
       "      <td></td>\n",
       "      <td></td>\n",
       "      <td></td>\n",
       "      <td></td>\n",
       "      <td></td>\n",
       "      <td>...</td>\n",
       "      <td></td>\n",
       "      <td></td>\n",
       "      <td></td>\n",
       "      <td></td>\n",
       "      <td></td>\n",
       "      <td></td>\n",
       "      <td></td>\n",
       "      <td></td>\n",
       "      <td></td>\n",
       "      <td></td>\n",
       "    </tr>\n",
       "    <tr>\n",
       "      <th>1639</th>\n",
       "      <td>2168</td>\n",
       "      <td>3</td>\n",
       "      <td>3</td>\n",
       "      <td>3</td>\n",
       "      <td>3</td>\n",
       "      <td>3</td>\n",
       "      <td>3</td>\n",
       "      <td>3</td>\n",
       "      <td>3</td>\n",
       "      <td>3</td>\n",
       "      <td>...</td>\n",
       "      <td>2</td>\n",
       "      <td>3</td>\n",
       "      <td>3</td>\n",
       "      <td>3</td>\n",
       "      <td>3</td>\n",
       "      <td>3</td>\n",
       "      <td>3</td>\n",
       "      <td>3</td>\n",
       "      <td>3</td>\n",
       "      <td>3</td>\n",
       "    </tr>\n",
       "    <tr>\n",
       "      <th>1640</th>\n",
       "      <td>2170</td>\n",
       "      <td></td>\n",
       "      <td></td>\n",
       "      <td></td>\n",
       "      <td></td>\n",
       "      <td></td>\n",
       "      <td></td>\n",
       "      <td></td>\n",
       "      <td></td>\n",
       "      <td></td>\n",
       "      <td>...</td>\n",
       "      <td></td>\n",
       "      <td></td>\n",
       "      <td></td>\n",
       "      <td></td>\n",
       "      <td></td>\n",
       "      <td></td>\n",
       "      <td></td>\n",
       "      <td></td>\n",
       "      <td></td>\n",
       "      <td></td>\n",
       "    </tr>\n",
       "    <tr>\n",
       "      <th>1641</th>\n",
       "      <td>2172</td>\n",
       "      <td></td>\n",
       "      <td></td>\n",
       "      <td></td>\n",
       "      <td></td>\n",
       "      <td></td>\n",
       "      <td></td>\n",
       "      <td></td>\n",
       "      <td></td>\n",
       "      <td></td>\n",
       "      <td>...</td>\n",
       "      <td></td>\n",
       "      <td></td>\n",
       "      <td></td>\n",
       "      <td></td>\n",
       "      <td></td>\n",
       "      <td></td>\n",
       "      <td></td>\n",
       "      <td></td>\n",
       "      <td></td>\n",
       "      <td></td>\n",
       "    </tr>\n",
       "  </tbody>\n",
       "</table>\n",
       "<p>1642 rows × 68 columns</p>\n",
       "</div>"
      ],
      "text/plain": [
       "         CaseID hear_frequency hear_from_you_frequency sm_feel_connected  \\\n",
       "0             5              4                       2                 2   \n",
       "1             9                                                            \n",
       "2            10            NaN                     NaN               NaN   \n",
       "3     Pinterest              1                       3                 5   \n",
       "4            11                                                            \n",
       "...         ...            ...                     ...               ...   \n",
       "1637       2165                                                            \n",
       "1638       2167                                                            \n",
       "1639       2168              3                       3                 3   \n",
       "1640       2170                                                            \n",
       "1641       2172                                                            \n",
       "\n",
       "     sm_feel_closer sm_feel_jealous sm_show_care sm_different sm_authentic  \\\n",
       "0                 3               3            3            2            3   \n",
       "1                                                                            \n",
       "2               NaN             NaN          NaN          NaN          NaN   \n",
       "3                 1              59            0            0            0   \n",
       "4                                                                            \n",
       "...             ...             ...          ...          ...          ...   \n",
       "1637                                                                         \n",
       "1638                                                                         \n",
       "1639              3               3            3            3            3   \n",
       "1640                                                                         \n",
       "1641                                                                         \n",
       "\n",
       "     sm_escape  ... blocked_ex_text sig_other_checked_internet  \\\n",
       "0            2  ...               2                          3   \n",
       "1               ...                                              \n",
       "2          NaN  ...             NaN                        NaN   \n",
       "3            1  ...             NaN                        NaN   \n",
       "4               ...                                              \n",
       "...        ...  ...             ...                        ...   \n",
       "1637            ...                                              \n",
       "1638            ...                                              \n",
       "1639         3  ...               2                          3   \n",
       "1640            ...                                              \n",
       "1641            ...                                              \n",
       "\n",
       "     sig_other_read_texts sig_other_remove_ex sig_other_put_down  \\\n",
       "0                       2                   3                  3   \n",
       "1                                                                  \n",
       "2                     NaN                 NaN                NaN   \n",
       "3                     NaN                 NaN                NaN   \n",
       "4                                                                  \n",
       "...                   ...                 ...                ...   \n",
       "1637                                                               \n",
       "1638                                                               \n",
       "1639                    3                   3                  3   \n",
       "1640                                                               \n",
       "1641                                                               \n",
       "\n",
       "     sig_other_demand_pw sig_other_harass_internet  \\\n",
       "0                      3                         3   \n",
       "1                                                    \n",
       "2                    NaN                       NaN   \n",
       "3                    NaN                       NaN   \n",
       "4                                                    \n",
       "...                  ...                       ...   \n",
       "1637                                                 \n",
       "1638                                                 \n",
       "1639                   3                         3   \n",
       "1640                                                 \n",
       "1641                                                 \n",
       "\n",
       "     sig_other_internet_sexually sig_other_rumors_internet  \\\n",
       "0                              3                         3   \n",
       "1                                                            \n",
       "2                            NaN                       NaN   \n",
       "3                            NaN                       NaN   \n",
       "4                                                            \n",
       "...                          ...                       ...   \n",
       "1637                                                         \n",
       "1638                                                         \n",
       "1639                           3                         3   \n",
       "1640                                                         \n",
       "1641                                                         \n",
       "\n",
       "     sig_other_threaten_internet  \n",
       "0                              3  \n",
       "1                                 \n",
       "2                            NaN  \n",
       "3                            NaN  \n",
       "4                                 \n",
       "...                          ...  \n",
       "1637                              \n",
       "1638                              \n",
       "1639                           3  \n",
       "1640                              \n",
       "1641                              \n",
       "\n",
       "[1642 rows x 68 columns]"
      ]
     },
     "execution_count": 5,
     "metadata": {},
     "output_type": "execute_result"
    }
   ],
   "source": [
    "cleandating_df"
   ]
  },
  {
   "cell_type": "markdown",
   "id": "d4bbe919",
   "metadata": {},
   "source": [
    "# Questions"
   ]
  },
  {
   "cell_type": "markdown",
   "id": "585ec1ac",
   "metadata": {},
   "source": [
    "There are three primary questions that I intend to answer by analyzing my subset of data. They are as follows:\n",
    "\n",
    "1. Does social media make people in relationships feel closer or more connected given that it allows for more frequent, easier forms of communication?\n",
    "2. Do people interpret social media as a legitimate representation of a partner's or ex-partner's lifestyle, and how does this interpretation impact those involved?\n",
    "3. Are people in relationships able to have meaningful interactions through texting/social media?"
   ]
  },
  {
   "cell_type": "markdown",
   "id": "2b4c0142",
   "metadata": {},
   "source": [
    "# Q1 Steps"
   ]
  },
  {
   "cell_type": "markdown",
   "id": "11327360",
   "metadata": {},
   "source": [
    "1. Create visuals (bar graphs) that compare how often people communicate via social media when they are in relationships, how often they expect to be communicating with their partner, and how much closer/connected the stakeholders feel as a result\n",
    "2. Analyze said visuals to determine whether or not there is a legitimate and beneficial correlation\n",
    "3. Draw conclusions"
   ]
  },
  {
   "cell_type": "markdown",
   "id": "852a9604",
   "metadata": {},
   "source": [
    "# Q1 Code"
   ]
  },
  {
   "cell_type": "code",
   "execution_count": 6,
   "id": "33480de7",
   "metadata": {},
   "outputs": [
    {
     "data": {
      "image/png": "[encoded data removed]",
      "text/plain": [
       "<Figure size 432x288 with 1 Axes>"
      ]
     },
     "metadata": {
      "needs_background": "light"
     },
     "output_type": "display_data"
    }
   ],
   "source": [
    "cleandating_df['hear_frequency'].replace(' ', np.nan, inplace=True)\n",
    "frequency_rf = cleandating_df['hear_frequency'].isna()\n",
    "cleandating_df[-frequency_rf]['hear_frequency'].value_counts().plot(kind='bar')\n",
    "plt.title('How Often You Expect to Hear From Your Significant Other')\n",
    "plt.xlabel('How Often?');"
   ]
  },
  {
   "cell_type": "code",
   "execution_count": 7,
   "id": "299da2ac",
   "metadata": {},
   "outputs": [
    {
     "data": {
      "image/png": "[encoded data removed]",
      "text/plain": [
       "<Figure size 432x288 with 1 Axes>"
      ]
     },
     "metadata": {
      "needs_background": "light"
     },
     "output_type": "display_data"
    }
   ],
   "source": [
    "cleandating_df['hear_from_you_frequency'].replace(' ', np.nan, inplace=True)\n",
    "frequency_rf = cleandating_df['hear_from_you_frequency'].isna()\n",
    "cleandating_df[-frequency_rf]['hear_from_you_frequency'].value_counts().plot(kind='bar')\n",
    "plt.title('How Often Your Significant Other Expects to Hear From You')\n",
    "plt.xlabel('How Often?');"
   ]
  },
  {
   "cell_type": "code",
   "execution_count": 8,
   "id": "b37e5b61",
   "metadata": {},
   "outputs": [
    {
     "data": {
      "image/png": "[encoded data removed]",
      "text/plain": [
       "<Figure size 432x288 with 1 Axes>"
      ]
     },
     "metadata": {
      "needs_background": "light"
     },
     "output_type": "display_data"
    }
   ],
   "source": [
    "cleandating_df['sm_feel_connected'].replace(' ', np.nan, inplace=True)\n",
    "connected_rf = cleandating_df['sm_feel_connected'].isna()\n",
    "cleandating_df[-connected_rf]['sm_feel_connected'].value_counts().plot(kind='bar')\n",
    "plt.title('Do You Feel More Connected to Your Significant Other Through Social Media')\n",
    "plt.xlabel('How Much More Connected?');"
   ]
  },
  {
   "cell_type": "code",
   "execution_count": 9,
   "id": "c5a4e63a",
   "metadata": {
    "scrolled": true
   },
   "outputs": [
    {
     "data": {
      "image/png": "[encoded data removed]",
      "text/plain": [
       "<Figure size 432x288 with 1 Axes>"
      ]
     },
     "metadata": {
      "needs_background": "light"
     },
     "output_type": "display_data"
    }
   ],
   "source": [
    "cleandating_df['sm_feel_closer'].replace(' ', np.nan, inplace=True)\n",
    "closer_rf = cleandating_df['sm_feel_closer'].isna()\n",
    "cleandating_df[-closer_rf]['sm_feel_closer'].value_counts().plot(kind='bar')\n",
    "plt.title('Do You Feel Closer to Your Significant Other Through Social Media')\n",
    "plt.xlabel('How Much Closer?');"
   ]
  },
  {
   "cell_type": "markdown",
   "id": "d6c4c9ee",
   "metadata": {},
   "source": [
    "# Q1 Answer"
   ]
  },
  {
   "cell_type": "markdown",
   "id": "de53140e",
   "metadata": {},
   "source": [
    "People clearly expect to hear from their significant other more frequently than they believe their significant other expects to hear from them, with the two most common answers being \"daily\" or \"every few hours.\" That being said, respondents indicated that, for the most part, they either feel only marginally closer and more connected to their significant other as a result of social media, or not closer/more connected whatsoever."
   ]
  },
  {
   "cell_type": "markdown",
   "id": "590bbcf0",
   "metadata": {},
   "source": [
    "# Q1 Interpretation/Observations"
   ]
  },
  {
   "cell_type": "markdown",
   "id": "e0d7a2ed",
   "metadata": {},
   "source": [
    "Given the dichotomy between how often people to expect to hear from their partners and how often they believe their partners expect to hear from them, one follow-up question would be why this dissonance exists, and whether or not it is consistent across other questions asked in the survey. Furthermore, if people, for the most part, do not feel much closer or closer at all to their partners because of social media, is this result (or lack thereof) consistent with more negative questions associated with social media and relationships, as well? The latter question will likely be answered through analysis of Questions 2 and 3 of this notebook."
   ]
  },
  {
   "cell_type": "markdown",
   "id": "0fc80af0",
   "metadata": {},
   "source": [
    "# Q2 Steps"
   ]
  },
  {
   "cell_type": "markdown",
   "id": "7ae60c7f",
   "metadata": {},
   "source": [
    "1) Identify questions/columns that deal with interpretation of social media\n",
    "2) Create visuals for said questions\n",
    "3) Draw conclusions"
   ]
  },
  {
   "cell_type": "markdown",
   "id": "fca0869a",
   "metadata": {},
   "source": [
    "# Q2 Code"
   ]
  },
  {
   "cell_type": "code",
   "execution_count": 10,
   "id": "2b6122ce",
   "metadata": {},
   "outputs": [],
   "source": [
    "cols_to_use = [\n",
    "    'sm_different',\n",
    "    'sm_authentic',\n",
    "    'sm_escape',\n",
    "    'sm_too_many',\n",
    "    'sm_support_rel_end',\n",
    "    'sm_post_support',\n",
    "    'sm_post_affection',\n",
    "]\n",
    "q2_df = cleandating_df[cols_to_use]"
   ]
  },
  {
   "cell_type": "code",
   "execution_count": 11,
   "id": "5f14c024",
   "metadata": {},
   "outputs": [
    {
     "data": {
      "text/html": [
       "<div>\n",
       "<style scoped>\n",
       "    .dataframe tbody tr th:only-of-type {\n",
       "        vertical-align: middle;\n",
       "    }\n",
       "\n",
       "    .dataframe tbody tr th {\n",
       "        vertical-align: top;\n",
       "    }\n",
       "\n",
       "    .dataframe thead th {\n",
       "        text-align: right;\n",
       "    }\n",
       "</style>\n",
       "<table border=\"1\" class=\"dataframe\">\n",
       "  <thead>\n",
       "    <tr style=\"text-align: right;\">\n",
       "      <th></th>\n",
       "      <th>sm_different</th>\n",
       "      <th>sm_authentic</th>\n",
       "      <th>sm_escape</th>\n",
       "      <th>sm_too_many</th>\n",
       "      <th>sm_support_rel_end</th>\n",
       "      <th>sm_post_support</th>\n",
       "      <th>sm_post_affection</th>\n",
       "    </tr>\n",
       "  </thead>\n",
       "  <tbody>\n",
       "    <tr>\n",
       "      <th>0</th>\n",
       "      <td>2</td>\n",
       "      <td>3</td>\n",
       "      <td>2</td>\n",
       "      <td>2</td>\n",
       "      <td>1</td>\n",
       "      <td>1</td>\n",
       "      <td>2</td>\n",
       "    </tr>\n",
       "    <tr>\n",
       "      <th>1</th>\n",
       "      <td></td>\n",
       "      <td></td>\n",
       "      <td></td>\n",
       "      <td></td>\n",
       "      <td></td>\n",
       "      <td></td>\n",
       "      <td></td>\n",
       "    </tr>\n",
       "    <tr>\n",
       "      <th>2</th>\n",
       "      <td>NaN</td>\n",
       "      <td>NaN</td>\n",
       "      <td>NaN</td>\n",
       "      <td>NaN</td>\n",
       "      <td>NaN</td>\n",
       "      <td>NaN</td>\n",
       "      <td>NaN</td>\n",
       "    </tr>\n",
       "    <tr>\n",
       "      <th>3</th>\n",
       "      <td>0</td>\n",
       "      <td>0</td>\n",
       "      <td>1</td>\n",
       "      <td>5</td>\n",
       "      <td>1</td>\n",
       "      <td>NaN</td>\n",
       "      <td>NaN</td>\n",
       "    </tr>\n",
       "    <tr>\n",
       "      <th>4</th>\n",
       "      <td></td>\n",
       "      <td></td>\n",
       "      <td></td>\n",
       "      <td></td>\n",
       "      <td></td>\n",
       "      <td></td>\n",
       "      <td></td>\n",
       "    </tr>\n",
       "    <tr>\n",
       "      <th>...</th>\n",
       "      <td>...</td>\n",
       "      <td>...</td>\n",
       "      <td>...</td>\n",
       "      <td>...</td>\n",
       "      <td>...</td>\n",
       "      <td>...</td>\n",
       "      <td>...</td>\n",
       "    </tr>\n",
       "    <tr>\n",
       "      <th>1637</th>\n",
       "      <td></td>\n",
       "      <td></td>\n",
       "      <td></td>\n",
       "      <td></td>\n",
       "      <td></td>\n",
       "      <td></td>\n",
       "      <td></td>\n",
       "    </tr>\n",
       "    <tr>\n",
       "      <th>1638</th>\n",
       "      <td></td>\n",
       "      <td></td>\n",
       "      <td></td>\n",
       "      <td></td>\n",
       "      <td></td>\n",
       "      <td></td>\n",
       "      <td></td>\n",
       "    </tr>\n",
       "    <tr>\n",
       "      <th>1639</th>\n",
       "      <td>3</td>\n",
       "      <td>3</td>\n",
       "      <td>3</td>\n",
       "      <td>3</td>\n",
       "      <td>3</td>\n",
       "      <td>1</td>\n",
       "      <td>2</td>\n",
       "    </tr>\n",
       "    <tr>\n",
       "      <th>1640</th>\n",
       "      <td></td>\n",
       "      <td></td>\n",
       "      <td></td>\n",
       "      <td></td>\n",
       "      <td></td>\n",
       "      <td></td>\n",
       "      <td></td>\n",
       "    </tr>\n",
       "    <tr>\n",
       "      <th>1641</th>\n",
       "      <td></td>\n",
       "      <td></td>\n",
       "      <td></td>\n",
       "      <td></td>\n",
       "      <td></td>\n",
       "      <td></td>\n",
       "      <td></td>\n",
       "    </tr>\n",
       "  </tbody>\n",
       "</table>\n",
       "<p>1642 rows × 7 columns</p>\n",
       "</div>"
      ],
      "text/plain": [
       "     sm_different sm_authentic sm_escape sm_too_many sm_support_rel_end  \\\n",
       "0               2            3         2           2                  1   \n",
       "1                                                                         \n",
       "2             NaN          NaN       NaN         NaN                NaN   \n",
       "3               0            0         1           5                  1   \n",
       "4                                                                         \n",
       "...           ...          ...       ...         ...                ...   \n",
       "1637                                                                      \n",
       "1638                                                                      \n",
       "1639            3            3         3           3                  3   \n",
       "1640                                                                      \n",
       "1641                                                                      \n",
       "\n",
       "     sm_post_support sm_post_affection  \n",
       "0                  1                 2  \n",
       "1                                       \n",
       "2                NaN               NaN  \n",
       "3                NaN               NaN  \n",
       "4                                       \n",
       "...              ...               ...  \n",
       "1637                                    \n",
       "1638                                    \n",
       "1639               1                 2  \n",
       "1640                                    \n",
       "1641                                    \n",
       "\n",
       "[1642 rows x 7 columns]"
      ]
     },
     "execution_count": 11,
     "metadata": {},
     "output_type": "execute_result"
    }
   ],
   "source": [
    "q2_df"
   ]
  },
  {
   "cell_type": "code",
   "execution_count": 12,
   "id": "295b0f39",
   "metadata": {},
   "outputs": [
    {
     "name": "stderr",
     "output_type": "stream",
     "text": [
      "/usr/local/anaconda3/share/jupyter/venv/py3_comm318/lib/python3.8/site-packages/pandas/core/generic.py:6619: SettingWithCopyWarning: \n",
      "A value is trying to be set on a copy of a slice from a DataFrame\n",
      "\n",
      "See the caveats in the documentation: https://pandas.pydata.org/pandas-docs/stable/user_guide/indexing.html#returning-a-view-versus-a-copy\n",
      "  return self._update_inplace(result)\n"
     ]
    },
    {
     "data": {
      "image/png": "[encoded data removed]",
      "text/plain": [
       "<Figure size 432x288 with 1 Axes>"
      ]
     },
     "metadata": {
      "needs_background": "light"
     },
     "output_type": "display_data"
    }
   ],
   "source": [
    "q2_df['sm_different'].replace(' ', np.nan, inplace=True)\n",
    "different_rf = q2_df['sm_different'].isna()\n",
    "q2_df[-different_rf]['sm_different'].value_counts().plot(kind='bar')\n",
    "plt.title('Do You Believe Your Significant Other is Different on Social Media')\n",
    "plt.xlabel('Response');"
   ]
  },
  {
   "cell_type": "code",
   "execution_count": 13,
   "id": "fa1d05ff",
   "metadata": {},
   "outputs": [
    {
     "data": {
      "image/png": "[encoded data removed]",
      "text/plain": [
       "<Figure size 432x288 with 1 Axes>"
      ]
     },
     "metadata": {
      "needs_background": "light"
     },
     "output_type": "display_data"
    }
   ],
   "source": [
    "q2_df['sm_authentic'].replace(' ', np.nan, inplace=True)\n",
    "authentic_rf = q2_df['sm_authentic'].isna()\n",
    "q2_df[-authentic_rf]['sm_authentic'].value_counts().plot(kind='bar')\n",
    "plt.title('Do You Believe Your Significant Other is Less Authentic on Social Media')\n",
    "plt.xlabel('Response');"
   ]
  },
  {
   "cell_type": "code",
   "execution_count": 14,
   "id": "a411f5b5",
   "metadata": {},
   "outputs": [
    {
     "data": {
      "image/png": "[encoded data removed]",
      "text/plain": [
       "<Figure size 432x288 with 1 Axes>"
      ]
     },
     "metadata": {
      "needs_background": "light"
     },
     "output_type": "display_data"
    }
   ],
   "source": [
    "q2_df['sm_escape'].replace(' ', np.nan, inplace=True)\n",
    "escape_rf = q2_df['sm_escape'].isna()\n",
    "q2_df[-escape_rf]['sm_escape'].value_counts().plot(kind='bar')\n",
    "plt.title('Do You Believe Social Media Makes it Difficult to Escape Ex-Partners')\n",
    "plt.xlabel('Response');"
   ]
  },
  {
   "cell_type": "code",
   "execution_count": 15,
   "id": "158b139d",
   "metadata": {},
   "outputs": [
    {
     "data": {
      "image/png": "[encoded data removed]",
      "text/plain": [
       "<Figure size 432x288 with 1 Axes>"
      ]
     },
     "metadata": {
      "needs_background": "light"
     },
     "output_type": "display_data"
    }
   ],
   "source": [
    "q2_df['sm_too_many'].replace(' ', np.nan, inplace=True)\n",
    "too_many_rf = q2_df['sm_too_many'].isna()\n",
    "q2_df[-too_many_rf]['sm_too_many'].value_counts().plot(kind='bar')\n",
    "plt.title('Do You Believe Social Media Shows Too Many People Your Relationship')\n",
    "plt.xlabel('Response');"
   ]
  },
  {
   "cell_type": "code",
   "execution_count": 16,
   "id": "f74a2b5e",
   "metadata": {},
   "outputs": [
    {
     "data": {
      "image/png": "[encoded data removed]",
      "text/plain": [
       "<Figure size 432x288 with 1 Axes>"
      ]
     },
     "metadata": {
      "needs_background": "light"
     },
     "output_type": "display_data"
    }
   ],
   "source": [
    "q2_df['sm_support_rel_end'].replace(' ', np.nan, inplace=True)\n",
    "end_rf = q2_df['sm_support_rel_end'].isna()\n",
    "q2_df[-end_rf]['sm_support_rel_end'].value_counts().plot(kind='bar')\n",
    "plt.title('Do You Believe Social Media Allows People to Support You When Your Relationship Ends')\n",
    "plt.xlabel('Response');"
   ]
  },
  {
   "cell_type": "code",
   "execution_count": 17,
   "id": "cb325fc4",
   "metadata": {},
   "outputs": [
    {
     "data": {
      "image/png": "[encoded data removed]",
      "text/plain": [
       "<Figure size 432x288 with 1 Axes>"
      ]
     },
     "metadata": {
      "needs_background": "light"
     },
     "output_type": "display_data"
    }
   ],
   "source": [
    "q2_df['sm_post_support'].replace(' ', np.nan, inplace=True)\n",
    "support_rf = q2_df['sm_post_support'].isna()\n",
    "q2_df[-support_rf]['sm_post_support'].value_counts().plot(kind='bar')\n",
    "plt.title('Do You Use Social Media to Support Relationships of Friends')\n",
    "plt.xlabel('Response');"
   ]
  },
  {
   "cell_type": "code",
   "execution_count": 18,
   "id": "b882fc66",
   "metadata": {
    "scrolled": true
   },
   "outputs": [
    {
     "data": {
      "image/png": "[encoded data removed]",
      "text/plain": [
       "<Figure size 432x288 with 1 Axes>"
      ]
     },
     "metadata": {
      "needs_background": "light"
     },
     "output_type": "display_data"
    }
   ],
   "source": [
    "q2_df['sm_post_affection'].replace(' ', np.nan, inplace=True)\n",
    "affection_rf = q2_df['sm_post_affection'].isna()\n",
    "q2_df[-affection_rf]['sm_post_affection'].value_counts().plot(kind='bar')\n",
    "plt.title('Do You Use Social Media to Post Affection')\n",
    "plt.xlabel('Response');"
   ]
  },
  {
   "cell_type": "markdown",
   "id": "4ae6d15a",
   "metadata": {},
   "source": [
    "# Q2 Answer"
   ]
  },
  {
   "cell_type": "markdown",
   "id": "731670dc",
   "metadata": {},
   "source": [
    "Give that, for the most part, the majority of people appear to believe that there is a certain level of legitimacy and authenticity represented on social media, it seems that the way in which this impacts people who are either in or have just left relationships is that they find it difficult to stop thinking about their partners, while simultaneously using social media to support others in relationships."
   ]
  },
  {
   "cell_type": "markdown",
   "id": "bd297f4c",
   "metadata": {},
   "source": [
    "# Q2 Interpretation/Observations"
   ]
  },
  {
   "cell_type": "markdown",
   "id": "cd279d91",
   "metadata": {},
   "source": [
    "These results were relatively surprising to me, as I thought that most people were of the mind that social media is not a true representation of one's life, and is instead a hyper-polished \"highlight reel.\" I believe that these results are likely due to the age of the respondents: older, non-teenage participants might have a better understanding of social media and might have answered the questions differently."
   ]
  },
  {
   "cell_type": "markdown",
   "id": "755e8a75",
   "metadata": {},
   "source": [
    "# Q3 Steps"
   ]
  },
  {
   "cell_type": "markdown",
   "id": "dd83ea95",
   "metadata": {},
   "source": [
    "1) Identify whether or not social media and texting has made people feel stronger (as above in Q1)\n",
    "2) Identify whether or not people in relationships have been able to resolve issues through texting and social media\n",
    "3) Analyze responses\n",
    "4) Draw conclusions"
   ]
  },
  {
   "cell_type": "markdown",
   "id": "40a0d91d",
   "metadata": {},
   "source": [
    "# Q3 Code"
   ]
  },
  {
   "cell_type": "code",
   "execution_count": 19,
   "id": "a4856fab",
   "metadata": {},
   "outputs": [
    {
     "data": {
      "image/png": "[encoded data removed]",
      "text/plain": [
       "<Figure size 432x288 with 1 Axes>"
      ]
     },
     "metadata": {
      "needs_background": "light"
     },
     "output_type": "display_data"
    }
   ],
   "source": [
    "cleandating_df['sm_feel_connected'].replace(' ', np.nan, inplace=True)\n",
    "connected_rf = cleandating_df['sm_feel_connected'].isna()\n",
    "cleandating_df[-connected_rf]['sm_feel_connected'].value_counts().plot(kind='bar')\n",
    "plt.title('Do You Feel More Connected to Your Significant Other Through Social Media')\n",
    "plt.xlabel('How Much More Connected?');"
   ]
  },
  {
   "cell_type": "code",
   "execution_count": 23,
   "id": "c39c65e8",
   "metadata": {},
   "outputs": [
    {
     "data": {
      "image/png": "[encoded data removed]",
      "text/plain": [
       "<Figure size 432x288 with 1 Axes>"
      ]
     },
     "metadata": {
      "needs_background": "light"
     },
     "output_type": "display_data"
    }
   ],
   "source": [
    "cleandating_df['sm_feel_closer'].replace(' ', np.nan, inplace=True)\n",
    "closer_rf = cleandating_df['sm_feel_closer'].isna()\n",
    "cleandating_df[-closer_rf]['sm_feel_closer'].value_counts().plot(kind='bar')\n",
    "plt.title('Do You Feel Closer to Your Significant Other Through Social Media')\n",
    "plt.xlabel('How Much Closer?');"
   ]
  },
  {
   "cell_type": "code",
   "execution_count": 21,
   "id": "3c1927a8",
   "metadata": {},
   "outputs": [
    {
     "data": {
      "image/png": "[encoded data removed]",
      "text/plain": [
       "<Figure size 432x288 with 1 Axes>"
      ]
     },
     "metadata": {
      "needs_background": "light"
     },
     "output_type": "display_data"
    }
   ],
   "source": [
    "cleandating_df['closer_text'].replace(' ', np.nan, inplace=True)\n",
    "closer_text_rf = cleandating_df['closer_text'].isna()\n",
    "cleandating_df[-closer_text_rf]['closer_text'].value_counts().plot(kind='bar')\n",
    "plt.title('Have You Felt Closer to Your Significant Other Because of Conversations had Through Text')\n",
    "plt.xlabel('Yes or No?');"
   ]
  },
  {
   "cell_type": "code",
   "execution_count": 22,
   "id": "9605d884",
   "metadata": {},
   "outputs": [
    {
     "data": {
      "image/png": "[encoded data removed]",
      "text/plain": [
       "<Figure size 432x288 with 1 Axes>"
      ]
     },
     "metadata": {
      "needs_background": "light"
     },
     "output_type": "display_data"
    }
   ],
   "source": [
    "cleandating_df['argument_resolve_text'].replace(' ', np.nan, inplace=True)\n",
    "argument_rf = cleandating_df['argument_resolve_text'].isna()\n",
    "cleandating_df[-argument_rf]['argument_resolve_text'].value_counts().plot(kind='bar')\n",
    "plt.title('Have You Been Able to Resolve an Argument With Your Significant Through Texting or Social Media')\n",
    "plt.xlabel('Yes or No?');"
   ]
  },
  {
   "cell_type": "markdown",
   "id": "faf9c614",
   "metadata": {},
   "source": [
    "# Q3 Answers"
   ]
  },
  {
   "cell_type": "markdown",
   "id": "e4015a76",
   "metadata": {},
   "source": [
    "Though the majority of people as a whole do not say that they feel particularly closer to their significant other because of texting and social media, they do say that specific conversations that they have had with each other through texting and social media have made them feel closer. Approximately half of respondents have also said that they have had serious arguments resolved through texting and social media."
   ]
  },
  {
   "cell_type": "markdown",
   "id": "bfdf5d4a",
   "metadata": {},
   "source": [
    "# Q3 Interpretation/Observations"
   ]
  },
  {
   "cell_type": "markdown",
   "id": "27d87d9e",
   "metadata": {},
   "source": [
    "This question illustrates whether people are able to strengthen their relationships and form meaningful bonds with their partners through social media and texting. The results are a bit contradictory though: people ay that they are both not more connected to their partners but that texting and social media have led to instances in which they felt closer. I am curious as to why this dichotomy exists and from where the contradiction stems: I will likely do some outside research to complement this data analysis and dig in to the question further."
   ]
  },
  {
   "cell_type": "markdown",
   "id": "89aaef6b",
   "metadata": {},
   "source": [
    "# Conclusion"
   ]
  },
  {
   "cell_type": "markdown",
   "id": "6e73d293",
   "metadata": {},
   "source": [
    "Through the analysis of my section of the PEW Research data, I have analyzed whether or not people feel closer to each other when in relationships through social media and texting, if respondents understand social media to be a literal and legitimate or fake representation of the lives of others, and whether or not serious and strong bonds can be formed through social media and texting. There is a fair amount of dichotomy in the results: they often contradict each other in minor ways that, from a quantitative perspective, do not follow the same logical though process. That being said, given that most of the participants are younger individuals, it is not to be expected that all responses are completely coherent and logical."
   ]
  },
  {
   "cell_type": "markdown",
   "id": "494f049b",
   "metadata": {},
   "source": [
    "# Questions and Concerns"
   ]
  },
  {
   "cell_type": "markdown",
   "id": "f227bc7b",
   "metadata": {},
   "source": [
    "I am going to do some more research on teens' understanding of relationships formed through the Internet, so as to strengthen both my understanding of the topic and my ability to analyze some of these results going forward. When we return from break, Joy, Sofi and I will need to work on combining our analyses of the broader dataset to incorporate all of our questions into a single, overarching analysis. Other than that, I do not believe that I have many questions, and I am looking forward to continuing the project with the other members of the group."
   ]
  },
  {
   "cell_type": "code",
   "execution_count": null,
   "id": "ca5636e6",
   "metadata": {},
   "outputs": [],
   "source": []
  },
  {
   "cell_type": "code",
   "execution_count": null,
   "id": "a902a054",
   "metadata": {},
   "outputs": [],
   "source": []
  },
  {
   "cell_type": "code",
   "execution_count": null,
   "id": "0c2d82d8",
   "metadata": {},
   "outputs": [],
   "source": []
  },
  {
   "cell_type": "code",
   "execution_count": null,
   "id": "6432969f",
   "metadata": {},
   "outputs": [],
   "source": []
  },
  {
   "cell_type": "code",
   "execution_count": null,
   "id": "cdce0f99",
   "metadata": {},
   "outputs": [],
   "source": []
  },
  {
   "cell_type": "code",
   "execution_count": null,
   "id": "b39f372d",
   "metadata": {},
   "outputs": [],
   "source": []
  },
  {
   "cell_type": "code",
   "execution_count": null,
   "id": "b39ce230",
   "metadata": {},
   "outputs": [],
   "source": []
  },
  {
   "cell_type": "code",
   "execution_count": null,
   "id": "f2980d31",
   "metadata": {},
   "outputs": [],
   "source": []
  },
  {
   "cell_type": "code",
   "execution_count": null,
   "id": "2f4d4f6b",
   "metadata": {},
   "outputs": [],
   "source": []
  },
  {
   "cell_type": "code",
   "execution_count": null,
   "id": "66e498d9",
   "metadata": {},
   "outputs": [],
   "source": []
  },
  {
   "cell_type": "code",
   "execution_count": null,
   "id": "2e3aec40",
   "metadata": {},
   "outputs": [],
   "source": []
  }
 ],
 "metadata": {
  "kernelspec": {
   "display_name": "Python 3 (COMM318)",
   "language": "python",
   "name": "python3"
  },
  "language_info": {
   "codemirror_mode": {
    "name": "ipython",
    "version": 3
   },
   "file_extension": ".py",
   "mimetype": "text/x-python",
   "name": "python",
   "nbconvert_exporter": "python",
   "pygments_lexer": "ipython3",
   "version": "3.8.8"
  }
 },
 "nbformat": 4,
 "nbformat_minor": 5
}
