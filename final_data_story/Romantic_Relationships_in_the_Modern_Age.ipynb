{
 "cells": [
  {
   "cell_type": "markdown",
   "id": "723c586e",
   "metadata": {},
   "source": [
    "# COMM318 Fall 2021 - _Stories from Data_\n",
    "\n",
    "## Romantic Relationships in the Modern Age\n",
    "\n",
    "### Group Members: Joy Ekasi-Otu, Judy Ce Liu, Sofi de la Sierra, Mason Parker\n",
    "\n",
    "------------\n",
    "\n",
    "\n",
    "## Research Question\n",
    "\n",
    "### Main Question\n",
    "\n",
    "* What do people look for in a relationship, and how do people behave when seeking/engaging in a relationship?\n",
    "\n",
    "### Follow-up Questions\n",
    "\n",
    "We broke this central research question down to three sub-questions:\n",
    "* 1. What are the specific attributes people value more or less? How do these differ by gender?\n",
    "* 2. What are the ways in which people interact through cell phones and social media when starting and ending relationships?\n",
    "* 3. Do people feel like they can create meaningful bonds in their relationships through social media and cell phones?\n",
    "\n",
    "-----\n",
    "\n",
    "## Two Data Sources\n",
    "\n",
    "### The Ideal Partner Dataset\n",
    "\n",
    "* Our first data source is a survey conducted by a University of Pennsylvania Psychology Professor\n",
    "    * This dataset had 200+ responses on 20+ questions\n",
    "    * This survey was designed to determine the respondents’ “Ideal Man / Woman” from hetero-normative perspective\n",
    "    * Participants were asked to imagine having 500 dollars and were asked to put dollar amounts on attributes based on their valued importances in an ideal partner.\n",
    "        * The attributes evaluted were:\n",
    "            * Body attractiveness\n",
    "            * Face attractiveness\n",
    "            * Fidelity\n",
    "            * Intelligence\n",
    "            * Kindness\n",
    "            * Sense of Humor\n",
    "            * Sensitivity\n",
    "            * Sexual Skill\n",
    "            * Shared Values\n",
    "            * Wealth\n",
    "            \n",
    "### The Pew Research Dataset\n",
    "            \n",
    "* Our second data source is survey data from the Pew Research Center.\n",
    "    * This data records survey response questions from more than 1600 parents and teenagers in 2014 and 2015. The survey questions revolve around technology, social media, dating, and friendships.\n",
    "    * It also includes demographic information.\n",
    "    * Raw data link: https://www.pewresearch.org/internet/dataset/september-2014-march-2015-teens/\n",
    "    \n",
    "---\n",
    "* Related information\n",
    "    * Dataclysm: Love, Sex, Race, and Identity--What Our Online Lives Tell Us about Our Offline Selves\n",
    "    https://www.amazon.com/Dataclysm-Identity-What-Online-Offline-Selves/dp/0385347391\n",
    "    * Sex Differences in Mate Preferences Revisited: Do People Know What They Initially Desire in a Romantic Partner https://www.researchgate.net/publication/5640931_Sex_Differences_in_Mate_Preferences_Revisited_Do_People_Know_What_They_Initially_Desire_in_a_Romantic_Partner"
   ]
  },
  {
   "cell_type": "markdown",
   "id": "5a0f8509",
   "metadata": {},
   "source": [
    "# 1. What are the specific attributes people value more or less? How do these differ by gender?\n",
    "\n",
    "## The Ideal Partner Dataset\n",
    "\n",
    "### Background on the Ideal Partner dataset\n",
    "* There has always been academic research done on the preferences individuals exhibit when choosing a romantic partner. One study conducted by Eastwick and Finkel in 2008 examines sex differences when exhibiting mating preferences. The study is linked as follows:\n",
    "    * Sex Differences in Mate Preferences Revisited: Do People Know What They Initially Desire in a Romantic Partner https://www.researchgate.net/publication/5640931_Sex_Differences_in_Mate_Preferences_Revisited_Do_People_Know_What_They_Initially_Desire_in_a_Romantic_Partner\n",
    "    * This study uses speed dating and longitudinal follow-ups to assess the validity of the traditional dating paradigm that, \n",
    "        \n",
    "        ##### \"Men value physical attractiveness more than women do, and women value earning prospects more than men do.\"\n",
    "        #####    \n",
    "    * The findings of this study support the validity of traditional dating paradigms where traditional sex differences prevail. However, only participants' initial indicated preferences were supported by the study - their behavior in \"real-life\" situations such as speed-dating events did not match up to their indicated preferences, demonstrating that there is usual cognitive dissonance in people's mating behavior.\n",
    "    \n",
    "* Using the Ideal Partner dataset, we wish to see if the results could replicate the results stated in traditional dating paradigms and the above dataset, where sex differences determine what individuals seek in relationships."
   ]
  },
  {
   "cell_type": "markdown",
   "id": "57b2b7f2",
   "metadata": {},
   "source": [
    "### Data Analysis of the Ideal Partner dataset"
   ]
  },
  {
   "cell_type": "code",
   "execution_count": 1,
   "id": "d54165fe",
   "metadata": {},
   "outputs": [],
   "source": [
    "import pandas as pd\n",
    "from IPython.display import HTML, Markdown, display\n",
    "import matplotlib.pyplot as plt\n",
    "import seaborn as sns\n",
    "import numpy as np\n",
    "import warnings\n",
    "import scipy.stats as stats\n",
    "import statsmodels.stats as smstats\n",
    "import statsmodels.formula.api as smf\n",
    "from statsmodels.multivariate import factor as smfactor\n",
    "import scipy.cluster.hierarchy as shc\n",
    "warnings.filterwarnings('ignore')\n",
    "\n",
    "\n",
    "idealpartner_data = pd.read_csv('../data/Clean Data/Judy_PSYC_dataset_clean.csv')"
   ]
  },
  {
   "cell_type": "markdown",
   "id": "8e700b12",
   "metadata": {},
   "source": [
    "Within the dataset, all of the variables are assigned importances in the form of $ amount values from 0 to 100. 0 being unimportant and 100 being extremely important.\n",
    "* Body - importance of body attractiveness in selecting partner (scale 0-100)\n",
    "* Face - importance of face attractiveness in selecting partner (scale 0-100)\n",
    "* Fidelity - importance of loyalty in selecting partner (scale 0-100)\n",
    "* Intelligence - importance of intelligence in selecting partner (scale 0-100)\n",
    "* Kindness - importance of kindness in selecting partner (scale 0-100)\n",
    "* Sense of humor - importance of sense of humor in selecting partner (scale 0-100)\n",
    "* Sensitivity - importance of sensitivity in selecting partner (scale 0-100)\n",
    "* Sexualskill - importance of sexual skill in selecting partner (scale 0-100)\n",
    "* Sharedvalues - importance of shared values in selecting partner (scale 0-100)\n",
    "* Wealth - importance of wealth in selecting partner (scale 0-100)\n",
    "\n",
    "We conducted an exploratory factor analysis on the ten attributes as follows:"
   ]
  },
  {
   "cell_type": "code",
   "execution_count": 2,
   "id": "20502a9d",
   "metadata": {},
   "outputs": [
    {
     "data": {
      "text/html": [
       "<style type=\"text/css\">\n",
       "#T_2844e_row0_col0, #T_2844e_row1_col0, #T_2844e_row2_col0, #T_2844e_row3_col0, #T_2844e_row4_col0, #T_2844e_row5_col0, #T_2844e_row6_col0, #T_2844e_row8_col1, #T_2844e_row9_col2 {\n",
       "  color: black;\n",
       "  background-color: yellow;\n",
       "}\n",
       "#T_2844e_row0_col1, #T_2844e_row0_col2, #T_2844e_row1_col1, #T_2844e_row1_col2, #T_2844e_row2_col1, #T_2844e_row2_col2, #T_2844e_row3_col1, #T_2844e_row4_col1, #T_2844e_row4_col2, #T_2844e_row5_col1, #T_2844e_row5_col2, #T_2844e_row6_col1, #T_2844e_row6_col2, #T_2844e_row7_col1, #T_2844e_row7_col2, #T_2844e_row8_col0, #T_2844e_row8_col2, #T_2844e_row9_col0, #T_2844e_row9_col1 {\n",
       "  color: white;\n",
       "}\n",
       "#T_2844e_row3_col2 {\n",
       "  color: black;\n",
       "}\n",
       "#T_2844e_row7_col0 {\n",
       "  color: white;\n",
       "  background-color: yellow;\n",
       "}\n",
       "</style>\n",
       "<table id=\"T_2844e_\">\n",
       "  <thead>\n",
       "    <tr>\n",
       "      <th class=\"blank level0\" >&nbsp;</th>\n",
       "      <th class=\"col_heading level0 col0\" >factor 0</th>\n",
       "      <th class=\"col_heading level0 col1\" >factor 1</th>\n",
       "      <th class=\"col_heading level0 col2\" >factor 2</th>\n",
       "    </tr>\n",
       "  </thead>\n",
       "  <tbody>\n",
       "    <tr>\n",
       "      <th id=\"T_2844e_level0_row0\" class=\"row_heading level0 row0\" >Body</th>\n",
       "      <td id=\"T_2844e_row0_col0\" class=\"data row0 col0\" >0.820822</td>\n",
       "      <td id=\"T_2844e_row0_col1\" class=\"data row0 col1\" >-0.272826</td>\n",
       "      <td id=\"T_2844e_row0_col2\" class=\"data row0 col2\" >-0.237359</td>\n",
       "    </tr>\n",
       "    <tr>\n",
       "      <th id=\"T_2844e_level0_row1\" class=\"row_heading level0 row1\" >Face</th>\n",
       "      <td id=\"T_2844e_row1_col0\" class=\"data row1 col0\" >0.782159</td>\n",
       "      <td id=\"T_2844e_row1_col1\" class=\"data row1 col1\" >-0.233119</td>\n",
       "      <td id=\"T_2844e_row1_col2\" class=\"data row1 col2\" >-0.095849</td>\n",
       "    </tr>\n",
       "    <tr>\n",
       "      <th id=\"T_2844e_level0_row2\" class=\"row_heading level0 row2\" >Sexualskill</th>\n",
       "      <td id=\"T_2844e_row2_col0\" class=\"data row2 col0\" >0.521158</td>\n",
       "      <td id=\"T_2844e_row2_col1\" class=\"data row2 col1\" >-0.013042</td>\n",
       "      <td id=\"T_2844e_row2_col2\" class=\"data row2 col2\" >0.267577</td>\n",
       "    </tr>\n",
       "    <tr>\n",
       "      <th id=\"T_2844e_level0_row3\" class=\"row_heading level0 row3\" >Sensitivity</th>\n",
       "      <td id=\"T_2844e_row3_col0\" class=\"data row3 col0\" >-0.519511</td>\n",
       "      <td id=\"T_2844e_row3_col1\" class=\"data row3 col1\" >0.016556</td>\n",
       "      <td id=\"T_2844e_row3_col2\" class=\"data row3 col2\" >-0.409068</td>\n",
       "    </tr>\n",
       "    <tr>\n",
       "      <th id=\"T_2844e_level0_row4\" class=\"row_heading level0 row4\" >Kindness</th>\n",
       "      <td id=\"T_2844e_row4_col0\" class=\"data row4 col0\" >-0.519304</td>\n",
       "      <td id=\"T_2844e_row4_col1\" class=\"data row4 col1\" >-0.147179</td>\n",
       "      <td id=\"T_2844e_row4_col2\" class=\"data row4 col2\" >-0.163868</td>\n",
       "    </tr>\n",
       "    <tr>\n",
       "      <th id=\"T_2844e_level0_row5\" class=\"row_heading level0 row5\" >Sharedvalues</th>\n",
       "      <td id=\"T_2844e_row5_col0\" class=\"data row5 col0\" >-0.399706</td>\n",
       "      <td id=\"T_2844e_row5_col1\" class=\"data row5 col1\" >0.008563</td>\n",
       "      <td id=\"T_2844e_row5_col2\" class=\"data row5 col2\" >0.034185</td>\n",
       "    </tr>\n",
       "    <tr>\n",
       "      <th id=\"T_2844e_level0_row6\" class=\"row_heading level0 row6\" >Intelligence</th>\n",
       "      <td id=\"T_2844e_row6_col0\" class=\"data row6 col0\" >-0.353389</td>\n",
       "      <td id=\"T_2844e_row6_col1\" class=\"data row6 col1\" >0.064436</td>\n",
       "      <td id=\"T_2844e_row6_col2\" class=\"data row6 col2\" >0.282726</td>\n",
       "    </tr>\n",
       "    <tr>\n",
       "      <th id=\"T_2844e_level0_row7\" class=\"row_heading level0 row7\" >Fidelity</th>\n",
       "      <td id=\"T_2844e_row7_col0\" class=\"data row7 col0\" >-0.200471</td>\n",
       "      <td id=\"T_2844e_row7_col1\" class=\"data row7 col1\" >-0.103515</td>\n",
       "      <td id=\"T_2844e_row7_col2\" class=\"data row7 col2\" >-0.172779</td>\n",
       "    </tr>\n",
       "    <tr>\n",
       "      <th id=\"T_2844e_level0_row8\" class=\"row_heading level0 row8\" >Wealth</th>\n",
       "      <td id=\"T_2844e_row8_col0\" class=\"data row8 col0\" >0.277641</td>\n",
       "      <td id=\"T_2844e_row8_col1\" class=\"data row8 col1\" >1.267026</td>\n",
       "      <td id=\"T_2844e_row8_col2\" class=\"data row8 col2\" >-0.110048</td>\n",
       "    </tr>\n",
       "    <tr>\n",
       "      <th id=\"T_2844e_level0_row9\" class=\"row_heading level0 row9\" >Senseofhumor</th>\n",
       "      <td id=\"T_2844e_row9_col0\" class=\"data row9 col0\" >-0.174112</td>\n",
       "      <td id=\"T_2844e_row9_col1\" class=\"data row9 col1\" >0.006273</td>\n",
       "      <td id=\"T_2844e_row9_col2\" class=\"data row9 col2\" >0.331804</td>\n",
       "    </tr>\n",
       "  </tbody>\n",
       "</table>\n"
      ],
      "text/plain": [
       "<pandas.io.formats.style.Styler at 0x7f85c820e490>"
      ]
     },
     "execution_count": 2,
     "metadata": {},
     "output_type": "execute_result"
    }
   ],
   "source": [
    "trait_df = idealpartner_data.iloc[:,:10]\n",
    "fmodel=smfactor.Factor(endog=trait_df, n_factor=3)\n",
    "factor_res=fmodel.fit()\n",
    "factor_res.summary()\n",
    "factor_res.get_loadings_frame()"
   ]
  },
  {
   "cell_type": "markdown",
   "id": "145d4dd5",
   "metadata": {},
   "source": [
    "We arrive to three factors for analysis:\n",
    "* Factor 1: positively weighted for physical attributes vs personality characteristics\n",
    "\n",
    "* Factor 2: wealth\n",
    "\n",
    "* Factor 3: sense of humor"
   ]
  },
  {
   "cell_type": "code",
   "execution_count": 3,
   "id": "4312f804",
   "metadata": {},
   "outputs": [],
   "source": [
    "factor_score_df= pd.DataFrame(factor_res.factor_scoring(), \n",
    "                              columns=['F1_Physical', \n",
    "                                       'F2_Wealth',\n",
    "                                       'F3_Humor'])\n",
    "idealpartner_data2=pd.concat(\n",
    "    [idealpartner_data, factor_score_df], axis=1)\n",
    "female_filter = idealpartner_data2['Sex']=='female'\n",
    "data_female=idealpartner_data2[female_filter]\n",
    "data_male=idealpartner_data2[-female_filter]"
   ]
  },
  {
   "cell_type": "markdown",
   "id": "a00e1a0b",
   "metadata": {},
   "source": [
    "#### Analyzing Factor 1, Physical Attractiveness"
   ]
  },
  {
   "cell_type": "code",
   "execution_count": 4,
   "id": "a65614f3",
   "metadata": {},
   "outputs": [
    {
     "data": {
      "text/plain": [
       "<AxesSubplot:xlabel='Sex', ylabel='F1_Physical'>"
      ]
     },
     "execution_count": 4,
     "metadata": {},
     "output_type": "execute_result"
    },
    {
     "data": {
      "image/png": "[encoded data removed]",
      "text/plain": [
       "<Figure size 432x288 with 1 Axes>"
      ]
     },
     "metadata": {
      "needs_background": "light"
     },
     "output_type": "display_data"
    }
   ],
   "source": [
    "sns.boxplot(x='Sex', y='F1_Physical', data=idealpartner_data2, notch=True)"
   ]
  },
  {
   "cell_type": "code",
   "execution_count": 5,
   "id": "c0bc24dd",
   "metadata": {},
   "outputs": [
    {
     "data": {
      "text/plain": [
       "Ttest_indResult(statistic=-6.225742313557249, pvalue=3.216161516180481e-09)"
      ]
     },
     "execution_count": 5,
     "metadata": {},
     "output_type": "execute_result"
    }
   ],
   "source": [
    "stats.ttest_ind(a=data_female[\"F1_Physical\"], b=data_male[\"F1_Physical\"], equal_var=False)"
   ]
  },
  {
   "cell_type": "markdown",
   "id": "e420a8ff",
   "metadata": {},
   "source": [
    "##### Results indicate that men and women have a statistically significant difference in the indication of physical attractiveness they wish their ideal partner to have, with men valuing this attribute more than women - supporting the traditional dating paradigm.\n",
    "* The traditional dating paradigm states that men value physical attractiveness more than women do. As seen here, there is a statistically significant difference between men and women on their indicated importance of physical attractiveness in their partner. \n",
    "* The analysis of this survey question supports the Eastwick and Finkel study and traditional dating paradigms."
   ]
  },
  {
   "cell_type": "markdown",
   "id": "4be121f6",
   "metadata": {},
   "source": [
    "#### Analyzing Factor 2, Wealth"
   ]
  },
  {
   "cell_type": "code",
   "execution_count": 6,
   "id": "2fde0678",
   "metadata": {},
   "outputs": [
    {
     "data": {
      "text/plain": [
       "<AxesSubplot:xlabel='Sex', ylabel='F2_Wealth'>"
      ]
     },
     "execution_count": 6,
     "metadata": {},
     "output_type": "execute_result"
    },
    {
     "data": {
      "image/png": "[encoded data removed]",
      "text/plain": [
       "<Figure size 432x288 with 1 Axes>"
      ]
     },
     "metadata": {
      "needs_background": "light"
     },
     "output_type": "display_data"
    }
   ],
   "source": [
    "sns.boxplot(x='Sex', y='F2_Wealth', data=idealpartner_data2, notch=True)"
   ]
  },
  {
   "cell_type": "code",
   "execution_count": 7,
   "id": "2cc35d63",
   "metadata": {},
   "outputs": [
    {
     "data": {
      "text/plain": [
       "Ttest_indResult(statistic=8.334154350001047, pvalue=1.584986741841205e-14)"
      ]
     },
     "execution_count": 7,
     "metadata": {},
     "output_type": "execute_result"
    }
   ],
   "source": [
    "stats.ttest_ind(a=data_female[\"F2_Wealth\"], b=data_male[\"F2_Wealth\"], equal_var=False)"
   ]
  },
  {
   "cell_type": "markdown",
   "id": "e101c7c8",
   "metadata": {},
   "source": [
    "##### Results indicate that men and women have a stated difference in the importance of wealth they wish their partner has, supporting the traditional dating paradigm.\n",
    "* The traditional dating paradigm states that women value earning prospects more than men do. As seen here, there is a statistically significant difference between men and women on their indicated importance of wealth in their partner. \n",
    "* The analysis of this survey question supports the Eastwick and Finkel study and traditional dating paradigms."
   ]
  },
  {
   "cell_type": "markdown",
   "id": "ef906284",
   "metadata": {},
   "source": [
    "#### Analyzing Factor 3, Sense of Humor\n",
    "While the Eastwick and Finkel study does not discuss sense of humor, it would be interesting to see if there is a difference between sexes on this attribute."
   ]
  },
  {
   "cell_type": "code",
   "execution_count": 8,
   "id": "3cd2bb99",
   "metadata": {},
   "outputs": [
    {
     "data": {
      "text/plain": [
       "<AxesSubplot:xlabel='Sex', ylabel='F3_Humor'>"
      ]
     },
     "execution_count": 8,
     "metadata": {},
     "output_type": "execute_result"
    },
    {
     "data": {
      "image/png": "[encoded data removed]",
      "text/plain": [
       "<Figure size 432x288 with 1 Axes>"
      ]
     },
     "metadata": {
      "needs_background": "light"
     },
     "output_type": "display_data"
    }
   ],
   "source": [
    "sns.boxplot(x='Sex', y='F3_Humor', data=idealpartner_data2, notch=True)"
   ]
  },
  {
   "cell_type": "code",
   "execution_count": 9,
   "id": "837c1d93",
   "metadata": {},
   "outputs": [
    {
     "data": {
      "text/plain": [
       "Ttest_indResult(statistic=3.4785678104588476, pvalue=0.0006243046409110368)"
      ]
     },
     "execution_count": 9,
     "metadata": {},
     "output_type": "execute_result"
    }
   ],
   "source": [
    "stats.ttest_ind(a=data_female[\"F3_Humor\"], b=data_male[\"F3_Humor\"], equal_var=False)"
   ]
  },
  {
   "cell_type": "markdown",
   "id": "832c35e4",
   "metadata": {},
   "source": [
    "##### Results indicate that men and women have a stated difference in the importance of humor they wish their partner has, with women valuing sense of humor more than men.\n",
    "* While this attribute does not have as much of a stark difference as other factors such as physical attractiveness and wealth, it is intriguing to see that women tend to care more about their partner's sense of humor than men.\n",
    "* One inference we could make from this finding is that, the survey is conducted in a cumulative way (every participant has $500 to allot to each attribute), so that when one attribute is valued less, it means other attributes are valued more. Therefore, women's relative emphasis on sense of humor implies that they care about other attributes such as physical attractiveness less, and men's relative indifference on sense of humor implies that they care about other attributes such as physical attractiveness more."
   ]
  },
  {
   "cell_type": "markdown",
   "id": "01088e13",
   "metadata": {},
   "source": [
    "#### Analyzing another question in the dataset, ideal number of sexual partners\n",
    "One of the questions asked on the survey was \"How many sexual partners ideally would you like to have in your lifetime?\"\n",
    "* We analyzed the distribution of answers to this question by indicated sex as follows:"
   ]
  },
  {
   "cell_type": "code",
   "execution_count": 10,
   "id": "09be2167",
   "metadata": {},
   "outputs": [
    {
     "data": {
      "text/plain": [
       "<AxesSubplot:xlabel='Sex', ylabel='sexpartners'>"
      ]
     },
     "execution_count": 10,
     "metadata": {},
     "output_type": "execute_result"
    },
    {
     "data": {
      "image/png": "[encoded data removed]",
      "text/plain": [
       "<Figure size 432x288 with 1 Axes>"
      ]
     },
     "metadata": {
      "needs_background": "light"
     },
     "output_type": "display_data"
    }
   ],
   "source": [
    "sns.boxplot(x='Sex', y='sexpartners', \n",
    "            data=idealpartner_data, notch=True)"
   ]
  },
  {
   "cell_type": "code",
   "execution_count": 11,
   "id": "4d7e61e2",
   "metadata": {},
   "outputs": [
    {
     "data": {
      "text/plain": [
       "Ttest_indResult(statistic=-4.888773377798691, pvalue=3.832050122430137e-06)"
      ]
     },
     "execution_count": 11,
     "metadata": {},
     "output_type": "execute_result"
    }
   ],
   "source": [
    "stats.ttest_ind(a=data_female[\"sexpartners\"], b=data_male[\"sexpartners\"], equal_var=False)"
   ]
  },
  {
   "cell_type": "markdown",
   "id": "5424bad6",
   "metadata": {},
   "source": [
    "##### Results indicate that men and women have a stated difference in the amount of sexual partners they wish to have in a lifetime, supporting the traditional dating paradigm.\n",
    "* While the traditional dating paradigm does not explicitly discuss ideal number of sexual partners as a point of reference for sex differences in mating preferences, we believe that the attribute of \"ideal number of sexual partners\" aligns with the paradigm's component of men valuing physical attractiveness more than women.\n",
    "* The analysis of this survey question supports the Eastwick and Finkel study and traditional dating paradigms."
   ]
  },
  {
   "cell_type": "markdown",
   "id": "2094ecc8",
   "metadata": {},
   "source": [
    "### Our analysis of the Ideal Partner dataset replicates the results found in the Eastwick and Finkel study as well as traditional dating paradigms which state sex differences in mating preferences.\n",
    "Subsequently, we wanted to look more on the behavior side to answer our second and third research questions on dating in the modern age."
   ]
  },
  {
   "cell_type": "markdown",
   "id": "94582490",
   "metadata": {},
   "source": [
    "# 2. What are the ways in which people interact through cell phones and social media when starting and ending relationships?"
   ]
  },
  {
   "cell_type": "markdown",
   "id": "01ab29c1",
   "metadata": {},
   "source": [
    "## The Pew Research Dataset\n"
   ]
  },
  {
   "cell_type": "markdown",
   "id": "0ff3c35d",
   "metadata": {},
   "source": [
    "Romantic relationships in the modern age have been heavily influenced by technology. It plays a distinct role in how teenagers ask each other out, break up, and interact during relationships. Teenagers now have many more options to choose from, such as social media, texting, calling, emailing, etc., when deciding how to interact with one another. \n"
   ]
  },
  {
   "cell_type": "markdown",
   "id": "2b65a4dc",
   "metadata": {},
   "source": [
    "### Data Analysis of Pew Research Dataset"
   ]
  },
  {
   "cell_type": "code",
   "execution_count": 12,
   "id": "469df044",
   "metadata": {},
   "outputs": [],
   "source": [
    "cleandating_df = pd.read_csv('../data/Clean Data/Sofi_Clean_Teen_Dating.csv')\n",
    "joy_df = pd.read_csv('../data/Clean Data/Joy_Clean_Teen_Dating.csv')\n",
    "cleandating_df['ID'] = joy_df['ID']\n",
    "merged_df = pd.merge(joy_df,cleandating_df, on='ID')\n",
    "mason_df = pd.read_csv('../data/Clean Data/Mason_Clean_Teen_Dating.csv')"
   ]
  },
  {
   "cell_type": "markdown",
   "id": "4511a3f2",
   "metadata": {},
   "source": [
    "### Analyzing How Teenagers Start a Relationship"
   ]
  },
  {
   "cell_type": "markdown",
   "id": "7c4c4d81",
   "metadata": {},
   "source": [
    "When looking at the survey question, \"What is the most appropriate way to ask your significant other out?\", the analysis was conducted by creating bar graphs for each sub section of the question. Results indicated that teenagers believe the most appropriate way to ask someone out is in-person."
   ]
  },
  {
   "cell_type": "code",
   "execution_count": 13,
   "id": "14cd1887",
   "metadata": {},
   "outputs": [
    {
     "data": {
      "image/png": "[encoded data removed]",
      "text/plain": [
       "<Figure size 432x288 with 1 Axes>"
      ]
     },
     "metadata": {
      "needs_background": "light"
     },
     "output_type": "display_data"
    }
   ],
   "source": [
    "child_gen_grouping = merged_df.groupby('Child_Gen2')\n",
    "askout_by_gender = child_gen_grouping['askout_inperson'].value_counts().unstack(level=0).round(2)\n",
    "askout_by_gender.plot(kind='bar')\n",
    "plt.ylabel('Count')\n",
    "plt.xlabel('Response')\n",
    "plt.title('Reponses to survey question \"If you want to ask someone out on a date, would you ask them in person?\"')\n",
    "plt.legend(title = 'Gender');"
   ]
  },
  {
   "cell_type": "markdown",
   "id": "4531adeb",
   "metadata": {},
   "source": [
    "However, as the bar graph displays, this question was controversial given that a little less than half of the respondents answered that they would not ask their partner out in person. Furthermore, when examining how gender factors into the participants' answers, it is clear that men are way more likely to ask the women out on a date, as they make up the majority of the population that answered the survey question with yes. According to a study conducted in the [Journal of Adolescent Health](https://www.sciencedirect.com/science/article/pii/S1054139X17301489), stereotypical gender norms about romantic relationships prevail across these cultural settings, depicting boys as romantically/sexuallyactive and dominant, and girls as innocent with less (romantic) agency.” Therefore, it makes sense that men are the ones who have more courage to ask out women in person."
   ]
  },
  {
   "cell_type": "markdown",
   "id": "3e9ce8ed",
   "metadata": {},
   "source": [
    "The second most appropriate option was to wait for the person to ask you, but the amount of respondents who said yes was significantly lower. Furthermore, as the bar graph displays, males are way less likely to wait for someone to ask them out in comparison to females. According to [Pyschology Today](https://www.psychologytoday.com/us/blog/the-how-and-why-sex-differences/201104/why-dont-women-ask-men-out-first-dates), \"men generally have done the asking for a first date, while women have generally given proceptive signals of interest or receptivity to such a request.\" Given the context provided, and how the results generated below replicate historic gender norms, it makes sense why men are less likely to wait for someone to ask them out."
   ]
  },
  {
   "cell_type": "code",
   "execution_count": 14,
   "id": "dc8a420f",
   "metadata": {},
   "outputs": [
    {
     "data": {
      "image/png": "[encoded data removed]",
      "text/plain": [
       "<Figure size 432x288 with 1 Axes>"
      ]
     },
     "metadata": {
      "needs_background": "light"
     },
     "output_type": "display_data"
    }
   ],
   "source": [
    "child_gen_grouping = merged_df.groupby('Child_Gen2')\n",
    "askoutwait_by_gender = child_gen_grouping['askout_wait'].value_counts().unstack(level=0).round(2)\n",
    "askoutwait_by_gender.plot(kind='bar')\n",
    "plt.ylabel('Count')\n",
    "plt.xlabel('Response')\n",
    "plt.title('Reponses to survey question \"If you want to ask someone out on a date, would you wait for them to ask you?\"')\n",
    "plt.legend(title = 'Gender');"
   ]
  },
  {
   "cell_type": "markdown",
   "id": "f5789809",
   "metadata": {},
   "source": [
    "On the other hand, the survey indicated that the options that involved asking someone out through the phone, or through social media, to be the least appropriate. Our interpretation of this is that this is the least interpersonal option, so people find it the least appropriate option as it lacks intimacy."
   ]
  },
  {
   "cell_type": "markdown",
   "id": "a5e80038",
   "metadata": {},
   "source": [
    "### Analyzing How Teenagers Act During a Relationship"
   ]
  },
  {
   "cell_type": "markdown",
   "id": "218b4943",
   "metadata": {},
   "source": [
    "When looking at the survey question “What is the most common way teens spend time with their significant other?”, the analysis was conducted by plotting bar graphs for each sub section of the question. Results indicated that teenagers talk to their significant other on the phone or through texting everyday. However, it should be noted that texting is the more popular option of the two. In terms of gender, men and female answered relatively the same."
   ]
  },
  {
   "cell_type": "code",
   "execution_count": 15,
   "id": "dc342971",
   "metadata": {},
   "outputs": [
    {
     "data": {
      "image/png": "[encoded data removed]",
      "text/plain": [
       "<Figure size 432x288 with 1 Axes>"
      ]
     },
     "metadata": {
      "needs_background": "light"
     },
     "output_type": "display_data"
    }
   ],
   "source": [
    "child_gen_grouping = merged_df.groupby('Child_Gen2')\n",
    "text_by_gender = child_gen_grouping['time_text'].value_counts().unstack(level=0).round(2)\n",
    "text_by_gender.plot(kind='bar')\n",
    "plt.ylabel('Count')\n",
    "plt.xlabel('Response')\n",
    "plt.title('Reponses to survey question \"How Often [Did/Do] You Spend Time With Your Significant Other Texting On The Phone?\"')\n",
    "plt.legend(title = 'Gender');"
   ]
  },
  {
   "cell_type": "code",
   "execution_count": 16,
   "id": "cb696cf2",
   "metadata": {},
   "outputs": [
    {
     "data": {
      "text/plain": [
       "NaN               1283\n",
       "everyday           141\n",
       "every_few_days     104\n",
       "less_often          70\n",
       "never               44\n",
       "Name: time_phone, dtype: int64"
      ]
     },
     "execution_count": 16,
     "metadata": {},
     "output_type": "execute_result"
    }
   ],
   "source": [
    "cleandating_df ['time_phone'].value_counts(dropna=False)"
   ]
  },
  {
   "cell_type": "markdown",
   "id": "b9dac73d",
   "metadata": {},
   "source": [
    "Furthermore, when referring to how much time people spend with their significant other outside of school, the majority chose the answers \"every few days\" or “less often.\" Our interpretation of this is that teenagers may not be able to spend much of their time together outside of school as they may be busy with their extracurriculars, or spending time with their friends and family. Therefore, this would make sense as to why teenagers spend time everyday talking to their significant other over the phone or through texting, as this is the second best option when you cannot be with someone in-person."
   ]
  },
  {
   "cell_type": "code",
   "execution_count": 17,
   "id": "dc19ba1f",
   "metadata": {},
   "outputs": [
    {
     "data": {
      "text/plain": [
       "NaN               1285\n",
       "every_few_days     142\n",
       "less_often          93\n",
       "everyday            75\n",
       "never               47\n",
       "Name: time_outsideschoool, dtype: int64"
      ]
     },
     "execution_count": 17,
     "metadata": {},
     "output_type": "execute_result"
    }
   ],
   "source": [
    "merged_df ['time_outsideschoool'].value_counts(dropna=False)"
   ]
  },
  {
   "cell_type": "markdown",
   "id": "abdf1315",
   "metadata": {},
   "source": [
    "Additionally, it was surprising to see that most teenagers answered the question \"How Often [Did/Do] You Spend Time With Your Significant Other Through Video Chat?\", with the most responses being \"never\", and the least responses being \"everyday.\" In terms of gender, men and female answered relatively the same. The results were shocking given that videochat is a great substitute to spending time with someone, as you can see their face and have a live conversation with this. However, our interpretation as to why this option is not more popular is that people do not have the time to facetime, or have personal reasons as to why they are interested in it.\n"
   ]
  },
  {
   "cell_type": "code",
   "execution_count": 18,
   "id": "2d43a3c4",
   "metadata": {},
   "outputs": [
    {
     "data": {
      "text/plain": [
       "NaN               1282\n",
       "never              164\n",
       "less_often          81\n",
       "every_few_days      76\n",
       "everyday            39\n",
       "Name: time_videochat, dtype: int64"
      ]
     },
     "execution_count": 18,
     "metadata": {},
     "output_type": "execute_result"
    }
   ],
   "source": [
    "cleandating_df['time_videochat'].value_counts(dropna=False)"
   ]
  },
  {
   "cell_type": "markdown",
   "id": "fc8ede49",
   "metadata": {},
   "source": [
    "Overall, it is interesting to note how asking someone out through the phone was the least common option, but this is how couples spend most of their time together. Therefore, this provides a nuanced insight about human behavior. Even though in the modern age people have geared more towards using technology, there are still lines we draw in terms of intimacy and genuine interactions."
   ]
  },
  {
   "cell_type": "markdown",
   "id": "689a8a47",
   "metadata": {},
   "source": [
    "##### Limitations"
   ]
  },
  {
   "cell_type": "markdown",
   "id": "06336bd3",
   "metadata": {},
   "source": [
    "One crucial factor to point out is that the survey size was different for each question, given that people often refused to answer the question, or opted out of answering it. Therefore, the answers are not completely accurate, but they provide a general idea of how the majority of teenagers act in regards to relationships."
   ]
  },
  {
   "cell_type": "markdown",
   "id": "165c9eb9",
   "metadata": {},
   "source": [
    "### Analyzing How Teenagers Act During the End of a Relationship"
   ]
  },
  {
   "cell_type": "markdown",
   "id": "3ad4cfa4",
   "metadata": {},
   "source": [
    "Interestingly, teenagers overwhelmingly prefer to communicate in-person when ending a relationship. The vast majority of teenagers find it to be the most acceptable method of breaking up. Conversely, more novel/technological methods, such as changing your relationship status on social media, were often perceived as incredibly inappropriate. Although teenagers have more tools on hand to navigate the ending of modern relationships, they still prefer to use more traditional forms of communciation. "
   ]
  },
  {
   "cell_type": "code",
   "execution_count": 19,
   "id": "7ff33859",
   "metadata": {},
   "outputs": [
    {
     "data": {
      "image/png": "[encoded data removed]",
      "text/plain": [
       "<Figure size 432x288 with 1 Axes>"
      ]
     },
     "metadata": {
      "needs_background": "light"
     },
     "output_type": "display_data"
    }
   ],
   "source": [
    "neg_rf = joy_df[['accbu_inperson','accbu_smstatus','accbu_phone']] == -1.0\n",
    "accbu_inperson_rep = joy_df[-neg_rf]['accbu_inperson'].value_counts().sort_index()\n",
    "accbu_inperson_rep.plot(kind='bar')\n",
    "plt.title('How acceptable is it to break up with someone in person? (1.0 = least acceptable, 10.0 = most acceptable)')\n",
    "plt.ylabel('Count')\n",
    "plt.xlabel('Rating');"
   ]
  },
  {
   "cell_type": "code",
   "execution_count": 20,
   "id": "38dd6903",
   "metadata": {},
   "outputs": [
    {
     "data": {
      "image/png": "[encoded data removed]",
      "text/plain": [
       "<Figure size 432x288 with 1 Axes>"
      ]
     },
     "metadata": {
      "needs_background": "light"
     },
     "output_type": "display_data"
    }
   ],
   "source": [
    "accbu_smstatus_rep = joy_df[-neg_rf]['accbu_smstatus'].value_counts().sort_index()\n",
    "accbu_smstatus_rep.plot(kind='bar')\n",
    "plt.title('How acceptable is it to break up with someone by changing your social media status to \"single\"? (1.0 = least acceptable, 10.0 = most acceptable)')\n",
    "plt.ylabel('Count')\n",
    "plt.xlabel('Rating');"
   ]
  },
  {
   "cell_type": "markdown",
   "id": "8daaacdf",
   "metadata": {},
   "source": [
    "These views stayed pretty consistent across different demographic categories. Lesbian, gay, and transgender teenagers did tend to not value breaking up in-person as much as other gender and sexuality identities but even within these groups clear majorities still ranked breaking up in person as the most acceptable method."
   ]
  },
  {
   "cell_type": "code",
   "execution_count": 21,
   "id": "b3327410",
   "metadata": {},
   "outputs": [
    {
     "data": {
      "image/png": "[encoded data removed]",
      "text/plain": [
       "<Figure size 432x288 with 1 Axes>"
      ]
     },
     "metadata": {
      "needs_background": "light"
     },
     "output_type": "display_data"
    }
   ],
   "source": [
    "trans_group = joy_df.groupby('Transgender2')\n",
    "accbu_inperson_by_trans = trans_group['accbu_inperson'].value_counts(normalize=True).unstack(level=0).round(2)\n",
    "accbu_inperson_by_trans.plot(kind='bar')\n",
    "plt.title('How acceptable is it to break up with someone in person? (1.0 = least acceptable, 10.0 = most acceptable)')\n",
    "plt.ylabel('Percentage')\n",
    "plt.xlabel('Rating')\n",
    "plt.legend(title = 'Are you transgender?');"
   ]
  },
  {
   "cell_type": "code",
   "execution_count": 22,
   "id": "e6208d59",
   "metadata": {},
   "outputs": [
    {
     "data": {
      "image/png": "[encoded data removed]",
      "text/plain": [
       "<Figure size 432x288 with 1 Axes>"
      ]
     },
     "metadata": {
      "needs_background": "light"
     },
     "output_type": "display_data"
    }
   ],
   "source": [
    "sexuality_group = joy_df.groupby('Sexuality2')\n",
    "accbu_inperson_by_sexuality = sexuality_group['accbu_inperson'].value_counts(normalize=True).unstack(level=0).round(2)\n",
    "accbu_inperson_by_sexuality.plot(kind='bar')\n",
    "plt.title('How acceptable is it to break up with someone in person? (1.0 = least acceptable, 10.0 = most acceptable)')\n",
    "plt.ylabel('Percentage')\n",
    "plt.xlabel('Rating')\n",
    "plt.legend(title = 'Sexuality');"
   ]
  },
  {
   "cell_type": "markdown",
   "id": "025dd050",
   "metadata": {},
   "source": [
    "##### Approximately half of the teenagers who identified as gay or lesbian in our sample rated breaking up in person as either a 1 (least acceptable) or a 8 (acceptable). \n"
   ]
  },
  {
   "cell_type": "markdown",
   "id": "b961b402",
   "metadata": {},
   "source": [
    "For the most part, teenagers share very similar views on the acceptability of different break up methods. The only method where teenagers share differing views is breaking up by phone. There is so much variance concerning the acceptbaility of breaking up by phone that is difficult to come to a clear conclusion on how teenagers feel by solely looking at our data. The average and median ranking was 5 but a plurality (40%) of teenagers ranked this option at 1. A meaningful amount of teenagers also consider it acceptable.\n",
    "\n",
    "It is possible that the existence of long-distance and/or toxic relationships is what causes this variance to emerge. [People in general](https://www.pewresearch.org/internet/2015/10/01/after-the-relationship-technology-and-breakups/) tend to perceive breaking up by phone as appropriate when breaking up in person is not a viable option. "
   ]
  },
  {
   "cell_type": "code",
   "execution_count": 23,
   "id": "e762e9f8",
   "metadata": {},
   "outputs": [
    {
     "data": {
      "image/png": "[encoded data removed]",
      "text/plain": [
       "<Figure size 432x288 with 1 Axes>"
      ]
     },
     "metadata": {
      "needs_background": "light"
     },
     "output_type": "display_data"
    }
   ],
   "source": [
    "accbu_phone_rep = joy_df[-neg_rf]['accbu_phone'].value_counts().sort_index()\n",
    "accbu_phone_rep.plot(kind='bar')\n",
    "plt.title('How acceptable is it to break up with someone by phone? (1.0 = least acceptable, 10.0 = most acceptable)')\n",
    "plt.ylabel('Count')\n",
    "plt.xlabel('Rating');"
   ]
  },
  {
   "cell_type": "markdown",
   "id": "613eefcc",
   "metadata": {},
   "source": [
    "However, personal experiences can play a role in changing what teenagers perceive as appropriate. For example, the vast majority of teenagers in our sample believe breaking up through text is very inappropriate and less than 30% of them have used this method. Yet, when we solely look at those who have been on the receiving end of a break up text we find that a slight majority have also used this method on other people. This increase in \"inappropriate\" behavior does not extend to other unacceptable break up methods. "
   ]
  },
  {
   "cell_type": "code",
   "execution_count": 24,
   "id": "a633da1c",
   "metadata": {},
   "outputs": [
    {
     "data": {
      "image/png": "[encoded data removed]",
      "text/plain": [
       "<Figure size 432x288 with 1 Axes>"
      ]
     },
     "metadata": {
      "needs_background": "light"
     },
     "output_type": "display_data"
    }
   ],
   "source": [
    "joy_df['bu_text2'].value_counts(normalize=True).plot(kind = 'bar')\n",
    "plt.title('Have you ever broken up with someone by text?')\n",
    "plt.xlabel('Response')\n",
    "plt.ylabel('Count');"
   ]
  },
  {
   "cell_type": "code",
   "execution_count": 25,
   "id": "1c381bcd",
   "metadata": {},
   "outputs": [
    {
     "data": {
      "image/png": "[encoded data removed]",
      "text/plain": [
       "<Figure size 432x288 with 1 Axes>"
      ]
     },
     "metadata": {
      "needs_background": "light"
     },
     "output_type": "display_data"
    }
   ],
   "source": [
    "dump_text2_rf = joy_df['dump_text2'] == 'Yes'\n",
    "joy_df[dump_text2_rf]['bu_text2'].value_counts(ascending=True, normalize=True).plot(kind = 'bar')\n",
    "plt.title('Given that you have been broken up by text, have you ever broken up with someone by text?')\n",
    "plt.xlabel('Response')\n",
    "plt.ylabel('Percentage');"
   ]
  },
  {
   "cell_type": "markdown",
   "id": "6489c8c8",
   "metadata": {},
   "source": [
    "# 3. Do people feel like they can create meaningful bonds in their relationships through social media and cell phones? "
   ]
  },
  {
   "cell_type": "markdown",
   "id": "9c5f7cb1",
   "metadata": {},
   "source": [
    "It is clear that texting and social media has a relatively important role in teenagers' lives, especially as it relates to creating romantic relationships. That being said, it is important to understand the manners in which social media and other mediums such as texting impact whether or not teenagers are able to form meaningful bonds with their partners or significant others. In particular, such an analysis yields a few interesting conclusions, and makes clear that there is both a difference between how adolescents view social media and texting in terms of their relationships, while simultaneously revealing a dichotomy between personal vs. impersonal interpretations of these mediums."
   ]
  },
  {
   "cell_type": "markdown",
   "id": "01f63f27",
   "metadata": {},
   "source": [
    "It is first important to understand whether or not people believe that, in general, they are able to form strong bonds with their partners through virtual means. "
   ]
  },
  {
   "cell_type": "code",
   "execution_count": 26,
   "id": "dfc42249",
   "metadata": {},
   "outputs": [],
   "source": [
    "mappingpknowledge_cnct = {'1':'a lot', '2':'a little', '3':'no', '4': 'DNA', '5': 'refused', '0':None, 'NaN': None, '':None, '-1':None}\n",
    "mason_df['sm_feel_connected'] = mason_df['sm_feel_connected'].map(mappingpknowledge_cnct)"
   ]
  },
  {
   "cell_type": "code",
   "execution_count": 27,
   "id": "c2ff8c86",
   "metadata": {},
   "outputs": [
    {
     "data": {
      "text/plain": [
       "a little    139\n",
       "no          112\n",
       "a lot        44\n",
       "DNA          21\n",
       "refused       1\n",
       "Name: sm_feel_connected, dtype: int64"
      ]
     },
     "execution_count": 27,
     "metadata": {},
     "output_type": "execute_result"
    }
   ],
   "source": [
    "mason_df ['sm_feel_connected'].value_counts(dropna=True)"
   ]
  },
  {
   "cell_type": "markdown",
   "id": "e7e9350d",
   "metadata": {},
   "source": [
    "In response to the question as to whether or not social media makes adolescents feel more connected with their partners, approximately 47% of respondents claimed that they felt \"a little\" more connected, while 62% indicated that they felt either \"a little\" or \"a lot\" more connected. With this in mind, it can be understood that the impact of social media on making partners more connected is minimal, with the overwhelming majority of respondents claiming that they either only felt \"a little\" more connected with their partner through social media or that they did not feel any more connected whatsoever. Being connected, however, does not have a particularly strong correlation with whether or not adolescents actually feel closer with one another. In other words, social media might be a vehicle through which people can connect, but not a medium by which they can grow closer, as can be seen below."
   ]
  },
  {
   "cell_type": "code",
   "execution_count": 28,
   "id": "0232274d",
   "metadata": {},
   "outputs": [],
   "source": [
    "mason_df['sm_feel_closer'] = mason_df['sm_feel_closer'].map(mappingpknowledge_cnct)"
   ]
  },
  {
   "cell_type": "code",
   "execution_count": 29,
   "id": "5ec99e4f",
   "metadata": {},
   "outputs": [
    {
     "data": {
      "text/plain": [
       "no          156\n",
       "a little    105\n",
       "a lot        34\n",
       "DNA          23\n",
       "Name: sm_feel_closer, dtype: int64"
      ]
     },
     "execution_count": 29,
     "metadata": {},
     "output_type": "execute_result"
    }
   ],
   "source": [
    "mason_df ['sm_feel_closer'].value_counts(dropna=True)"
   ]
  },
  {
   "cell_type": "markdown",
   "id": "248be13b",
   "metadata": {},
   "source": [
    "As shown above, over half of adolescents, in response to whether or not social media actually makes people closer with their partners, answered that there they felt no closer to their significant others, indicating that social media's ability to connect people does not inherently manifest this connection as meaningful, and in many cases adolescents feel no closer with significant others as a result of social media, implying that the aforementioned \"connection\" is a superficial, relatively hollow association. And yet, this is not the case when the respondents were asked similar questions regarding texting as it relates to how meaningful their relationship was, indicating a notable difference between social media and more personal communication mediums like texting. "
   ]
  },
  {
   "cell_type": "code",
   "execution_count": 30,
   "id": "40a8dfd7",
   "metadata": {},
   "outputs": [],
   "source": [
    "mappingpknowledge_yesno = {'1':'yes', '2':'no', '3':'refused', '4': 'strongly disagree', '59': 'refused', '0':None, 'NaN': None, '71':None, '22':None}\n",
    "mason_df['closer_text'] = mason_df['closer_text'].map(mappingpknowledge_yesno)"
   ]
  },
  {
   "cell_type": "code",
   "execution_count": 31,
   "id": "c0d6c77f",
   "metadata": {},
   "outputs": [
    {
     "data": {
      "image/png": "[encoded data removed]",
      "text/plain": [
       "<Figure size 432x288 with 1 Axes>"
      ]
     },
     "metadata": {
      "needs_background": "light"
     },
     "output_type": "display_data"
    }
   ],
   "source": [
    "mason_df['closer_text'].replace(' ', np.nan, inplace=True)\n",
    "closer_text_rf = mason_df['closer_text'].isna()\n",
    "mason_df[-closer_text_rf]['closer_text'].value_counts().plot(kind='bar')\n",
    "plt.title('Have You Felt Closer to Your Significant Other Because of Conversations had Through Text')\n",
    "plt.xlabel('Yes or No?');"
   ]
  },
  {
   "cell_type": "markdown",
   "id": "90973cee",
   "metadata": {},
   "source": [
    "Nearly twice as many respondents indicated that they felt closer to their partner as a direct result of texting, which, when juxtaposed with how close people believed they were due to social media, makes clear that many view texting as a more meaningful mode of communication. Though social media might have the potential to connect adolescents with others, the sincerity of those questions simply do not compare with those from texting or direct lines of communication.\n",
    "\n",
    "However, this theme is not nearly as well observed when discussing more difficult aspects of relationships, such as the resolution of arguments."
   ]
  },
  {
   "cell_type": "code",
   "execution_count": 32,
   "id": "880db6bb",
   "metadata": {},
   "outputs": [],
   "source": [
    "mason_df['argument_resolve_text'] = mason_df['argument_resolve_text'].map(mappingpknowledge_yesno)"
   ]
  },
  {
   "cell_type": "code",
   "execution_count": 33,
   "id": "e53d8755",
   "metadata": {},
   "outputs": [
    {
     "data": {
      "image/png": "[encoded data removed]",
      "text/plain": [
       "<Figure size 432x288 with 1 Axes>"
      ]
     },
     "metadata": {
      "needs_background": "light"
     },
     "output_type": "display_data"
    }
   ],
   "source": [
    "mason_df['argument_resolve_text'].replace(' ', np.nan, inplace=True)\n",
    "argument_rf = mason_df['argument_resolve_text'].isna()\n",
    "mason_df[-argument_rf]['argument_resolve_text'].value_counts().plot(kind='bar')\n",
    "plt.title('Have You Been Able to Resolve an Argument With Your Significant Through Texting')\n",
    "plt.xlabel('Yes or No?');"
   ]
  },
  {
   "cell_type": "markdown",
   "id": "8f634717",
   "metadata": {},
   "source": [
    "Thus, though people believe that they are brought closer together as a result of texting, they concurrently are under the impression that they are unable to come to amicable solutions to arguments through the medium, suggesting a slight dichotmoy in which adolescents appear relatively unclear as to how strong their relationships are via text. It is important to note, however, that the number of youths who answered they had not been able to resolve arguments through texting was only slightly larger than those who indicated that they were able to solve these types of disagreements. As such, it would be difficult to discount the evidence that texting, in general, is a more interpersonal technology that can form stronger bonds between those involved in a romantic relationship.\n",
    "\n",
    "And yet, this dichotomy is not isolated. There is clear evidence that adolescents exhibit contrasting beliefs when discussing personal and impersonal experiences through social media and texting. One such example of one of these dichotomies is in reference to how often teenagers expect their partner to communicate with them vs. how much they believe their significant other expects reciprocal correspondence."
   ]
  },
  {
   "cell_type": "code",
   "execution_count": 34,
   "id": "ff2caad2",
   "metadata": {},
   "outputs": [],
   "source": [
    "mappingpknowledge_freq = {'1':'hourly', '2':'few_hours', '3':'daily', '4': 'few_times_week', '5': 'weekly', '6': 'less_often', '0':None, 'NaN': None, '':None, '-1':None}\n",
    "mason_df['hear_frequency'] = mason_df['hear_frequency'].map(mappingpknowledge_freq)"
   ]
  },
  {
   "cell_type": "code",
   "execution_count": 35,
   "id": "ef214b13",
   "metadata": {
    "scrolled": false
   },
   "outputs": [
    {
     "data": {
      "text/plain": [
       "daily             132\n",
       "few_hours         126\n",
       "few_times_week     45\n",
       "hourly             43\n",
       "less_often         12\n",
       "weekly              1\n",
       "Name: hear_frequency, dtype: int64"
      ]
     },
     "execution_count": 35,
     "metadata": {},
     "output_type": "execute_result"
    }
   ],
   "source": [
    "mason_df ['hear_frequency'].value_counts(dropna=True)"
   ]
  },
  {
   "cell_type": "markdown",
   "id": "2621aa47",
   "metadata": {},
   "source": [
    "Most often (approximately 37% of the time), people expect to hear from their significant other daily, although there is a significant portion of respondents who believe that the frequency should be every few hours. Though this seems logical, and it would follow that adolescents have the same expectations with respect to how often they believe their significant other expects to hear from them, this is not the case: rather, the most popular two responses are inverted."
   ]
  },
  {
   "cell_type": "code",
   "execution_count": 36,
   "id": "110602e7",
   "metadata": {},
   "outputs": [],
   "source": [
    "mason_df['hear_from_you_frequency'] = mason_df['hear_from_you_frequency'].map(mappingpknowledge_freq)"
   ]
  },
  {
   "cell_type": "code",
   "execution_count": 37,
   "id": "9f3db7e4",
   "metadata": {},
   "outputs": [
    {
     "data": {
      "text/plain": [
       "few_hours         139\n",
       "daily             121\n",
       "hourly             51\n",
       "few_times_week     38\n",
       "less_often         12\n",
       "weekly              1\n",
       "Name: hear_from_you_frequency, dtype: int64"
      ]
     },
     "execution_count": 37,
     "metadata": {},
     "output_type": "execute_result"
    }
   ],
   "source": [
    "mason_df['hear_from_you_frequency'].value_counts(dropna=True)"
   ]
  },
  {
   "cell_type": "markdown",
   "id": "ba580899",
   "metadata": {},
   "source": [
    "The change is not massive (37% vs. 38%), but it is without question that people believe there to be an increased pressure on themselves to communicate more frequently than they expect partners to communicate with them. The reason for this dichotomy is difficult to determine, as there are many potential outside factors that could influence such beliefs. Even so, being under the impression that more is expected of oneself than they expect of others can be the root that leads to a host of different types of unhealthy thinking, and it is not difficult to imagine how this might result in unsubstantiated resentment towards one's partner.\n",
    "\n",
    "Another dichotomy that must be examined relates to the aforementioned benefits and detriments to the involvement of social media in relationships. It has been established that the connections created through social media, while they do exist, are often more superficial than relationships formed through other mediums. And yet, respondents do not necessarily appreciate this as being the case when discussing other people’s ability to view their relationship through social media itself."
   ]
  },
  {
   "cell_type": "code",
   "execution_count": 38,
   "id": "d66554ee",
   "metadata": {},
   "outputs": [],
   "source": [
    "mappingpknowledge_side = {'1':'strongly agree', '2':'agree', '3':'disagree', '4': 'strongly disagree', '59': 'refused', '0':None, 'NaN': None, '71':None, '22':None}\n",
    "mason_df['sm_too_many'] = mason_df['sm_too_many'].map(mappingpknowledge_side)"
   ]
  },
  {
   "cell_type": "code",
   "execution_count": 39,
   "id": "4e74c942",
   "metadata": {
    "scrolled": true
   },
   "outputs": [
    {
     "data": {
      "text/plain": [
       "agree                155\n",
       "disagree              99\n",
       "strongly agree        55\n",
       "strongly disagree      8\n",
       "Name: sm_too_many, dtype: int64"
      ]
     },
     "execution_count": 39,
     "metadata": {},
     "output_type": "execute_result"
    }
   ],
   "source": [
    "mason_df ['sm_too_many'].value_counts(dropna=True)"
   ]
  },
  {
   "cell_type": "code",
   "execution_count": 40,
   "id": "948acc84",
   "metadata": {},
   "outputs": [],
   "source": [
    "mason_df['sm_support_rel_end'] = mason_df['sm_support_rel_end'].map(mappingpknowledge_side)"
   ]
  },
  {
   "cell_type": "code",
   "execution_count": 41,
   "id": "2f192fd0",
   "metadata": {},
   "outputs": [
    {
     "data": {
      "text/plain": [
       "agree                174\n",
       "disagree             105\n",
       "strongly agree        27\n",
       "strongly disagree     12\n",
       "Name: sm_support_rel_end, dtype: int64"
      ]
     },
     "execution_count": 41,
     "metadata": {},
     "output_type": "execute_result"
    }
   ],
   "source": [
    "mason_df ['sm_support_rel_end'].value_counts(dropna=True)"
   ]
  },
  {
   "cell_type": "code",
   "execution_count": 42,
   "id": "948bf80a",
   "metadata": {},
   "outputs": [],
   "source": [
    "mason_df['sm_post_support'] = mason_df['sm_post_support'].map(mappingpknowledge_side)"
   ]
  },
  {
   "cell_type": "code",
   "execution_count": 43,
   "id": "3539221b",
   "metadata": {},
   "outputs": [
    {
     "data": {
      "text/plain": [
       "strongly agree    229\n",
       "agree              84\n",
       "Name: sm_post_support, dtype: int64"
      ]
     },
     "execution_count": 43,
     "metadata": {},
     "output_type": "execute_result"
    }
   ],
   "source": [
    "mason_df ['sm_post_support'].value_counts(dropna=True)"
   ]
  },
  {
   "cell_type": "markdown",
   "id": "af95b5a5",
   "metadata": {},
   "source": [
    "Strangely, adolescents have many conflicting beliefs about social media in this regard. As shown before, even though the respondents subliminally acknowledge the surface-level nature of social media in relationships, they simultaneously believe that they are not only able to support the relationships of their friends through social media, with 73% of adolescents claiming that they support their friends' relationships, and 63% acknowledging that they show support through social media when friends' relationships ende. Moreover, 66% of teenagers believe that too many people are able to view their relationships as a result of social media. This is an interesting contradiction, as it serves as a collocation between people viewing social media as both too superficial but too intensive with regard to showing their personal experiences, further supporting the theme of adolescent dichotomies between the personal and the impersonal.\n",
    "\n",
    "With all of these statistics and dichotomies in mind, it is thus necessary to examine the ways in which they fit together so as to understand a comprehensive picture of the role that technology plays in the dating lives of teenagers. The conclusions are clear: technology plays an integral role in how adolescents interact at the beginning, during, and at the end of their relationships. Though there are connections to be made through social media, these bonds are not nearly as meaningful as those created through texting, videochat, and other, more personal modes of technological communication. However, the impact of social media is slightly confusing, even for the teenagers themselves. Though they believe that it is an effective vehicle through which to support others' relationships, they are under the impression that it gives too many people insight into their personal relationships themselves. As discussed, the root of this dichtomoy is difficult to diagnose given the array of outside factors that might impact how they view social media. What is indisputable, however, is that the dating lives of teenagers have changed such that technology is an integral part of bonding. It will be interesting to see how this trend continues to progress in the generations that follow."
   ]
  }
 ],
 "metadata": {
  "kernelspec": {
   "display_name": "Python 3 (COMM318)",
   "language": "python",
   "name": "python3"
  },
  "language_info": {
   "codemirror_mode": {
    "name": "ipython",
    "version": 3
   },
   "file_extension": ".py",
   "mimetype": "text/x-python",
   "name": "python",
   "nbconvert_exporter": "python",
   "pygments_lexer": "ipython3",
   "version": "3.8.8"
  }
 },
 "nbformat": 4,
 "nbformat_minor": 5
}
