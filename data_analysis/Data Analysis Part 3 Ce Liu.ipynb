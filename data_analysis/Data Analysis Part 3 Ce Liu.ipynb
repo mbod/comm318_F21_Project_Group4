{
 "cells": [
  {
   "cell_type": "markdown",
   "id": "30ad0267",
   "metadata": {},
   "source": [
    "This notebook will build out what an average ideal significant other looks like to a male, female, liberal and conservative."
   ]
  },
  {
   "cell_type": "code",
   "execution_count": 30,
   "id": "fbb5c7b2",
   "metadata": {},
   "outputs": [],
   "source": [
    "import pandas as pd\n",
    "import matplotlib.pyplot as plt\n",
    "import seaborn as sns \n",
    "import numpy as np\n",
    "import scipy.stats as stats\n",
    "import statsmodels.stats as smstats\n",
    "import statsmodels.formula.api as smf\n",
    "from statsmodels.multivariate import factor as smfactor\n",
    "import scipy.cluster.hierarchy as shc"
   ]
  },
  {
   "cell_type": "code",
   "execution_count": 31,
   "id": "d64d4bb0",
   "metadata": {},
   "outputs": [],
   "source": [
    "data_clean = pd.read_csv('../data/Judy_PSYC_dataset_clean.csv')"
   ]
  },
  {
   "cell_type": "markdown",
   "id": "e90574e3",
   "metadata": {},
   "source": [
    "Separating attributes into general traits."
   ]
  },
  {
   "cell_type": "code",
   "execution_count": 32,
   "id": "fbf50081",
   "metadata": {},
   "outputs": [
    {
     "data": {
      "image/png": "[encoded data removed]",
      "text/plain": [
       "<Figure size 576x360 with 1 Axes>"
      ]
     },
     "metadata": {
      "needs_background": "light"
     },
     "output_type": "display_data"
    }
   ],
   "source": [
    "trait_df = data_clean.iloc[:,:10]\n",
    "\n",
    "features = trait_df.T\n",
    "labels = features.index\n",
    "\n",
    "plt.figure(figsize=(8, 5))\n",
    "plt.title(\"Trait Dendogram\")\n",
    "dend = shc.dendrogram(shc.linkage(features, method='ward'), \n",
    "                      labels=labels)\n",
    "\n",
    "plt.xticks(rotation = 90) # Rotates X-Axis Ticks by 45-degrees\n",
    "plt.show()"
   ]
  },
  {
   "cell_type": "markdown",
   "id": "d3e58c57",
   "metadata": {},
   "source": [
    "What does an ideal partner look like to a male respondent?"
   ]
  },
  {
   "cell_type": "code",
   "execution_count": 16,
   "id": "6e3b9071",
   "metadata": {},
   "outputs": [],
   "source": [
    "male_filter = data_clean[\"Sex\"] == \"male\"\n",
    "data_male = data_clean[male_filter]"
   ]
  },
  {
   "cell_type": "code",
   "execution_count": 28,
   "id": "15210496",
   "metadata": {},
   "outputs": [
    {
     "name": "stdout",
     "output_type": "stream",
     "text": [
      "The ideal woman from a man's perspective is 64.86 important for attractiveness in body.\n",
      "The ideal woman from a man's perspective is 65.11 important for attractiveness in face.\n",
      "The ideal woman from a man's perspective is 62.32 important for fidelity.\n",
      "The ideal woman from a man's perspective is 61.14 important for intelligence.\n",
      "The ideal woman from a man's perspective is 56.32 important for kindess.\n",
      "The ideal woman from a man's perspective is 51.42 important for sense of humor.\n",
      "The ideal woman from a man's perspective is 30.9 important for sensitivity.\n",
      "The ideal woman from a man's perspective is 43.7 important for having good sexual skills.\n",
      "The ideal woman from a man's perspective is 47.9 important for having shared values.\n",
      "The ideal woman from a man's perspective is 16.32 important for having wealth.\n"
     ]
    }
   ],
   "source": [
    "print(\"The ideal woman from a man's perspective is\", round (data_male[\"Body\"].mean(),2), \"important for attractiveness in body.\")\n",
    "print(\"The ideal woman from a man's perspective is\", round (data_male[\"Face\"].mean(),2), \"important for attractiveness in face.\")\n",
    "print(\"The ideal woman from a man's perspective is\", round (data_male[\"Fidelity\"].mean(),2), \"important for fidelity.\")\n",
    "print(\"The ideal woman from a man's perspective is\", round (data_male[\"Intelligence\"].mean(),2), \"important for intelligence.\")\n",
    "print(\"The ideal woman from a man's perspective is\", round (data_male[\"Kindness\"].mean(),2), \"important for kindess.\")\n",
    "print(\"The ideal woman from a man's perspective is\", round (data_male[\"Senseofhumor\"].mean(),2), \"important for sense of humor.\")\n",
    "print(\"The ideal woman from a man's perspective is\", round (data_male[\"Sensitivity\"].mean(),2), \"important for sensitivity.\")\n",
    "print(\"The ideal woman from a man's perspective is\", round (data_male[\"Sexualskill\"].mean(),2), \"important for having good sexual skills.\")\n",
    "print(\"The ideal woman from a man's perspective is\", round (data_male[\"Sharedvalues\"].mean(),2), \"important for having shared values.\")\n",
    "print(\"The ideal woman from a man's perspective is\", round (data_male[\"Wealth\"].mean(),2), \"important for having wealth.\")\n"
   ]
  },
  {
   "cell_type": "markdown",
   "id": "9745168d",
   "metadata": {},
   "source": [
    "To standardize these numbers across the 10 attributes:"
   ]
  },
  {
   "cell_type": "code",
   "execution_count": 46,
   "id": "6ca9923b",
   "metadata": {},
   "outputs": [
    {
     "name": "stdout",
     "output_type": "stream",
     "text": [
      "Overall, men care about superficial qualities such as attractiveness in body, face, and sexual skills 57.89 much.\n"
     ]
    }
   ],
   "source": [
    "print (\"Overall, men care about superficial qualities such as attractiveness in body, face, and sexual skills\", \n",
    "       round (((data_male[\"Body\"].mean()+ data_male[\"Face\"].mean() + data_male[\"Sexualskill\"].mean())/3),2), \"much.\")"
   ]
  },
  {
   "cell_type": "code",
   "execution_count": 50,
   "id": "55c4a1ff",
   "metadata": {},
   "outputs": [
    {
     "name": "stdout",
     "output_type": "stream",
     "text": [
      "Overall, men care about substantive qualities such as fidelity, intelligence, kindness, and sense of humor 55.82 much.\n"
     ]
    }
   ],
   "source": [
    "print (\"Overall, men care about substantive qualities such as fidelity, intelligence, kindness, and sense of humor\", round (((data_male[\"Fidelity\"].mean()+ data_male[\"Sharedvalues\"].mean() + data_male[\"Senseofhumor\"].mean()) + data_male[\"Intelligence\"].mean()+ data_male[\"Kindness\"].mean())/5,2), \"much.\")"
   ]
  },
  {
   "cell_type": "markdown",
   "id": "5ec25e3e",
   "metadata": {},
   "source": [
    "What does an ideal partner look like to a female respondent?"
   ]
  },
  {
   "cell_type": "code",
   "execution_count": 51,
   "id": "7622daa0",
   "metadata": {},
   "outputs": [],
   "source": [
    "female_filter = data_clean[\"Sex\"] == \"female\"\n",
    "data_female = data_clean[female_filter]"
   ]
  },
  {
   "cell_type": "code",
   "execution_count": 52,
   "id": "c5b819e4",
   "metadata": {},
   "outputs": [
    {
     "name": "stdout",
     "output_type": "stream",
     "text": [
      "The ideal man from a woman's perspective is 39.12 important for attractiveness in body.\n",
      "The ideal man from a woman's perspective is 47.15 important for attractiveness in face.\n",
      "The ideal man from a woman's perspective is 62.63 important for fidelity.\n",
      "The ideal man from a woman's perspective is 68.62 important for intelligence.\n",
      "The ideal man from a woman's perspective is 61.62 important for kindess.\n",
      "The ideal man from a woman's perspective is 56.61 important for sense of humor.\n",
      "The ideal man from a woman's perspective is 34.81 important for sensitivity.\n",
      "The ideal man from a woman's perspective is 39.96 important for having good sexual skills.\n",
      "The ideal man from a woman's perspective is 56.99 important for having shared values.\n",
      "The ideal man from a woman's perspective is 32.49 important for having wealth.\n"
     ]
    }
   ],
   "source": [
    "print(\"The ideal man from a woman's perspective is\", round (data_female[\"Body\"].mean(),2), \"important for attractiveness in body.\")\n",
    "print(\"The ideal man from a woman's perspective is\", round (data_female[\"Face\"].mean(),2), \"important for attractiveness in face.\")\n",
    "print(\"The ideal man from a woman's perspective is\", round (data_female[\"Fidelity\"].mean(),2), \"important for fidelity.\")\n",
    "print(\"The ideal man from a woman's perspective is\", round (data_female[\"Intelligence\"].mean(),2), \"important for intelligence.\")\n",
    "print(\"The ideal man from a woman's perspective is\", round (data_female[\"Kindness\"].mean(),2), \"important for kindess.\")\n",
    "print(\"The ideal man from a woman's perspective is\", round (data_female[\"Senseofhumor\"].mean(),2), \"important for sense of humor.\")\n",
    "print(\"The ideal man from a woman's perspective is\", round (data_female[\"Sensitivity\"].mean(),2), \"important for sensitivity.\")\n",
    "print(\"The ideal man from a woman's perspective is\", round (data_female[\"Sexualskill\"].mean(),2), \"important for having good sexual skills.\")\n",
    "print(\"The ideal man from a woman's perspective is\", round (data_female[\"Sharedvalues\"].mean(),2), \"important for having shared values.\")\n",
    "print(\"The ideal man from a woman's perspective is\", round (data_female[\"Wealth\"].mean(),2), \"important for having wealth.\")"
   ]
  },
  {
   "cell_type": "code",
   "execution_count": 53,
   "id": "53ff23ce",
   "metadata": {},
   "outputs": [
    {
     "name": "stdout",
     "output_type": "stream",
     "text": [
      "Overall, women care about superficial qualities such as attractiveness in body, face, and sexual skills 42.07 much.\n"
     ]
    }
   ],
   "source": [
    "print (\"Overall, women care about superficial qualities such as attractiveness in body, face, and sexual skills\", \n",
    "       round (((data_female[\"Body\"].mean()+ data_female[\"Face\"].mean() + data_female[\"Sexualskill\"].mean())/3),2), \"much.\")"
   ]
  },
  {
   "cell_type": "code",
   "execution_count": 54,
   "id": "05bd5b63",
   "metadata": {},
   "outputs": [
    {
     "name": "stdout",
     "output_type": "stream",
     "text": [
      "Overall, women care about substantive qualities such as fidelity, intelligence, kindness, and sense of humor 61.29 much.\n"
     ]
    }
   ],
   "source": [
    "print (\"Overall, women care about substantive qualities such as fidelity, intelligence, kindness, and sense of humor\", round (((data_female[\"Fidelity\"].mean()+ data_female[\"Sharedvalues\"].mean() + data_female[\"Senseofhumor\"].mean()) + data_female[\"Intelligence\"].mean()+ data_female[\"Kindness\"].mean())/5,2), \"much.\")"
   ]
  }
 ],
 "metadata": {
  "kernelspec": {
   "display_name": "Python 3 (COMM318)",
   "language": "python",
   "name": "python3"
  },
  "language_info": {
   "codemirror_mode": {
    "name": "ipython",
    "version": 3
   },
   "file_extension": ".py",
   "mimetype": "text/x-python",
   "name": "python",
   "nbconvert_exporter": "python",
   "pygments_lexer": "ipython3",
   "version": "3.8.8"
  }
 },
 "nbformat": 4,
 "nbformat_minor": 5
}
