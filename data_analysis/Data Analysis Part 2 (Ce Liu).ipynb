{
 "cells": [
  {
   "cell_type": "markdown",
   "id": "0cddf7a3",
   "metadata": {},
   "source": [
    "## ADD TITLE\n",
    "\n",
    "#### ADD DESCRIPTION OF WHAT NOTEBOOK DOES"
   ]
  },
  {
   "cell_type": "markdown",
   "id": "d8482226",
   "metadata": {},
   "source": [
    "### Setup\n",
    "\n",
    "* only import the modules you need to use"
   ]
  },
  {
   "cell_type": "code",
   "execution_count": 59,
   "id": "8af01125",
   "metadata": {},
   "outputs": [],
   "source": [
    "import pandas as pd\n",
    "from IPython.display import HTML, Markdown, display   # do you use this module?\n",
    "import matplotlib.pyplot as plt\n",
    "import seaborn as sns \n",
    "import numpy as np\n",
    "import scipy.stats as stats\n",
    "import statsmodels as sm\n",
    "import statsmodels.formula.api as smf"
   ]
  },
  {
   "cell_type": "markdown",
   "id": "c14ceba7",
   "metadata": {},
   "source": [
    "### Load dataset\n",
    "\n",
    "* Drop outliers (`sexpartners` == 1000)\n",
    "\n",
    "* ? What about the age limit to make dataset more comparable to the teen survey data?\n",
    "\n",
    "----\n",
    "\n",
    "* HERE USING THE CLEANED DATA FROM STEP 1"
   ]
  },
  {
   "cell_type": "code",
   "execution_count": 22,
   "id": "3bfcf75b",
   "metadata": {},
   "outputs": [],
   "source": [
    "data_clean = pd.read_csv('../data/Judy_PSYC_dataset_clean.csv')"
   ]
  },
  {
   "cell_type": "code",
   "execution_count": 23,
   "id": "3cc564ff",
   "metadata": {},
   "outputs": [
    {
     "data": {
      "text/plain": [
       "(193, 26)"
      ]
     },
     "execution_count": 23,
     "metadata": {},
     "output_type": "execute_result"
    }
   ],
   "source": [
    "data_clean.shape"
   ]
  },
  {
   "cell_type": "markdown",
   "id": "b2b3f38a",
   "metadata": {},
   "source": [
    "# Question 1\n",
    "## Is there a statistically significant difference between the number of ideal sexual partners for males and females?"
   ]
  },
  {
   "cell_type": "markdown",
   "id": "28fc1641",
   "metadata": {},
   "source": [
    "Setting up filters to split the dataset into male and female datasets"
   ]
  },
  {
   "cell_type": "code",
   "execution_count": 30,
   "id": "5e438695",
   "metadata": {},
   "outputs": [],
   "source": [
    "female = data_clean[\"Sex_Female_0_Male1\"] == 0\n",
    "data_female = data_clean[female]\n",
    "\n",
    "male = data_clean[\"Sex_Female_0_Male1\"] == 1\n",
    "data_male = data_clean[male]"
   ]
  },
  {
   "cell_type": "markdown",
   "id": "6a7bdb6b",
   "metadata": {},
   "source": [
    "Setting up to conduct a two-sample t test:\n",
    "\n",
    "\n",
    "H0: µ1 = µ2 (the two population means are equal)\n",
    "\n",
    "HA: µ1 ≠µ2 (the two population means are not equal)"
   ]
  },
  {
   "cell_type": "code",
   "execution_count": 31,
   "id": "9a5629bf",
   "metadata": {},
   "outputs": [
    {
     "ename": "SyntaxError",
     "evalue": "invalid syntax (496928786.py, line 1)",
     "output_type": "error",
     "traceback": [
      "\u001b[0;36m  File \u001b[0;32m\"/tmp/ipykernel_1684185/496928786.py\"\u001b[0;36m, line \u001b[0;32m1\u001b[0m\n\u001b[0;31m    <div class=\"alert alert-info\">\u001b[0m\n\u001b[0m    ^\u001b[0m\n\u001b[0;31mSyntaxError\u001b[0m\u001b[0;31m:\u001b[0m invalid syntax\n"
     ]
    }
   ],
   "source": [
    "<div class=\"alert alert-info\">\n",
    "\n",
    "\n",
    "\n",
    "</div>"
   ]
  },
  {
   "cell_type": "code",
   "execution_count": 32,
   "id": "1b430677",
   "metadata": {},
   "outputs": [
    {
     "data": {
      "text/plain": [
       "<AxesSubplot:xlabel='sex', ylabel='sexpartners'>"
      ]
     },
     "execution_count": 32,
     "metadata": {},
     "output_type": "execute_result"
    },
    {
     "data": {
      "image/png": "[encoded data removed]",
      "text/plain": [
       "<Figure size 432x288 with 1 Axes>"
      ]
     },
     "metadata": {
      "needs_background": "light"
     },
     "output_type": "display_data"
    }
   ],
   "source": [
    "sns.boxplot(x='sex', y='sexpartners', \n",
    "            data=data_clean, notch=True)"
   ]
  },
  {
   "cell_type": "markdown",
   "id": "18b687d0",
   "metadata": {},
   "source": [
    "Calculating the variances between the two measures first:"
   ]
  },
  {
   "cell_type": "code",
   "execution_count": 33,
   "id": "0c4521c6",
   "metadata": {},
   "outputs": [
    {
     "name": "stdout",
     "output_type": "stream",
     "text": [
      "43.229272959183675 239.10958695320835\n"
     ]
    }
   ],
   "source": [
    "print(np.var(data_female[\"sexpartners\"]), np.var(data_male[\"sexpartners\"]))"
   ]
  },
  {
   "cell_type": "code",
   "execution_count": 34,
   "id": "3746d9ff",
   "metadata": {},
   "outputs": [
    {
     "name": "stdout",
     "output_type": "stream",
     "text": [
      "5.608640761562746\n"
     ]
    }
   ],
   "source": [
    "print(233.34467120181407/41.6044958345303)"
   ]
  },
  {
   "cell_type": "markdown",
   "id": "5d034b71",
   "metadata": {},
   "source": [
    "The ratio between the variances are >4, and as a rule of thumb, the variances do not equal to each other."
   ]
  },
  {
   "cell_type": "markdown",
   "id": "d243eb5d",
   "metadata": {},
   "source": [
    "Performing two-sample t-test between two samples with different variances."
   ]
  },
  {
   "cell_type": "code",
   "execution_count": 35,
   "id": "d68f1e78",
   "metadata": {},
   "outputs": [
    {
     "data": {
      "text/plain": [
       "Ttest_indResult(statistic=-4.888773377798691, pvalue=3.832050122430137e-06)"
      ]
     },
     "execution_count": 35,
     "metadata": {},
     "output_type": "execute_result"
    }
   ],
   "source": [
    "stats.ttest_ind(a=data_female[\"sexpartners\"], b=data_male[\"sexpartners\"], equal_var=False)"
   ]
  },
  {
   "cell_type": "markdown",
   "id": "85dc7752",
   "metadata": {},
   "source": [
    "The t test statistic is -4.959580941656057 and the corresponding two-sided p-value is 2.758104295617958e-06."
   ]
  },
  {
   "cell_type": "markdown",
   "id": "7793f879",
   "metadata": {},
   "source": [
    "Therefore, we reject the null hypothesis that the two population means are equal. The p-value of the statstics test is significant. Males and females differ significantly in terms of their ideal number of sexual partners, with females listing way lower numbers than males."
   ]
  },
  {
   "cell_type": "markdown",
   "id": "70e2d741",
   "metadata": {},
   "source": [
    "# Question 2\n",
    "## Is there a statistically significant difference between the placed importance of wealth for males and females?"
   ]
  },
  {
   "cell_type": "code",
   "execution_count": 9,
   "id": "0bb83fd2",
   "metadata": {},
   "outputs": [
    {
     "name": "stdout",
     "output_type": "stream",
     "text": [
      "588.5229100833095 395.79535147392284\n"
     ]
    }
   ],
   "source": [
    "print(np.var(data_female[\"Wealth\"]), np.var(data_male[\"Wealth\"]))"
   ]
  },
  {
   "cell_type": "code",
   "execution_count": 37,
   "id": "45e84e38",
   "metadata": {},
   "outputs": [],
   "source": [
    "### REMEMBER TO ROUND THE RESULTS!"
   ]
  },
  {
   "cell_type": "code",
   "execution_count": 38,
   "id": "fc2cb186",
   "metadata": {},
   "outputs": [
    {
     "name": "stdout",
     "output_type": "stream",
     "text": [
      "1.49\n"
     ]
    }
   ],
   "source": [
    "print(round(588.5229100833095/395.79535147392284,2))"
   ]
  },
  {
   "cell_type": "code",
   "execution_count": 11,
   "id": "b6c19c5f",
   "metadata": {},
   "outputs": [
    {
     "data": {
      "text/plain": [
       "Ttest_indResult(statistic=4.739347579789994, pvalue=4.063660354805862e-06)"
      ]
     },
     "execution_count": 11,
     "metadata": {},
     "output_type": "execute_result"
    }
   ],
   "source": [
    "stats.ttest_ind(a=data_female[\"Wealth\"], b=data_male[\"Wealth\"], equal_var=True)"
   ]
  },
  {
   "cell_type": "markdown",
   "id": "34a6582b",
   "metadata": {},
   "source": [
    "The t test statistic is -4.959580941656057 and the corresponding two-sided p-value is 2.758104295617958e-06."
   ]
  },
  {
   "cell_type": "markdown",
   "id": "f0d07ddb",
   "metadata": {},
   "source": [
    "Therefore, we fail to reject the null hypothesis that the two population means are equal. The p-value of the statstics test is significant. Males and females differ significantly in terms of their ideal parter's wealth level, with females caring way more about wealth than males."
   ]
  },
  {
   "cell_type": "markdown",
   "id": "c41b94b5",
   "metadata": {},
   "source": [
    "# Question 3\n",
    "## Is there a statistically significant correlation between the placed importance of shared values and political orientation?"
   ]
  },
  {
   "cell_type": "markdown",
   "id": "feacb16b",
   "metadata": {},
   "source": [
    "<div class=\"alert alert-warning\">\n",
    "\n",
    "    \n",
    "* What are `shared_values`? (need more info in your description about questions asked and also the political orientation is on a dichotimized scale\n",
    "\n",
    "    \n",
    "* Spell out what the relationship would mean, i.e. a positive relationhsup would mean\n",
    "    * _As individuals report being more conservative it is more important that they hold the same values as their romantic partner._\n",
    "    \n",
    "</div>"
   ]
  },
  {
   "cell_type": "code",
   "execution_count": 42,
   "id": "4554ac86",
   "metadata": {},
   "outputs": [
    {
     "data": {
      "text/plain": [
       "array([[<AxesSubplot:title={'center':'Sharedvalues'}>,\n",
       "        <AxesSubplot:title={'center':'politicalorientation_1extremelyliberal_7extremelyconservative'}>]],\n",
       "      dtype=object)"
      ]
     },
     "execution_count": 42,
     "metadata": {},
     "output_type": "execute_result"
    },
    {
     "data": {
      "image/png": "[encoded data removed]",
      "text/plain": [
       "<Figure size 432x288 with 2 Axes>"
      ]
     },
     "metadata": {
      "needs_background": "light"
     },
     "output_type": "display_data"
    }
   ],
   "source": [
    "# understanding the variables \n",
    "# inspect histograms \n",
    "\n",
    "data_clean[['Sharedvalues', \n",
    "            'politicalorientation_1extremelyliberal_7extremelyconservative']].hist()"
   ]
  },
  {
   "cell_type": "code",
   "execution_count": 44,
   "id": "9b5f463b",
   "metadata": {},
   "outputs": [
    {
     "data": {
      "text/plain": [
       "<AxesSubplot:xlabel='politicalorientation_1extremelyliberal_7extremelyconservative', ylabel='Sharedvalues'>"
      ]
     },
     "execution_count": 44,
     "metadata": {},
     "output_type": "execute_result"
    },
    {
     "data": {
      "image/png": "[encoded data removed]",
      "text/plain": [
       "<Figure size 432x288 with 1 Axes>"
      ]
     },
     "metadata": {
      "needs_background": "light"
     },
     "output_type": "display_data"
    }
   ],
   "source": [
    "# looking at the relationshiop between the two variables\n",
    "data_clean.plot(y='Sharedvalues', \n",
    "                x='politicalorientation_1extremelyliberal_7extremelyconservative',\n",
    "                kind='scatter')"
   ]
  },
  {
   "cell_type": "code",
   "execution_count": 45,
   "id": "7b93fa97",
   "metadata": {},
   "outputs": [],
   "source": [
    "# doesn't look like there is a relationship"
   ]
  },
  {
   "cell_type": "code",
   "execution_count": 50,
   "id": "edcee968",
   "metadata": {},
   "outputs": [
    {
     "data": {
      "text/plain": [
       "<AxesSubplot:xlabel='politicalorientation_1extremelyliberal_7extremelyconservative', ylabel='Sharedvalues'>"
      ]
     },
     "execution_count": 50,
     "metadata": {},
     "output_type": "execute_result"
    },
    {
     "data": {
      "image/png": "[encoded data removed]",
      "text/plain": [
       "<Figure size 432x288 with 1 Axes>"
      ]
     },
     "metadata": {
      "needs_background": "light"
     },
     "output_type": "display_data"
    }
   ],
   "source": [
    "# another view would be a box plot\n",
    "sns.boxplot(y='Sharedvalues', \n",
    "            x='politicalorientation_1extremelyliberal_7extremelyconservative',\n",
    "            data=data_clean, notch=True)\n"
   ]
  },
  {
   "cell_type": "code",
   "execution_count": 12,
   "id": "4c797fa3",
   "metadata": {},
   "outputs": [
    {
     "data": {
      "text/html": [
       "<table class=\"simpletable\">\n",
       "<caption>OLS Regression Results</caption>\n",
       "<tr>\n",
       "  <th>Dep. Variable:</th>      <td>Sharedvalues</td>   <th>  R-squared:         </th> <td>   0.004</td>\n",
       "</tr>\n",
       "<tr>\n",
       "  <th>Model:</th>                   <td>OLS</td>       <th>  Adj. R-squared:    </th> <td>  -0.001</td>\n",
       "</tr>\n",
       "<tr>\n",
       "  <th>Method:</th>             <td>Least Squares</td>  <th>  F-statistic:       </th> <td>  0.7936</td>\n",
       "</tr>\n",
       "<tr>\n",
       "  <th>Date:</th>             <td>Wed, 24 Nov 2021</td> <th>  Prob (F-statistic):</th>  <td> 0.374</td> \n",
       "</tr>\n",
       "<tr>\n",
       "  <th>Time:</th>                 <td>16:56:19</td>     <th>  Log-Likelihood:    </th> <td> -912.83</td>\n",
       "</tr>\n",
       "<tr>\n",
       "  <th>No. Observations:</th>      <td>   202</td>      <th>  AIC:               </th> <td>   1830.</td>\n",
       "</tr>\n",
       "<tr>\n",
       "  <th>Df Residuals:</th>          <td>   200</td>      <th>  BIC:               </th> <td>   1836.</td>\n",
       "</tr>\n",
       "<tr>\n",
       "  <th>Df Model:</th>              <td>     1</td>      <th>                     </th>     <td> </td>   \n",
       "</tr>\n",
       "<tr>\n",
       "  <th>Covariance Type:</th>      <td>nonrobust</td>    <th>                     </th>     <td> </td>   \n",
       "</tr>\n",
       "</table>\n",
       "<table class=\"simpletable\">\n",
       "<tr>\n",
       "                                <td></td>                                   <th>coef</th>     <th>std err</th>      <th>t</th>      <th>P>|t|</th>  <th>[0.025</th>    <th>0.975]</th>  \n",
       "</tr>\n",
       "<tr>\n",
       "  <th>Intercept</th>                                                     <td>   56.5892</td> <td>    4.443</td> <td>   12.736</td> <td> 0.000</td> <td>   47.827</td> <td>   65.351</td>\n",
       "</tr>\n",
       "<tr>\n",
       "  <th>politicalorientation_1extremelyliberal_7extremelyconservative</th> <td>   -1.4638</td> <td>    1.643</td> <td>   -0.891</td> <td> 0.374</td> <td>   -4.704</td> <td>    1.776</td>\n",
       "</tr>\n",
       "</table>\n",
       "<table class=\"simpletable\">\n",
       "<tr>\n",
       "  <th>Omnibus:</th>       <td> 0.354</td> <th>  Durbin-Watson:     </th> <td>   1.762</td>\n",
       "</tr>\n",
       "<tr>\n",
       "  <th>Prob(Omnibus):</th> <td> 0.838</td> <th>  Jarque-Bera (JB):  </th> <td>   0.502</td>\n",
       "</tr>\n",
       "<tr>\n",
       "  <th>Skew:</th>          <td> 0.004</td> <th>  Prob(JB):          </th> <td>   0.778</td>\n",
       "</tr>\n",
       "<tr>\n",
       "  <th>Kurtosis:</th>      <td> 2.756</td> <th>  Cond. No.          </th> <td>    8.58</td>\n",
       "</tr>\n",
       "</table><br/><br/>Notes:<br/>[1] Standard Errors assume that the covariance matrix of the errors is correctly specified."
      ],
      "text/plain": [
       "<class 'statsmodels.iolib.summary.Summary'>\n",
       "\"\"\"\n",
       "                            OLS Regression Results                            \n",
       "==============================================================================\n",
       "Dep. Variable:           Sharedvalues   R-squared:                       0.004\n",
       "Model:                            OLS   Adj. R-squared:                 -0.001\n",
       "Method:                 Least Squares   F-statistic:                    0.7936\n",
       "Date:                Wed, 24 Nov 2021   Prob (F-statistic):              0.374\n",
       "Time:                        16:56:19   Log-Likelihood:                -912.83\n",
       "No. Observations:                 202   AIC:                             1830.\n",
       "Df Residuals:                     200   BIC:                             1836.\n",
       "Df Model:                           1                                         \n",
       "Covariance Type:            nonrobust                                         \n",
       "=================================================================================================================================\n",
       "                                                                    coef    std err          t      P>|t|      [0.025      0.975]\n",
       "---------------------------------------------------------------------------------------------------------------------------------\n",
       "Intercept                                                        56.5892      4.443     12.736      0.000      47.827      65.351\n",
       "politicalorientation_1extremelyliberal_7extremelyconservative    -1.4638      1.643     -0.891      0.374      -4.704       1.776\n",
       "==============================================================================\n",
       "Omnibus:                        0.354   Durbin-Watson:                   1.762\n",
       "Prob(Omnibus):                  0.838   Jarque-Bera (JB):                0.502\n",
       "Skew:                           0.004   Prob(JB):                        0.778\n",
       "Kurtosis:                       2.756   Cond. No.                         8.58\n",
       "==============================================================================\n",
       "\n",
       "Notes:\n",
       "[1] Standard Errors assume that the covariance matrix of the errors is correctly specified.\n",
       "\"\"\""
      ]
     },
     "execution_count": 12,
     "metadata": {},
     "output_type": "execute_result"
    }
   ],
   "source": [
    "mod = smf.ols(formula='Sharedvalues ~ politicalorientation_1extremelyliberal_7extremelyconservative', data=data_clean)\n",
    "res = mod.fit()\n",
    "res.summary()"
   ]
  },
  {
   "cell_type": "markdown",
   "id": "d27390e4",
   "metadata": {},
   "source": [
    "Political orientation does not have a statistically meaningful relationship with the placed value on shared values."
   ]
  },
  {
   "cell_type": "markdown",
   "id": "a0d65c1a",
   "metadata": {},
   "source": [
    "# Question 4\n",
    "## Is there a statistically significant difference between the placed importance of socialattractiveness for people currently in a relationship and singles?"
   ]
  },
  {
   "cell_type": "markdown",
   "id": "35f9165a",
   "metadata": {},
   "source": [
    "Setting up filters to split the dataset into in a relationship and singles datasets"
   ]
  },
  {
   "cell_type": "code",
   "execution_count": 63,
   "id": "810e716a",
   "metadata": {},
   "outputs": [],
   "source": [
    "relationship = data_clean[\"Relationship_Yes1_No0\"] == 1\n",
    "data_relationship = data_clean[relationship]\n",
    "\n",
    "# IS THIS CORRECT? - do you want to look at \n",
    "# the sex variable or the relationship one?\n",
    "single = data_clean[\"Sex_Female_0_Male1\"] == 0\n",
    "data_single = data_clean[single]"
   ]
  },
  {
   "cell_type": "code",
   "execution_count": 14,
   "id": "eb9a995c",
   "metadata": {},
   "outputs": [
    {
     "name": "stdout",
     "output_type": "stream",
     "text": [
      "110.07322668650795 134.7655307382936\n"
     ]
    }
   ],
   "source": [
    "print(np.var(data_relationship[\"socialattractiveness\"]), np.var(data_single[\"socialattractiveness\"]))"
   ]
  },
  {
   "cell_type": "code",
   "execution_count": 15,
   "id": "d38fdeb1",
   "metadata": {},
   "outputs": [
    {
     "name": "stdout",
     "output_type": "stream",
     "text": [
      "1.2243261580957385\n"
     ]
    }
   ],
   "source": [
    "print(134.7655307382936/110.07322668650795)"
   ]
  },
  {
   "cell_type": "code",
   "execution_count": 16,
   "id": "a42fed44",
   "metadata": {},
   "outputs": [
    {
     "data": {
      "text/plain": [
       "Ttest_indResult(statistic=-0.9076964734740546, pvalue=0.365130997896845)"
      ]
     },
     "execution_count": 16,
     "metadata": {},
     "output_type": "execute_result"
    }
   ],
   "source": [
    "stats.ttest_ind(a=data_relationship[\"socialattractiveness\"], b=data_single[\"socialattractiveness\"], equal_var=True)"
   ]
  },
  {
   "cell_type": "markdown",
   "id": "5cbc3b3a",
   "metadata": {},
   "source": [
    "The t test statistic is 0.9076964734740546 and the corresponding two-sided p-value is 0.365130997896845."
   ]
  },
  {
   "cell_type": "markdown",
   "id": "dc4ad56e",
   "metadata": {},
   "source": [
    "Therefore, we fail to reject the null hypothesis that the two population means are equal. The p-value of the statstics test is not significant. Being in a relationship does not make one care more or less about one's ideal partner's social attractiveness."
   ]
  },
  {
   "cell_type": "markdown",
   "id": "df7bc159",
   "metadata": {},
   "source": [
    "<div class=\"alert alert-warning\">\n",
    "\n",
    "* Double check your working above\n",
    "\n",
    "* Here is another way to do it using `weightstats.ttest_ind` from statsmodels (https://www.statsmodels.org/dev/generated/statsmodels.stats.weightstats.ttest_ind.html)\n",
    "\n",
    "</div>"
   ]
  },
  {
   "cell_type": "code",
   "execution_count": 72,
   "id": "adc52ad2",
   "metadata": {},
   "outputs": [
    {
     "data": {
      "text/plain": [
       "<AxesSubplot:xlabel='Relationship_Yes1_No0', ylabel='socialattractiveness'>"
      ]
     },
     "execution_count": 72,
     "metadata": {},
     "output_type": "execute_result"
    },
    {
     "data": {
      "image/png": "[encoded data removed]",
      "text/plain": [
       "<Figure size 432x288 with 1 Axes>"
      ]
     },
     "metadata": {
      "needs_background": "light"
     },
     "output_type": "display_data"
    }
   ],
   "source": [
    "# first plot the data\n",
    "\n",
    "sns.boxplot(x='Relationship_Yes1_No0',\n",
    "            y='socialattractiveness',\n",
    "            data=data_clean\n",
    "           )"
   ]
  },
  {
   "cell_type": "code",
   "execution_count": 74,
   "id": "2a675f5c",
   "metadata": {},
   "outputs": [],
   "source": [
    "# select the column for the y variable\n",
    "# and then use your relationship filter\n",
    "\n",
    "y_socialattract = data_clean['socialattractiveness']\n",
    "\n",
    "# use three named pointers to capture result\n",
    "# which is t statistics, p value and dfs\n",
    "tstat, pvalue, df =  sm.stats.weightstats.ttest_ind(\n",
    "    x1=y_socialattract[-relationship],\n",
    "    x2=y_socialattract[relationship])"
   ]
  },
  {
   "cell_type": "code",
   "execution_count": 75,
   "id": "30beb42d",
   "metadata": {},
   "outputs": [
    {
     "name": "stdout",
     "output_type": "stream",
     "text": [
      "t=-1.19 p=0.24 with 191.0 degrees of freedom\n"
     ]
    }
   ],
   "source": [
    "print(f't={tstat:0.2f} p={pvalue:0.2f} with {df} degrees of freedom')"
   ]
  },
  {
   "cell_type": "code",
   "execution_count": null,
   "id": "9adf64ea",
   "metadata": {},
   "outputs": [],
   "source": []
  },
  {
   "cell_type": "markdown",
   "id": "a30de9b6",
   "metadata": {},
   "source": [
    "# Question 5\n",
    "## If we focus on analyze respondents younger that 30 years old, is there still a statistically significant relationship between the placed importance on wealth and age?"
   ]
  },
  {
   "cell_type": "code",
   "execution_count": 17,
   "id": "96be1102",
   "metadata": {},
   "outputs": [],
   "source": [
    "age_filter = data[\"Age\"] <=30\n",
    "data_age = data[age_filter]"
   ]
  },
  {
   "cell_type": "code",
   "execution_count": 19,
   "id": "cd3abf48",
   "metadata": {},
   "outputs": [
    {
     "data": {
      "text/html": [
       "<table class=\"simpletable\">\n",
       "<caption>OLS Regression Results</caption>\n",
       "<tr>\n",
       "  <th>Dep. Variable:</th>         <td>Wealth</td>      <th>  R-squared:         </th> <td>   0.010</td>\n",
       "</tr>\n",
       "<tr>\n",
       "  <th>Model:</th>                   <td>OLS</td>       <th>  Adj. R-squared:    </th> <td>   0.005</td>\n",
       "</tr>\n",
       "<tr>\n",
       "  <th>Method:</th>             <td>Least Squares</td>  <th>  F-statistic:       </th> <td>   1.887</td>\n",
       "</tr>\n",
       "<tr>\n",
       "  <th>Date:</th>             <td>Wed, 24 Nov 2021</td> <th>  Prob (F-statistic):</th>  <td> 0.171</td> \n",
       "</tr>\n",
       "<tr>\n",
       "  <th>Time:</th>                 <td>16:56:23</td>     <th>  Log-Likelihood:    </th> <td> -883.00</td>\n",
       "</tr>\n",
       "<tr>\n",
       "  <th>No. Observations:</th>      <td>   194</td>      <th>  AIC:               </th> <td>   1770.</td>\n",
       "</tr>\n",
       "<tr>\n",
       "  <th>Df Residuals:</th>          <td>   192</td>      <th>  BIC:               </th> <td>   1777.</td>\n",
       "</tr>\n",
       "<tr>\n",
       "  <th>Df Model:</th>              <td>     1</td>      <th>                     </th>     <td> </td>   \n",
       "</tr>\n",
       "<tr>\n",
       "  <th>Covariance Type:</th>      <td>nonrobust</td>    <th>                     </th>     <td> </td>   \n",
       "</tr>\n",
       "</table>\n",
       "<table class=\"simpletable\">\n",
       "<tr>\n",
       "      <td></td>         <th>coef</th>     <th>std err</th>      <th>t</th>      <th>P>|t|</th>  <th>[0.025</th>    <th>0.975]</th>  \n",
       "</tr>\n",
       "<tr>\n",
       "  <th>Intercept</th> <td>   -2.3528</td> <td>   20.394</td> <td>   -0.115</td> <td> 0.908</td> <td>  -42.578</td> <td>   37.872</td>\n",
       "</tr>\n",
       "<tr>\n",
       "  <th>Age</th>       <td>    1.3213</td> <td>    0.962</td> <td>    1.374</td> <td> 0.171</td> <td>   -0.576</td> <td>    3.218</td>\n",
       "</tr>\n",
       "</table>\n",
       "<table class=\"simpletable\">\n",
       "<tr>\n",
       "  <th>Omnibus:</th>       <td>27.399</td> <th>  Durbin-Watson:     </th> <td>   1.390</td>\n",
       "</tr>\n",
       "<tr>\n",
       "  <th>Prob(Omnibus):</th> <td> 0.000</td> <th>  Jarque-Bera (JB):  </th> <td>  34.362</td>\n",
       "</tr>\n",
       "<tr>\n",
       "  <th>Skew:</th>          <td> 0.946</td> <th>  Prob(JB):          </th> <td>3.46e-08</td>\n",
       "</tr>\n",
       "<tr>\n",
       "  <th>Kurtosis:</th>      <td> 3.821</td> <th>  Cond. No.          </th> <td>    262.</td>\n",
       "</tr>\n",
       "</table><br/><br/>Notes:<br/>[1] Standard Errors assume that the covariance matrix of the errors is correctly specified."
      ],
      "text/plain": [
       "<class 'statsmodels.iolib.summary.Summary'>\n",
       "\"\"\"\n",
       "                            OLS Regression Results                            \n",
       "==============================================================================\n",
       "Dep. Variable:                 Wealth   R-squared:                       0.010\n",
       "Model:                            OLS   Adj. R-squared:                  0.005\n",
       "Method:                 Least Squares   F-statistic:                     1.887\n",
       "Date:                Wed, 24 Nov 2021   Prob (F-statistic):              0.171\n",
       "Time:                        16:56:23   Log-Likelihood:                -883.00\n",
       "No. Observations:                 194   AIC:                             1770.\n",
       "Df Residuals:                     192   BIC:                             1777.\n",
       "Df Model:                           1                                         \n",
       "Covariance Type:            nonrobust                                         \n",
       "==============================================================================\n",
       "                 coef    std err          t      P>|t|      [0.025      0.975]\n",
       "------------------------------------------------------------------------------\n",
       "Intercept     -2.3528     20.394     -0.115      0.908     -42.578      37.872\n",
       "Age            1.3213      0.962      1.374      0.171      -0.576       3.218\n",
       "==============================================================================\n",
       "Omnibus:                       27.399   Durbin-Watson:                   1.390\n",
       "Prob(Omnibus):                  0.000   Jarque-Bera (JB):               34.362\n",
       "Skew:                           0.946   Prob(JB):                     3.46e-08\n",
       "Kurtosis:                       3.821   Cond. No.                         262.\n",
       "==============================================================================\n",
       "\n",
       "Notes:\n",
       "[1] Standard Errors assume that the covariance matrix of the errors is correctly specified.\n",
       "\"\"\""
      ]
     },
     "execution_count": 19,
     "metadata": {},
     "output_type": "execute_result"
    }
   ],
   "source": [
    "mod = smf.ols(formula='Wealth ~ Age', data=data_age)\n",
    "res = mod.fit()\n",
    "res.summary()"
   ]
  },
  {
   "cell_type": "markdown",
   "id": "4e379003",
   "metadata": {},
   "source": [
    "We here see than under the age of 30, age is not a significant factor in valuing the importance of wealth in a partner."
   ]
  }
 ],
 "metadata": {
  "kernelspec": {
   "display_name": "Python 3 (COMM318)",
   "language": "python",
   "name": "python3"
  },
  "language_info": {
   "codemirror_mode": {
    "name": "ipython",
    "version": 3
   },
   "file_extension": ".py",
   "mimetype": "text/x-python",
   "name": "python",
   "nbconvert_exporter": "python",
   "pygments_lexer": "ipython3",
   "version": "3.8.8"
  }
 },
 "nbformat": 4,
 "nbformat_minor": 5
}
